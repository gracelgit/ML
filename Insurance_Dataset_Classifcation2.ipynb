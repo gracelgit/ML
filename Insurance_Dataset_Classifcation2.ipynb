{
  "nbformat": 4,
  "nbformat_minor": 0,
  "metadata": {
    "colab": {
      "name": "Insurance Dataset Classifcation2.ipynb",
      "provenance": [],
      "collapsed_sections": []
    },
    "kernelspec": {
      "name": "python3",
      "display_name": "Python 3"
    },
    "language_info": {
      "name": "python"
    }
  },
  "cells": [
    {
      "cell_type": "code",
      "source": [
        "#!pip install catboost\n",
        "#!pip install category_encoders"
      ],
      "metadata": {
        "id": "_XyCmKvPDSwB"
      },
      "execution_count": 3,
      "outputs": []
    },
    {
      "cell_type": "code",
      "execution_count": 4,
      "metadata": {
        "id": "tLFTao5kDFff"
      },
      "outputs": [],
      "source": [
        "import pandas as pd \n",
        "import numpy as np\n",
        "from sklearn.metrics import confusion_matrix\n",
        "from sklearn.metrics import accuracy_score, f1_score, precision_score, recall_score\n",
        "from sklearn.metrics import confusion_matrix, roc_auc_score, plot_confusion_matrix, classification_report\n",
        "import time\n",
        "\n",
        "from sklearn.preprocessing import StandardScaler\n",
        "from sklearn.preprocessing import RobustScaler\n",
        "from sklearn.preprocessing import MinMaxScaler\n",
        "\n",
        "from sklearn.ensemble import RandomForestClassifier\n",
        "from sklearn.neighbors import KNeighborsClassifier\n",
        "from sklearn.neural_network import MLPClassifier\n",
        "\n",
        "from sklearn.linear_model import LogisticRegression\n",
        "from sklearn.naive_bayes import GaussianNB\n",
        "from sklearn.ensemble import GradientBoostingClassifier\n",
        "from sklearn.svm import SVC\n",
        "from sklearn.tree import DecisionTreeClassifier\n",
        "from catboost import CatBoostClassifier\n",
        "from xgboost import XGBClassifier \n",
        "from sklearn.ensemble import AdaBoostClassifier\n",
        "from sklearn.naive_bayes import MultinomialNB\n",
        "from sklearn.naive_bayes import BernoulliNB\n",
        "\n",
        "import matplotlib.pyplot as plt\n",
        "import seaborn as sn\n",
        "from lightgbm import LGBMClassifier"
      ]
    },
    {
      "cell_type": "code",
      "source": [
        "import category_encoders as ce"
      ],
      "metadata": {
        "colab": {
          "base_uri": "https://localhost:8080/"
        },
        "id": "CDolPZ2aEFQc",
        "outputId": "56d4e905-bc7d-4b38-b537-09e6903a5315"
      },
      "execution_count": 5,
      "outputs": [
        {
          "output_type": "stream",
          "name": "stderr",
          "text": [
            "/usr/local/lib/python3.7/dist-packages/statsmodels/tools/_testing.py:19: FutureWarning: pandas.util.testing is deprecated. Use the functions in the public API at pandas.testing instead.\n",
            "  import pandas.util.testing as tm\n"
          ]
        }
      ]
    },
    {
      "cell_type": "code",
      "source": [
        "#LOAD DATASET\n",
        "data=pd.read_csv('/content/insurance.csv', header=0)\n",
        "data.head(2)"
      ],
      "metadata": {
        "colab": {
          "base_uri": "https://localhost:8080/",
          "height": 141
        },
        "id": "P2afRQcIDnMV",
        "outputId": "a2a757c4-0c9b-47b0-9a56-df012994d773"
      },
      "execution_count": 6,
      "outputs": [
        {
          "output_type": "execute_result",
          "data": {
            "text/plain": [
              "   Unnamed: 0 V1  V2 V3 V4    V5 V6 V7  V8 V9  ... V12  V13 V14  V15 V16 V17  \\\n",
              "0           1  B  18  E  D  1295  A  B   4  B  ...   B   27   C    B   2   C   \n",
              "1           2  D  21  C  A  2782  C  D   1  B  ...   C   31   A    B   1   D   \n",
              "\n",
              "   V18 V19  V20 V21  \n",
              "0    1   A    A   1  \n",
              "1    1   A    A   1  \n",
              "\n",
              "[2 rows x 22 columns]"
            ],
            "text/html": [
              "\n",
              "  <div id=\"df-7b3aba0c-6601-4348-9926-02772eb3536c\">\n",
              "    <div class=\"colab-df-container\">\n",
              "      <div>\n",
              "<style scoped>\n",
              "    .dataframe tbody tr th:only-of-type {\n",
              "        vertical-align: middle;\n",
              "    }\n",
              "\n",
              "    .dataframe tbody tr th {\n",
              "        vertical-align: top;\n",
              "    }\n",
              "\n",
              "    .dataframe thead th {\n",
              "        text-align: right;\n",
              "    }\n",
              "</style>\n",
              "<table border=\"1\" class=\"dataframe\">\n",
              "  <thead>\n",
              "    <tr style=\"text-align: right;\">\n",
              "      <th></th>\n",
              "      <th>Unnamed: 0</th>\n",
              "      <th>V1</th>\n",
              "      <th>V2</th>\n",
              "      <th>V3</th>\n",
              "      <th>V4</th>\n",
              "      <th>V5</th>\n",
              "      <th>V6</th>\n",
              "      <th>V7</th>\n",
              "      <th>V8</th>\n",
              "      <th>V9</th>\n",
              "      <th>...</th>\n",
              "      <th>V12</th>\n",
              "      <th>V13</th>\n",
              "      <th>V14</th>\n",
              "      <th>V15</th>\n",
              "      <th>V16</th>\n",
              "      <th>V17</th>\n",
              "      <th>V18</th>\n",
              "      <th>V19</th>\n",
              "      <th>V20</th>\n",
              "      <th>V21</th>\n",
              "    </tr>\n",
              "  </thead>\n",
              "  <tbody>\n",
              "    <tr>\n",
              "      <th>0</th>\n",
              "      <td>1</td>\n",
              "      <td>B</td>\n",
              "      <td>18</td>\n",
              "      <td>E</td>\n",
              "      <td>D</td>\n",
              "      <td>1295</td>\n",
              "      <td>A</td>\n",
              "      <td>B</td>\n",
              "      <td>4</td>\n",
              "      <td>B</td>\n",
              "      <td>...</td>\n",
              "      <td>B</td>\n",
              "      <td>27</td>\n",
              "      <td>C</td>\n",
              "      <td>B</td>\n",
              "      <td>2</td>\n",
              "      <td>C</td>\n",
              "      <td>1</td>\n",
              "      <td>A</td>\n",
              "      <td>A</td>\n",
              "      <td>1</td>\n",
              "    </tr>\n",
              "    <tr>\n",
              "      <th>1</th>\n",
              "      <td>2</td>\n",
              "      <td>D</td>\n",
              "      <td>21</td>\n",
              "      <td>C</td>\n",
              "      <td>A</td>\n",
              "      <td>2782</td>\n",
              "      <td>C</td>\n",
              "      <td>D</td>\n",
              "      <td>1</td>\n",
              "      <td>B</td>\n",
              "      <td>...</td>\n",
              "      <td>C</td>\n",
              "      <td>31</td>\n",
              "      <td>A</td>\n",
              "      <td>B</td>\n",
              "      <td>1</td>\n",
              "      <td>D</td>\n",
              "      <td>1</td>\n",
              "      <td>A</td>\n",
              "      <td>A</td>\n",
              "      <td>1</td>\n",
              "    </tr>\n",
              "  </tbody>\n",
              "</table>\n",
              "<p>2 rows × 22 columns</p>\n",
              "</div>\n",
              "      <button class=\"colab-df-convert\" onclick=\"convertToInteractive('df-7b3aba0c-6601-4348-9926-02772eb3536c')\"\n",
              "              title=\"Convert this dataframe to an interactive table.\"\n",
              "              style=\"display:none;\">\n",
              "        \n",
              "  <svg xmlns=\"http://www.w3.org/2000/svg\" height=\"24px\"viewBox=\"0 0 24 24\"\n",
              "       width=\"24px\">\n",
              "    <path d=\"M0 0h24v24H0V0z\" fill=\"none\"/>\n",
              "    <path d=\"M18.56 5.44l.94 2.06.94-2.06 2.06-.94-2.06-.94-.94-2.06-.94 2.06-2.06.94zm-11 1L8.5 8.5l.94-2.06 2.06-.94-2.06-.94L8.5 2.5l-.94 2.06-2.06.94zm10 10l.94 2.06.94-2.06 2.06-.94-2.06-.94-.94-2.06-.94 2.06-2.06.94z\"/><path d=\"M17.41 7.96l-1.37-1.37c-.4-.4-.92-.59-1.43-.59-.52 0-1.04.2-1.43.59L10.3 9.45l-7.72 7.72c-.78.78-.78 2.05 0 2.83L4 21.41c.39.39.9.59 1.41.59.51 0 1.02-.2 1.41-.59l7.78-7.78 2.81-2.81c.8-.78.8-2.07 0-2.86zM5.41 20L4 18.59l7.72-7.72 1.47 1.35L5.41 20z\"/>\n",
              "  </svg>\n",
              "      </button>\n",
              "      \n",
              "  <style>\n",
              "    .colab-df-container {\n",
              "      display:flex;\n",
              "      flex-wrap:wrap;\n",
              "      gap: 12px;\n",
              "    }\n",
              "\n",
              "    .colab-df-convert {\n",
              "      background-color: #E8F0FE;\n",
              "      border: none;\n",
              "      border-radius: 50%;\n",
              "      cursor: pointer;\n",
              "      display: none;\n",
              "      fill: #1967D2;\n",
              "      height: 32px;\n",
              "      padding: 0 0 0 0;\n",
              "      width: 32px;\n",
              "    }\n",
              "\n",
              "    .colab-df-convert:hover {\n",
              "      background-color: #E2EBFA;\n",
              "      box-shadow: 0px 1px 2px rgba(60, 64, 67, 0.3), 0px 1px 3px 1px rgba(60, 64, 67, 0.15);\n",
              "      fill: #174EA6;\n",
              "    }\n",
              "\n",
              "    [theme=dark] .colab-df-convert {\n",
              "      background-color: #3B4455;\n",
              "      fill: #D2E3FC;\n",
              "    }\n",
              "\n",
              "    [theme=dark] .colab-df-convert:hover {\n",
              "      background-color: #434B5C;\n",
              "      box-shadow: 0px 1px 3px 1px rgba(0, 0, 0, 0.15);\n",
              "      filter: drop-shadow(0px 1px 2px rgba(0, 0, 0, 0.3));\n",
              "      fill: #FFFFFF;\n",
              "    }\n",
              "  </style>\n",
              "\n",
              "      <script>\n",
              "        const buttonEl =\n",
              "          document.querySelector('#df-7b3aba0c-6601-4348-9926-02772eb3536c button.colab-df-convert');\n",
              "        buttonEl.style.display =\n",
              "          google.colab.kernel.accessAllowed ? 'block' : 'none';\n",
              "\n",
              "        async function convertToInteractive(key) {\n",
              "          const element = document.querySelector('#df-7b3aba0c-6601-4348-9926-02772eb3536c');\n",
              "          const dataTable =\n",
              "            await google.colab.kernel.invokeFunction('convertToInteractive',\n",
              "                                                     [key], {});\n",
              "          if (!dataTable) return;\n",
              "\n",
              "          const docLinkHtml = 'Like what you see? Visit the ' +\n",
              "            '<a target=\"_blank\" href=https://colab.research.google.com/notebooks/data_table.ipynb>data table notebook</a>'\n",
              "            + ' to learn more about interactive tables.';\n",
              "          element.innerHTML = '';\n",
              "          dataTable['output_type'] = 'display_data';\n",
              "          await google.colab.output.renderOutput(dataTable, element);\n",
              "          const docLink = document.createElement('div');\n",
              "          docLink.innerHTML = docLinkHtml;\n",
              "          element.appendChild(docLink);\n",
              "        }\n",
              "      </script>\n",
              "    </div>\n",
              "  </div>\n",
              "  "
            ]
          },
          "metadata": {},
          "execution_count": 6
        }
      ]
    },
    {
      "cell_type": "code",
      "source": [
        ""
      ],
      "metadata": {
        "id": "Fh97ieKeDp3-"
      },
      "execution_count": 6,
      "outputs": []
    },
    {
      "cell_type": "markdown",
      "source": [
        "**ANALYSIS**"
      ],
      "metadata": {
        "id": "xGb54nkVDuLf"
      }
    },
    {
      "cell_type": "code",
      "source": [
        "data=data.drop('Unnamed: 0', axis=1)\n",
        "data.shape"
      ],
      "metadata": {
        "colab": {
          "base_uri": "https://localhost:8080/"
        },
        "id": "vAYh1MInDyA6",
        "outputId": "5ae5413c-33aa-48a0-9153-2bff2b195e8b"
      },
      "execution_count": 7,
      "outputs": [
        {
          "output_type": "execute_result",
          "data": {
            "text/plain": [
              "(1000, 21)"
            ]
          },
          "metadata": {},
          "execution_count": 7
        }
      ]
    },
    {
      "cell_type": "markdown",
      "source": [
        "*The dataset contains 1000s rows and 21 columns*"
      ],
      "metadata": {
        "id": "DvKGTX_uEBY0"
      }
    },
    {
      "cell_type": "code",
      "source": [
        "# CHECK FOR NULL/NAN VALUES\n",
        "data.isnull().sum()"
      ],
      "metadata": {
        "colab": {
          "base_uri": "https://localhost:8080/"
        },
        "id": "6HKanySZED3F",
        "outputId": "6e5af3eb-eec1-43fb-e5bb-21af27a4a31c"
      },
      "execution_count": 8,
      "outputs": [
        {
          "output_type": "execute_result",
          "data": {
            "text/plain": [
              "V1     0\n",
              "V2     0\n",
              "V3     0\n",
              "V4     0\n",
              "V5     0\n",
              "V6     0\n",
              "V7     0\n",
              "V8     0\n",
              "V9     0\n",
              "V10    0\n",
              "V11    0\n",
              "V12    0\n",
              "V13    0\n",
              "V14    0\n",
              "V15    0\n",
              "V16    0\n",
              "V17    0\n",
              "V18    0\n",
              "V19    0\n",
              "V20    0\n",
              "V21    0\n",
              "dtype: int64"
            ]
          },
          "metadata": {},
          "execution_count": 8
        }
      ]
    },
    {
      "cell_type": "markdown",
      "source": [
        "*The dataset contains no empty cell or column*"
      ],
      "metadata": {
        "id": "hEQN8tj3EK6O"
      }
    },
    {
      "cell_type": "code",
      "source": [
        "#CHECK DATA TYPES FOR EACH COLUMN\n",
        "data.info()"
      ],
      "metadata": {
        "colab": {
          "base_uri": "https://localhost:8080/"
        },
        "id": "jmBaAqrZENYE",
        "outputId": "cdbe9319-4e7a-4fc3-e3fc-b07f2da0a55f"
      },
      "execution_count": 9,
      "outputs": [
        {
          "output_type": "stream",
          "name": "stdout",
          "text": [
            "<class 'pandas.core.frame.DataFrame'>\n",
            "RangeIndex: 1000 entries, 0 to 999\n",
            "Data columns (total 21 columns):\n",
            " #   Column  Non-Null Count  Dtype \n",
            "---  ------  --------------  ----- \n",
            " 0   V1      1000 non-null   object\n",
            " 1   V2      1000 non-null   int64 \n",
            " 2   V3      1000 non-null   object\n",
            " 3   V4      1000 non-null   object\n",
            " 4   V5      1000 non-null   int64 \n",
            " 5   V6      1000 non-null   object\n",
            " 6   V7      1000 non-null   object\n",
            " 7   V8      1000 non-null   int64 \n",
            " 8   V9      1000 non-null   object\n",
            " 9   V10     1000 non-null   object\n",
            " 10  V11     1000 non-null   int64 \n",
            " 11  V12     1000 non-null   object\n",
            " 12  V13     1000 non-null   int64 \n",
            " 13  V14     1000 non-null   object\n",
            " 14  V15     1000 non-null   object\n",
            " 15  V16     1000 non-null   int64 \n",
            " 16  V17     1000 non-null   object\n",
            " 17  V18     1000 non-null   int64 \n",
            " 18  V19     1000 non-null   object\n",
            " 19  V20     1000 non-null   object\n",
            " 20  V21     1000 non-null   int64 \n",
            "dtypes: int64(8), object(13)\n",
            "memory usage: 164.2+ KB\n"
          ]
        }
      ]
    },
    {
      "cell_type": "markdown",
      "source": [
        "*The dataset contains 8 integer columns and 13 non-interger columns*"
      ],
      "metadata": {
        "id": "2WUUpUYkEWj-"
      }
    },
    {
      "cell_type": "code",
      "source": [
        "#CHECK DATA DISTRIBUTION FOR NUMERICAL COLUMNS\n",
        "data.describe()"
      ],
      "metadata": {
        "colab": {
          "base_uri": "https://localhost:8080/",
          "height": 300
        },
        "id": "NnwVBethEZHp",
        "outputId": "a156b603-cef0-4d7f-e550-e755f3dbcf22"
      },
      "execution_count": 10,
      "outputs": [
        {
          "output_type": "execute_result",
          "data": {
            "text/plain": [
              "                V2            V5           V8          V11          V13  \\\n",
              "count  1000.000000   1000.000000  1000.000000  1000.000000  1000.000000   \n",
              "mean     20.903000   3271.258000     2.973000     2.845000    35.546000   \n",
              "std      12.058814   2822.736876     1.118715     1.103718    11.375469   \n",
              "min       4.000000    250.000000     1.000000     1.000000    19.000000   \n",
              "25%      12.000000   1365.500000     2.000000     2.000000    27.000000   \n",
              "50%      18.000000   2319.500000     3.000000     3.000000    33.000000   \n",
              "75%      24.000000   3972.250000     4.000000     4.000000    42.000000   \n",
              "max      72.000000  18424.000000     4.000000     4.000000    75.000000   \n",
              "\n",
              "               V16          V18          V21  \n",
              "count  1000.000000  1000.000000  1000.000000  \n",
              "mean      1.407000     1.155000     1.300000  \n",
              "std       0.577654     0.362086     0.458487  \n",
              "min       1.000000     1.000000     1.000000  \n",
              "25%       1.000000     1.000000     1.000000  \n",
              "50%       1.000000     1.000000     1.000000  \n",
              "75%       2.000000     1.000000     2.000000  \n",
              "max       4.000000     2.000000     2.000000  "
            ],
            "text/html": [
              "\n",
              "  <div id=\"df-18b41474-4e2f-40bb-a476-03bd798cf777\">\n",
              "    <div class=\"colab-df-container\">\n",
              "      <div>\n",
              "<style scoped>\n",
              "    .dataframe tbody tr th:only-of-type {\n",
              "        vertical-align: middle;\n",
              "    }\n",
              "\n",
              "    .dataframe tbody tr th {\n",
              "        vertical-align: top;\n",
              "    }\n",
              "\n",
              "    .dataframe thead th {\n",
              "        text-align: right;\n",
              "    }\n",
              "</style>\n",
              "<table border=\"1\" class=\"dataframe\">\n",
              "  <thead>\n",
              "    <tr style=\"text-align: right;\">\n",
              "      <th></th>\n",
              "      <th>V2</th>\n",
              "      <th>V5</th>\n",
              "      <th>V8</th>\n",
              "      <th>V11</th>\n",
              "      <th>V13</th>\n",
              "      <th>V16</th>\n",
              "      <th>V18</th>\n",
              "      <th>V21</th>\n",
              "    </tr>\n",
              "  </thead>\n",
              "  <tbody>\n",
              "    <tr>\n",
              "      <th>count</th>\n",
              "      <td>1000.000000</td>\n",
              "      <td>1000.000000</td>\n",
              "      <td>1000.000000</td>\n",
              "      <td>1000.000000</td>\n",
              "      <td>1000.000000</td>\n",
              "      <td>1000.000000</td>\n",
              "      <td>1000.000000</td>\n",
              "      <td>1000.000000</td>\n",
              "    </tr>\n",
              "    <tr>\n",
              "      <th>mean</th>\n",
              "      <td>20.903000</td>\n",
              "      <td>3271.258000</td>\n",
              "      <td>2.973000</td>\n",
              "      <td>2.845000</td>\n",
              "      <td>35.546000</td>\n",
              "      <td>1.407000</td>\n",
              "      <td>1.155000</td>\n",
              "      <td>1.300000</td>\n",
              "    </tr>\n",
              "    <tr>\n",
              "      <th>std</th>\n",
              "      <td>12.058814</td>\n",
              "      <td>2822.736876</td>\n",
              "      <td>1.118715</td>\n",
              "      <td>1.103718</td>\n",
              "      <td>11.375469</td>\n",
              "      <td>0.577654</td>\n",
              "      <td>0.362086</td>\n",
              "      <td>0.458487</td>\n",
              "    </tr>\n",
              "    <tr>\n",
              "      <th>min</th>\n",
              "      <td>4.000000</td>\n",
              "      <td>250.000000</td>\n",
              "      <td>1.000000</td>\n",
              "      <td>1.000000</td>\n",
              "      <td>19.000000</td>\n",
              "      <td>1.000000</td>\n",
              "      <td>1.000000</td>\n",
              "      <td>1.000000</td>\n",
              "    </tr>\n",
              "    <tr>\n",
              "      <th>25%</th>\n",
              "      <td>12.000000</td>\n",
              "      <td>1365.500000</td>\n",
              "      <td>2.000000</td>\n",
              "      <td>2.000000</td>\n",
              "      <td>27.000000</td>\n",
              "      <td>1.000000</td>\n",
              "      <td>1.000000</td>\n",
              "      <td>1.000000</td>\n",
              "    </tr>\n",
              "    <tr>\n",
              "      <th>50%</th>\n",
              "      <td>18.000000</td>\n",
              "      <td>2319.500000</td>\n",
              "      <td>3.000000</td>\n",
              "      <td>3.000000</td>\n",
              "      <td>33.000000</td>\n",
              "      <td>1.000000</td>\n",
              "      <td>1.000000</td>\n",
              "      <td>1.000000</td>\n",
              "    </tr>\n",
              "    <tr>\n",
              "      <th>75%</th>\n",
              "      <td>24.000000</td>\n",
              "      <td>3972.250000</td>\n",
              "      <td>4.000000</td>\n",
              "      <td>4.000000</td>\n",
              "      <td>42.000000</td>\n",
              "      <td>2.000000</td>\n",
              "      <td>1.000000</td>\n",
              "      <td>2.000000</td>\n",
              "    </tr>\n",
              "    <tr>\n",
              "      <th>max</th>\n",
              "      <td>72.000000</td>\n",
              "      <td>18424.000000</td>\n",
              "      <td>4.000000</td>\n",
              "      <td>4.000000</td>\n",
              "      <td>75.000000</td>\n",
              "      <td>4.000000</td>\n",
              "      <td>2.000000</td>\n",
              "      <td>2.000000</td>\n",
              "    </tr>\n",
              "  </tbody>\n",
              "</table>\n",
              "</div>\n",
              "      <button class=\"colab-df-convert\" onclick=\"convertToInteractive('df-18b41474-4e2f-40bb-a476-03bd798cf777')\"\n",
              "              title=\"Convert this dataframe to an interactive table.\"\n",
              "              style=\"display:none;\">\n",
              "        \n",
              "  <svg xmlns=\"http://www.w3.org/2000/svg\" height=\"24px\"viewBox=\"0 0 24 24\"\n",
              "       width=\"24px\">\n",
              "    <path d=\"M0 0h24v24H0V0z\" fill=\"none\"/>\n",
              "    <path d=\"M18.56 5.44l.94 2.06.94-2.06 2.06-.94-2.06-.94-.94-2.06-.94 2.06-2.06.94zm-11 1L8.5 8.5l.94-2.06 2.06-.94-2.06-.94L8.5 2.5l-.94 2.06-2.06.94zm10 10l.94 2.06.94-2.06 2.06-.94-2.06-.94-.94-2.06-.94 2.06-2.06.94z\"/><path d=\"M17.41 7.96l-1.37-1.37c-.4-.4-.92-.59-1.43-.59-.52 0-1.04.2-1.43.59L10.3 9.45l-7.72 7.72c-.78.78-.78 2.05 0 2.83L4 21.41c.39.39.9.59 1.41.59.51 0 1.02-.2 1.41-.59l7.78-7.78 2.81-2.81c.8-.78.8-2.07 0-2.86zM5.41 20L4 18.59l7.72-7.72 1.47 1.35L5.41 20z\"/>\n",
              "  </svg>\n",
              "      </button>\n",
              "      \n",
              "  <style>\n",
              "    .colab-df-container {\n",
              "      display:flex;\n",
              "      flex-wrap:wrap;\n",
              "      gap: 12px;\n",
              "    }\n",
              "\n",
              "    .colab-df-convert {\n",
              "      background-color: #E8F0FE;\n",
              "      border: none;\n",
              "      border-radius: 50%;\n",
              "      cursor: pointer;\n",
              "      display: none;\n",
              "      fill: #1967D2;\n",
              "      height: 32px;\n",
              "      padding: 0 0 0 0;\n",
              "      width: 32px;\n",
              "    }\n",
              "\n",
              "    .colab-df-convert:hover {\n",
              "      background-color: #E2EBFA;\n",
              "      box-shadow: 0px 1px 2px rgba(60, 64, 67, 0.3), 0px 1px 3px 1px rgba(60, 64, 67, 0.15);\n",
              "      fill: #174EA6;\n",
              "    }\n",
              "\n",
              "    [theme=dark] .colab-df-convert {\n",
              "      background-color: #3B4455;\n",
              "      fill: #D2E3FC;\n",
              "    }\n",
              "\n",
              "    [theme=dark] .colab-df-convert:hover {\n",
              "      background-color: #434B5C;\n",
              "      box-shadow: 0px 1px 3px 1px rgba(0, 0, 0, 0.15);\n",
              "      filter: drop-shadow(0px 1px 2px rgba(0, 0, 0, 0.3));\n",
              "      fill: #FFFFFF;\n",
              "    }\n",
              "  </style>\n",
              "\n",
              "      <script>\n",
              "        const buttonEl =\n",
              "          document.querySelector('#df-18b41474-4e2f-40bb-a476-03bd798cf777 button.colab-df-convert');\n",
              "        buttonEl.style.display =\n",
              "          google.colab.kernel.accessAllowed ? 'block' : 'none';\n",
              "\n",
              "        async function convertToInteractive(key) {\n",
              "          const element = document.querySelector('#df-18b41474-4e2f-40bb-a476-03bd798cf777');\n",
              "          const dataTable =\n",
              "            await google.colab.kernel.invokeFunction('convertToInteractive',\n",
              "                                                     [key], {});\n",
              "          if (!dataTable) return;\n",
              "\n",
              "          const docLinkHtml = 'Like what you see? Visit the ' +\n",
              "            '<a target=\"_blank\" href=https://colab.research.google.com/notebooks/data_table.ipynb>data table notebook</a>'\n",
              "            + ' to learn more about interactive tables.';\n",
              "          element.innerHTML = '';\n",
              "          dataTable['output_type'] = 'display_data';\n",
              "          await google.colab.output.renderOutput(dataTable, element);\n",
              "          const docLink = document.createElement('div');\n",
              "          docLink.innerHTML = docLinkHtml;\n",
              "          element.appendChild(docLink);\n",
              "        }\n",
              "      </script>\n",
              "    </div>\n",
              "  </div>\n",
              "  "
            ]
          },
          "metadata": {},
          "execution_count": 10
        }
      ]
    },
    {
      "cell_type": "code",
      "source": [
        "#DATA DISCRIPTION FOR CATEGORICAL COLUMNS\n",
        "data.describe(include=object)"
      ],
      "metadata": {
        "colab": {
          "base_uri": "https://localhost:8080/",
          "height": 175
        },
        "id": "7YYUITcKFuHl",
        "outputId": "04e6145b-9252-4846-91c2-b5b05152b7af"
      },
      "execution_count": 11,
      "outputs": [
        {
          "output_type": "execute_result",
          "data": {
            "text/plain": [
              "          V1    V3    V4    V6    V7    V9   V10   V12   V14   V15   V17  \\\n",
              "count   1000  1000  1000  1000  1000  1000  1000  1000  1000  1000  1000   \n",
              "unique     4     5    10     5     5     4     3     4     3     3     4   \n",
              "top        D     C     E     A     C     C     A     C     C     B     C   \n",
              "freq     394   530   280   603   339   548   907   332   814   713   630   \n",
              "\n",
              "         V19   V20  \n",
              "count   1000  1000  \n",
              "unique     2     2  \n",
              "top        A     A  \n",
              "freq     596   963  "
            ],
            "text/html": [
              "\n",
              "  <div id=\"df-c7a85baf-85f6-4248-b09e-30a1998137e0\">\n",
              "    <div class=\"colab-df-container\">\n",
              "      <div>\n",
              "<style scoped>\n",
              "    .dataframe tbody tr th:only-of-type {\n",
              "        vertical-align: middle;\n",
              "    }\n",
              "\n",
              "    .dataframe tbody tr th {\n",
              "        vertical-align: top;\n",
              "    }\n",
              "\n",
              "    .dataframe thead th {\n",
              "        text-align: right;\n",
              "    }\n",
              "</style>\n",
              "<table border=\"1\" class=\"dataframe\">\n",
              "  <thead>\n",
              "    <tr style=\"text-align: right;\">\n",
              "      <th></th>\n",
              "      <th>V1</th>\n",
              "      <th>V3</th>\n",
              "      <th>V4</th>\n",
              "      <th>V6</th>\n",
              "      <th>V7</th>\n",
              "      <th>V9</th>\n",
              "      <th>V10</th>\n",
              "      <th>V12</th>\n",
              "      <th>V14</th>\n",
              "      <th>V15</th>\n",
              "      <th>V17</th>\n",
              "      <th>V19</th>\n",
              "      <th>V20</th>\n",
              "    </tr>\n",
              "  </thead>\n",
              "  <tbody>\n",
              "    <tr>\n",
              "      <th>count</th>\n",
              "      <td>1000</td>\n",
              "      <td>1000</td>\n",
              "      <td>1000</td>\n",
              "      <td>1000</td>\n",
              "      <td>1000</td>\n",
              "      <td>1000</td>\n",
              "      <td>1000</td>\n",
              "      <td>1000</td>\n",
              "      <td>1000</td>\n",
              "      <td>1000</td>\n",
              "      <td>1000</td>\n",
              "      <td>1000</td>\n",
              "      <td>1000</td>\n",
              "    </tr>\n",
              "    <tr>\n",
              "      <th>unique</th>\n",
              "      <td>4</td>\n",
              "      <td>5</td>\n",
              "      <td>10</td>\n",
              "      <td>5</td>\n",
              "      <td>5</td>\n",
              "      <td>4</td>\n",
              "      <td>3</td>\n",
              "      <td>4</td>\n",
              "      <td>3</td>\n",
              "      <td>3</td>\n",
              "      <td>4</td>\n",
              "      <td>2</td>\n",
              "      <td>2</td>\n",
              "    </tr>\n",
              "    <tr>\n",
              "      <th>top</th>\n",
              "      <td>D</td>\n",
              "      <td>C</td>\n",
              "      <td>E</td>\n",
              "      <td>A</td>\n",
              "      <td>C</td>\n",
              "      <td>C</td>\n",
              "      <td>A</td>\n",
              "      <td>C</td>\n",
              "      <td>C</td>\n",
              "      <td>B</td>\n",
              "      <td>C</td>\n",
              "      <td>A</td>\n",
              "      <td>A</td>\n",
              "    </tr>\n",
              "    <tr>\n",
              "      <th>freq</th>\n",
              "      <td>394</td>\n",
              "      <td>530</td>\n",
              "      <td>280</td>\n",
              "      <td>603</td>\n",
              "      <td>339</td>\n",
              "      <td>548</td>\n",
              "      <td>907</td>\n",
              "      <td>332</td>\n",
              "      <td>814</td>\n",
              "      <td>713</td>\n",
              "      <td>630</td>\n",
              "      <td>596</td>\n",
              "      <td>963</td>\n",
              "    </tr>\n",
              "  </tbody>\n",
              "</table>\n",
              "</div>\n",
              "      <button class=\"colab-df-convert\" onclick=\"convertToInteractive('df-c7a85baf-85f6-4248-b09e-30a1998137e0')\"\n",
              "              title=\"Convert this dataframe to an interactive table.\"\n",
              "              style=\"display:none;\">\n",
              "        \n",
              "  <svg xmlns=\"http://www.w3.org/2000/svg\" height=\"24px\"viewBox=\"0 0 24 24\"\n",
              "       width=\"24px\">\n",
              "    <path d=\"M0 0h24v24H0V0z\" fill=\"none\"/>\n",
              "    <path d=\"M18.56 5.44l.94 2.06.94-2.06 2.06-.94-2.06-.94-.94-2.06-.94 2.06-2.06.94zm-11 1L8.5 8.5l.94-2.06 2.06-.94-2.06-.94L8.5 2.5l-.94 2.06-2.06.94zm10 10l.94 2.06.94-2.06 2.06-.94-2.06-.94-.94-2.06-.94 2.06-2.06.94z\"/><path d=\"M17.41 7.96l-1.37-1.37c-.4-.4-.92-.59-1.43-.59-.52 0-1.04.2-1.43.59L10.3 9.45l-7.72 7.72c-.78.78-.78 2.05 0 2.83L4 21.41c.39.39.9.59 1.41.59.51 0 1.02-.2 1.41-.59l7.78-7.78 2.81-2.81c.8-.78.8-2.07 0-2.86zM5.41 20L4 18.59l7.72-7.72 1.47 1.35L5.41 20z\"/>\n",
              "  </svg>\n",
              "      </button>\n",
              "      \n",
              "  <style>\n",
              "    .colab-df-container {\n",
              "      display:flex;\n",
              "      flex-wrap:wrap;\n",
              "      gap: 12px;\n",
              "    }\n",
              "\n",
              "    .colab-df-convert {\n",
              "      background-color: #E8F0FE;\n",
              "      border: none;\n",
              "      border-radius: 50%;\n",
              "      cursor: pointer;\n",
              "      display: none;\n",
              "      fill: #1967D2;\n",
              "      height: 32px;\n",
              "      padding: 0 0 0 0;\n",
              "      width: 32px;\n",
              "    }\n",
              "\n",
              "    .colab-df-convert:hover {\n",
              "      background-color: #E2EBFA;\n",
              "      box-shadow: 0px 1px 2px rgba(60, 64, 67, 0.3), 0px 1px 3px 1px rgba(60, 64, 67, 0.15);\n",
              "      fill: #174EA6;\n",
              "    }\n",
              "\n",
              "    [theme=dark] .colab-df-convert {\n",
              "      background-color: #3B4455;\n",
              "      fill: #D2E3FC;\n",
              "    }\n",
              "\n",
              "    [theme=dark] .colab-df-convert:hover {\n",
              "      background-color: #434B5C;\n",
              "      box-shadow: 0px 1px 3px 1px rgba(0, 0, 0, 0.15);\n",
              "      filter: drop-shadow(0px 1px 2px rgba(0, 0, 0, 0.3));\n",
              "      fill: #FFFFFF;\n",
              "    }\n",
              "  </style>\n",
              "\n",
              "      <script>\n",
              "        const buttonEl =\n",
              "          document.querySelector('#df-c7a85baf-85f6-4248-b09e-30a1998137e0 button.colab-df-convert');\n",
              "        buttonEl.style.display =\n",
              "          google.colab.kernel.accessAllowed ? 'block' : 'none';\n",
              "\n",
              "        async function convertToInteractive(key) {\n",
              "          const element = document.querySelector('#df-c7a85baf-85f6-4248-b09e-30a1998137e0');\n",
              "          const dataTable =\n",
              "            await google.colab.kernel.invokeFunction('convertToInteractive',\n",
              "                                                     [key], {});\n",
              "          if (!dataTable) return;\n",
              "\n",
              "          const docLinkHtml = 'Like what you see? Visit the ' +\n",
              "            '<a target=\"_blank\" href=https://colab.research.google.com/notebooks/data_table.ipynb>data table notebook</a>'\n",
              "            + ' to learn more about interactive tables.';\n",
              "          element.innerHTML = '';\n",
              "          dataTable['output_type'] = 'display_data';\n",
              "          await google.colab.output.renderOutput(dataTable, element);\n",
              "          const docLink = document.createElement('div');\n",
              "          docLink.innerHTML = docLinkHtml;\n",
              "          element.appendChild(docLink);\n",
              "        }\n",
              "      </script>\n",
              "    </div>\n",
              "  </div>\n",
              "  "
            ]
          },
          "metadata": {},
          "execution_count": 11
        }
      ]
    },
    {
      "cell_type": "markdown",
      "source": [
        "*v4 has the highest number of distinct values and v20 has the occurence of A that the number of foreign companies*"
      ],
      "metadata": {
        "id": "PaSJkeMmF7kJ"
      }
    },
    {
      "cell_type": "code",
      "source": [
        ""
      ],
      "metadata": {
        "id": "YO0d5mptEkrM"
      },
      "execution_count": 11,
      "outputs": []
    },
    {
      "cell_type": "markdown",
      "source": [
        "Maximum value of v5 is by far higher than the rest, v2 equally has a very high maximum value These two high values will affect the value of the model, so the dataset requires scaling. Secondly, the std and mean of v5 and v2 are quite high; this again means that the distribution will be skewed. See the repercusion in the boxplot and histogram below."
      ],
      "metadata": {
        "id": "xiPHFbRXElMY"
      }
    },
    {
      "cell_type": "code",
      "source": [
        "plt.figure(figsize=(11, 3))\n",
        "data.boxplot()\n",
        "plt.show()"
      ],
      "metadata": {
        "colab": {
          "base_uri": "https://localhost:8080/",
          "height": 211
        },
        "id": "mpwwhrC4EnKU",
        "outputId": "bcbe2362-1095-4e99-b72e-27975c856abe"
      },
      "execution_count": 12,
      "outputs": [
        {
          "output_type": "display_data",
          "data": {
            "text/plain": [
              "<Figure size 792x216 with 1 Axes>"
            ],
            "image/png": "[encoded data removed]"
          },
          "metadata": {
            "needs_background": "light"
          }
        }
      ]
    },
    {
      "cell_type": "code",
      "source": [
        "data.hist()\n",
        "plt.show()"
      ],
      "metadata": {
        "colab": {
          "base_uri": "https://localhost:8080/",
          "height": 281
        },
        "id": "hJfExAy7EuxY",
        "outputId": "91b0ff8d-c6cd-406f-d7c4-f63f26520347"
      },
      "execution_count": 13,
      "outputs": [
        {
          "output_type": "display_data",
          "data": {
            "text/plain": [
              "<Figure size 432x288 with 9 Axes>"
            ],
            "image/png": "[encoded data removed]"
          },
          "metadata": {
            "needs_background": "light"
          }
        }
      ]
    },
    {
      "cell_type": "code",
      "source": [
        "y2 = data['V21']\n",
        "y2.nunique()"
      ],
      "metadata": {
        "colab": {
          "base_uri": "https://localhost:8080/"
        },
        "id": "hKMhlgFDEx1C",
        "outputId": "9ca0a863-dafa-4002-ad49-0dff33d870c6"
      },
      "execution_count": 14,
      "outputs": [
        {
          "output_type": "execute_result",
          "data": {
            "text/plain": [
              "2"
            ]
          },
          "metadata": {},
          "execution_count": 14
        }
      ]
    },
    {
      "cell_type": "code",
      "source": [
        "#CHECK THE DISRIBUTION OF VALUES IN THE TARGET COLUMN\n",
        "data.V21.value_counts()"
      ],
      "metadata": {
        "colab": {
          "base_uri": "https://localhost:8080/"
        },
        "id": "fyVyLMSmE9zX",
        "outputId": "0b34cf0b-2742-4622-9d5e-2011d71e62bb"
      },
      "execution_count": 15,
      "outputs": [
        {
          "output_type": "execute_result",
          "data": {
            "text/plain": [
              "1    700\n",
              "2    300\n",
              "Name: V21, dtype: int64"
            ]
          },
          "metadata": {},
          "execution_count": 15
        }
      ]
    },
    {
      "cell_type": "code",
      "source": [
        "# PLOT BUSINESSES AFTECTED BY LENGTH OF INSURANCE CONTRACT\n",
        "lowrisk = data[data.V21==1].V2\n",
        "highrisk = data[data.V21==2].V2\n",
        "\n",
        "plt.xlabel(\"Length of Contract\")\n",
        "plt.ylabel(\"Business Affected\")\n",
        "plt.title(\"Business Risk Level Prediction Visualiztion\")\n",
        "\n",
        "plt.hist([highrisk, lowrisk], rwidth=0.95, color=['blue','red'],label=['Highrisk=Yes','Lowrisk=No'])\n",
        "plt.legend()"
      ],
      "metadata": {
        "colab": {
          "base_uri": "https://localhost:8080/",
          "height": 402
        },
        "id": "Fmb-TpyqFFkU",
        "outputId": "3bf0ff6f-dae0-4a58-b520-cbd248f543fb"
      },
      "execution_count": 16,
      "outputs": [
        {
          "output_type": "stream",
          "name": "stderr",
          "text": [
            "/usr/local/lib/python3.7/dist-packages/numpy/core/fromnumeric.py:3208: VisibleDeprecationWarning: Creating an ndarray from ragged nested sequences (which is a list-or-tuple of lists-or-tuples-or ndarrays with different lengths or shapes) is deprecated. If you meant to do this, you must specify 'dtype=object' when creating the ndarray.\n",
            "  return asarray(a).size\n",
            "/usr/local/lib/python3.7/dist-packages/matplotlib/cbook/__init__.py:1376: VisibleDeprecationWarning: Creating an ndarray from ragged nested sequences (which is a list-or-tuple of lists-or-tuples-or ndarrays with different lengths or shapes) is deprecated. If you meant to do this, you must specify 'dtype=object' when creating the ndarray.\n",
            "  X = np.atleast_1d(X.T if isinstance(X, np.ndarray) else np.asarray(X))\n"
          ]
        },
        {
          "output_type": "execute_result",
          "data": {
            "text/plain": [
              "<matplotlib.legend.Legend at 0x7fdf03ebfb10>"
            ]
          },
          "metadata": {},
          "execution_count": 16
        },
        {
          "output_type": "display_data",
          "data": {
            "text/plain": [
              "<Figure size 432x288 with 1 Axes>"
            ],
            "image/png": "[encoded data removed]"
          },
          "metadata": {
            "needs_background": "light"
          }
        }
      ]
    },
    {
      "cell_type": "code",
      "source": [
        "#BUSINESSES AFTECTED BY AMOUNT INSURED\n",
        "lowrisk = data[data.V21==1].V5\n",
        "highrisk = data[data.V21==2].V5\n",
        "\n",
        "plt.xlabel(\"AMOUNT INSURED\")\n",
        "plt.ylabel(\"Business Affected\")\n",
        "plt.title(\"Business Risk Level Prediction Visualiztion\")\n",
        "\n",
        "plt.hist([highrisk, lowrisk], rwidth=0.95, color=['green','red'],label=['Highrisk=Yes','Lowrisk=No'])\n",
        "plt.legend()"
      ],
      "metadata": {
        "colab": {
          "base_uri": "https://localhost:8080/",
          "height": 402
        },
        "id": "0PtO3wS2FIWI",
        "outputId": "96f603c6-2b53-4e43-8cfd-8156197cc388"
      },
      "execution_count": 17,
      "outputs": [
        {
          "output_type": "stream",
          "name": "stderr",
          "text": [
            "/usr/local/lib/python3.7/dist-packages/numpy/core/fromnumeric.py:3208: VisibleDeprecationWarning: Creating an ndarray from ragged nested sequences (which is a list-or-tuple of lists-or-tuples-or ndarrays with different lengths or shapes) is deprecated. If you meant to do this, you must specify 'dtype=object' when creating the ndarray.\n",
            "  return asarray(a).size\n",
            "/usr/local/lib/python3.7/dist-packages/matplotlib/cbook/__init__.py:1376: VisibleDeprecationWarning: Creating an ndarray from ragged nested sequences (which is a list-or-tuple of lists-or-tuples-or ndarrays with different lengths or shapes) is deprecated. If you meant to do this, you must specify 'dtype=object' when creating the ndarray.\n",
            "  X = np.atleast_1d(X.T if isinstance(X, np.ndarray) else np.asarray(X))\n"
          ]
        },
        {
          "output_type": "execute_result",
          "data": {
            "text/plain": [
              "<matplotlib.legend.Legend at 0x7fdf03e17bd0>"
            ]
          },
          "metadata": {},
          "execution_count": 17
        },
        {
          "output_type": "display_data",
          "data": {
            "text/plain": [
              "<Figure size 432x288 with 1 Axes>"
            ],
            "image/png": "[encoded data removed]"
          },
          "metadata": {
            "needs_background": "light"
          }
        }
      ]
    },
    {
      "cell_type": "code",
      "source": [
        "p = sn.catplot(x=\"V2\", y=\"V5\", hue=\"V21\", kind=\"bar\", data=data, height=4, aspect=7/4)\n",
        "plt.title('Risk related to amount insured and length of contract')\n",
        "plt.show()"
      ],
      "metadata": {
        "colab": {
          "base_uri": "https://localhost:8080/",
          "height": 313
        },
        "id": "yOByRvSDFWpk",
        "outputId": "648449cb-a239-4557-96f4-02df32b3d0a9"
      },
      "execution_count": 18,
      "outputs": [
        {
          "output_type": "display_data",
          "data": {
            "text/plain": [
              "<Figure size 546.375x288 with 1 Axes>"
            ],
            "image/png": "[encoded data removed]"
          },
          "metadata": {
            "needs_background": "light"
          }
        }
      ]
    },
    {
      "cell_type": "code",
      "source": [
        "# FIND CORELLATION BETWEEN VARIABLES (NUMERIC) AND TARGET\n",
        "data.corrwith(data['V21'], axis=0, drop=False, method='pearson')"
      ],
      "metadata": {
        "colab": {
          "base_uri": "https://localhost:8080/"
        },
        "id": "iB1IxzbNFnoM",
        "outputId": "7a05c5cd-d262-4b22-8f7e-7ac516a0dd83"
      },
      "execution_count": 19,
      "outputs": [
        {
          "output_type": "execute_result",
          "data": {
            "text/plain": [
              "V2     0.214927\n",
              "V5     0.154739\n",
              "V8     0.072404\n",
              "V11    0.002967\n",
              "V13   -0.091127\n",
              "V16   -0.045732\n",
              "V18   -0.003015\n",
              "V21    1.000000\n",
              "dtype: float64"
            ]
          },
          "metadata": {},
          "execution_count": 19
        }
      ]
    },
    {
      "cell_type": "markdown",
      "source": [
        "*Based on the numeric columns, v2 (Length of contract in months, has the highest impact ion the dataset) see heatmap below*"
      ],
      "metadata": {
        "id": "fDuy9y1VGJ4b"
      }
    },
    {
      "cell_type": "code",
      "source": [
        "#DEFINE THE DIFFERENT SET OF COLUMNS WE WILL USE\n",
        "cols= data.columns # all columns in dataset\n",
        "number_cols = data.select_dtypes(include=np.number).columns # number colums\n",
        "cat_cols= list(set(cols) - set(number_cols)) # object columns\n",
        "\n",
        "predictors=data.iloc[:, :-1]\n",
        "predictor_col=predictors.columns\n",
        "predictor_col"
      ],
      "metadata": {
        "colab": {
          "base_uri": "https://localhost:8080/"
        },
        "id": "P7jL3AnyGMC2",
        "outputId": "c415e60a-3ed2-4dfa-fd35-3032a5d7fbb0"
      },
      "execution_count": 20,
      "outputs": [
        {
          "output_type": "execute_result",
          "data": {
            "text/plain": [
              "Index(['V1', 'V2', 'V3', 'V4', 'V5', 'V6', 'V7', 'V8', 'V9', 'V10', 'V11',\n",
              "       'V12', 'V13', 'V14', 'V15', 'V16', 'V17', 'V18', 'V19', 'V20'],\n",
              "      dtype='object')"
            ]
          },
          "metadata": {},
          "execution_count": 20
        }
      ]
    },
    {
      "cell_type": "code",
      "source": [
        "#USE HEATMAP TO SEE RELATIONSHIP (correlation) BETWEEN TARGET AND NUMERIC COLUMNS\n",
        "plt.figure(figsize=(5, 3))\n",
        "sn.heatmap(data[number_cols].corr(), annot=True, fmt='.3f', yticklabels=number_cols, xticklabels=number_cols)\n",
        "plt.title('Covariance for correlation coefficients on numeric cols')\n",
        "plt.tight_layout()\n",
        "plt.show()"
      ],
      "metadata": {
        "colab": {
          "base_uri": "https://localhost:8080/",
          "height": 225
        },
        "id": "8gfMIIlgGdwU",
        "outputId": "31baa142-f8de-4753-de7a-46d695754696"
      },
      "execution_count": 21,
      "outputs": [
        {
          "output_type": "display_data",
          "data": {
            "text/plain": [
              "<Figure size 360x216 with 2 Axes>"
            ],
            "image/png": "[encoded data removed]"
          },
          "metadata": {
            "needs_background": "light"
          }
        }
      ]
    },
    {
      "cell_type": "markdown",
      "source": [
        "*As you can see from the heatmap, v2 (Length of contract in months, has the highest impact ion the dataset)*"
      ],
      "metadata": {
        "id": "nz2-cUDVGknI"
      }
    },
    {
      "cell_type": "code",
      "source": [
        ""
      ],
      "metadata": {
        "id": "mDuCOcEpGmuI"
      },
      "execution_count": 21,
      "outputs": []
    },
    {
      "cell_type": "markdown",
      "source": [
        "**PREPROCESSING**"
      ],
      "metadata": {
        "id": "cBXEgwDrGrrL"
      }
    },
    {
      "cell_type": "markdown",
      "source": [
        "*First there is no null value to deal with, so we will only handle the skewness/outlier.\n",
        "First Lets convert non numerc values to numeric*"
      ],
      "metadata": {
        "id": "kxRPnRE8G0nL"
      }
    },
    {
      "cell_type": "code",
      "source": [
        "data_conv=data"
      ],
      "metadata": {
        "id": "-YVvT3LGGvIc"
      },
      "execution_count": 22,
      "outputs": []
    },
    {
      "cell_type": "code",
      "source": [
        "#ENCODE OBJECT COLUMNS TO NUMERIC\n",
        "def encodes(frames):\n",
        "  return(pd.factorize(frames)[0])\n",
        "\n",
        "for colm in cat_cols:  \n",
        "  data_conv[colm] = encodes(data_conv[colm])\n",
        "\n",
        "data_conv.head(2)"
      ],
      "metadata": {
        "colab": {
          "base_uri": "https://localhost:8080/",
          "height": 141
        },
        "id": "Os4DvN5UGqfE",
        "outputId": "3bb1028a-eb8e-4100-db1a-13d3347c73b7"
      },
      "execution_count": 23,
      "outputs": [
        {
          "output_type": "execute_result",
          "data": {
            "text/plain": [
              "   V1  V2  V3  V4    V5  V6  V7  V8  V9  V10  ...  V12  V13  V14  V15  V16  \\\n",
              "0   0  18   0   0  1295   0   0   4   0    0  ...    0   27    0    0    2   \n",
              "1   1  21   1   1  2782   1   1   1   0    0  ...    1   31    1    0    1   \n",
              "\n",
              "   V17  V18  V19  V20  V21  \n",
              "0    0    1    0    0    1  \n",
              "1    1    1    0    0    1  \n",
              "\n",
              "[2 rows x 21 columns]"
            ],
            "text/html": [
              "\n",
              "  <div id=\"df-206c6c1e-a7bc-4028-80d2-c8a824e621b3\">\n",
              "    <div class=\"colab-df-container\">\n",
              "      <div>\n",
              "<style scoped>\n",
              "    .dataframe tbody tr th:only-of-type {\n",
              "        vertical-align: middle;\n",
              "    }\n",
              "\n",
              "    .dataframe tbody tr th {\n",
              "        vertical-align: top;\n",
              "    }\n",
              "\n",
              "    .dataframe thead th {\n",
              "        text-align: right;\n",
              "    }\n",
              "</style>\n",
              "<table border=\"1\" class=\"dataframe\">\n",
              "  <thead>\n",
              "    <tr style=\"text-align: right;\">\n",
              "      <th></th>\n",
              "      <th>V1</th>\n",
              "      <th>V2</th>\n",
              "      <th>V3</th>\n",
              "      <th>V4</th>\n",
              "      <th>V5</th>\n",
              "      <th>V6</th>\n",
              "      <th>V7</th>\n",
              "      <th>V8</th>\n",
              "      <th>V9</th>\n",
              "      <th>V10</th>\n",
              "      <th>...</th>\n",
              "      <th>V12</th>\n",
              "      <th>V13</th>\n",
              "      <th>V14</th>\n",
              "      <th>V15</th>\n",
              "      <th>V16</th>\n",
              "      <th>V17</th>\n",
              "      <th>V18</th>\n",
              "      <th>V19</th>\n",
              "      <th>V20</th>\n",
              "      <th>V21</th>\n",
              "    </tr>\n",
              "  </thead>\n",
              "  <tbody>\n",
              "    <tr>\n",
              "      <th>0</th>\n",
              "      <td>0</td>\n",
              "      <td>18</td>\n",
              "      <td>0</td>\n",
              "      <td>0</td>\n",
              "      <td>1295</td>\n",
              "      <td>0</td>\n",
              "      <td>0</td>\n",
              "      <td>4</td>\n",
              "      <td>0</td>\n",
              "      <td>0</td>\n",
              "      <td>...</td>\n",
              "      <td>0</td>\n",
              "      <td>27</td>\n",
              "      <td>0</td>\n",
              "      <td>0</td>\n",
              "      <td>2</td>\n",
              "      <td>0</td>\n",
              "      <td>1</td>\n",
              "      <td>0</td>\n",
              "      <td>0</td>\n",
              "      <td>1</td>\n",
              "    </tr>\n",
              "    <tr>\n",
              "      <th>1</th>\n",
              "      <td>1</td>\n",
              "      <td>21</td>\n",
              "      <td>1</td>\n",
              "      <td>1</td>\n",
              "      <td>2782</td>\n",
              "      <td>1</td>\n",
              "      <td>1</td>\n",
              "      <td>1</td>\n",
              "      <td>0</td>\n",
              "      <td>0</td>\n",
              "      <td>...</td>\n",
              "      <td>1</td>\n",
              "      <td>31</td>\n",
              "      <td>1</td>\n",
              "      <td>0</td>\n",
              "      <td>1</td>\n",
              "      <td>1</td>\n",
              "      <td>1</td>\n",
              "      <td>0</td>\n",
              "      <td>0</td>\n",
              "      <td>1</td>\n",
              "    </tr>\n",
              "  </tbody>\n",
              "</table>\n",
              "<p>2 rows × 21 columns</p>\n",
              "</div>\n",
              "      <button class=\"colab-df-convert\" onclick=\"convertToInteractive('df-206c6c1e-a7bc-4028-80d2-c8a824e621b3')\"\n",
              "              title=\"Convert this dataframe to an interactive table.\"\n",
              "              style=\"display:none;\">\n",
              "        \n",
              "  <svg xmlns=\"http://www.w3.org/2000/svg\" height=\"24px\"viewBox=\"0 0 24 24\"\n",
              "       width=\"24px\">\n",
              "    <path d=\"M0 0h24v24H0V0z\" fill=\"none\"/>\n",
              "    <path d=\"M18.56 5.44l.94 2.06.94-2.06 2.06-.94-2.06-.94-.94-2.06-.94 2.06-2.06.94zm-11 1L8.5 8.5l.94-2.06 2.06-.94-2.06-.94L8.5 2.5l-.94 2.06-2.06.94zm10 10l.94 2.06.94-2.06 2.06-.94-2.06-.94-.94-2.06-.94 2.06-2.06.94z\"/><path d=\"M17.41 7.96l-1.37-1.37c-.4-.4-.92-.59-1.43-.59-.52 0-1.04.2-1.43.59L10.3 9.45l-7.72 7.72c-.78.78-.78 2.05 0 2.83L4 21.41c.39.39.9.59 1.41.59.51 0 1.02-.2 1.41-.59l7.78-7.78 2.81-2.81c.8-.78.8-2.07 0-2.86zM5.41 20L4 18.59l7.72-7.72 1.47 1.35L5.41 20z\"/>\n",
              "  </svg>\n",
              "      </button>\n",
              "      \n",
              "  <style>\n",
              "    .colab-df-container {\n",
              "      display:flex;\n",
              "      flex-wrap:wrap;\n",
              "      gap: 12px;\n",
              "    }\n",
              "\n",
              "    .colab-df-convert {\n",
              "      background-color: #E8F0FE;\n",
              "      border: none;\n",
              "      border-radius: 50%;\n",
              "      cursor: pointer;\n",
              "      display: none;\n",
              "      fill: #1967D2;\n",
              "      height: 32px;\n",
              "      padding: 0 0 0 0;\n",
              "      width: 32px;\n",
              "    }\n",
              "\n",
              "    .colab-df-convert:hover {\n",
              "      background-color: #E2EBFA;\n",
              "      box-shadow: 0px 1px 2px rgba(60, 64, 67, 0.3), 0px 1px 3px 1px rgba(60, 64, 67, 0.15);\n",
              "      fill: #174EA6;\n",
              "    }\n",
              "\n",
              "    [theme=dark] .colab-df-convert {\n",
              "      background-color: #3B4455;\n",
              "      fill: #D2E3FC;\n",
              "    }\n",
              "\n",
              "    [theme=dark] .colab-df-convert:hover {\n",
              "      background-color: #434B5C;\n",
              "      box-shadow: 0px 1px 3px 1px rgba(0, 0, 0, 0.15);\n",
              "      filter: drop-shadow(0px 1px 2px rgba(0, 0, 0, 0.3));\n",
              "      fill: #FFFFFF;\n",
              "    }\n",
              "  </style>\n",
              "\n",
              "      <script>\n",
              "        const buttonEl =\n",
              "          document.querySelector('#df-206c6c1e-a7bc-4028-80d2-c8a824e621b3 button.colab-df-convert');\n",
              "        buttonEl.style.display =\n",
              "          google.colab.kernel.accessAllowed ? 'block' : 'none';\n",
              "\n",
              "        async function convertToInteractive(key) {\n",
              "          const element = document.querySelector('#df-206c6c1e-a7bc-4028-80d2-c8a824e621b3');\n",
              "          const dataTable =\n",
              "            await google.colab.kernel.invokeFunction('convertToInteractive',\n",
              "                                                     [key], {});\n",
              "          if (!dataTable) return;\n",
              "\n",
              "          const docLinkHtml = 'Like what you see? Visit the ' +\n",
              "            '<a target=\"_blank\" href=https://colab.research.google.com/notebooks/data_table.ipynb>data table notebook</a>'\n",
              "            + ' to learn more about interactive tables.';\n",
              "          element.innerHTML = '';\n",
              "          dataTable['output_type'] = 'display_data';\n",
              "          await google.colab.output.renderOutput(dataTable, element);\n",
              "          const docLink = document.createElement('div');\n",
              "          docLink.innerHTML = docLinkHtml;\n",
              "          element.appendChild(docLink);\n",
              "        }\n",
              "      </script>\n",
              "    </div>\n",
              "  </div>\n",
              "  "
            ]
          },
          "metadata": {},
          "execution_count": 23
        }
      ]
    },
    {
      "cell_type": "code",
      "source": [
        "#ENCODE OBJECT COLUMNS USING SKLEARN ENCODER\n",
        "data_conv2=data\n",
        "\n",
        "encos = ce.OrdinalEncoder(cols=cat_cols)\n",
        "data_conv2[cat_cols]=encos.fit_transform(data_conv2[cat_cols])\n",
        "data_conv2.head(2)"
      ],
      "metadata": {
        "colab": {
          "base_uri": "https://localhost:8080/",
          "height": 141
        },
        "id": "WLs-xdY1EoI_",
        "outputId": "1562f5ca-1be9-40a1-e738-7a7584291a6f"
      },
      "execution_count": 24,
      "outputs": [
        {
          "output_type": "execute_result",
          "data": {
            "text/plain": [
              "   V1  V2  V3  V4    V5  V6  V7  V8  V9  V10  ...  V12  V13  V14  V15  V16  \\\n",
              "0   1  18   1   1  1295   1   1   4   1    1  ...    1   27    1    1    2   \n",
              "1   2  21   2   2  2782   2   2   1   1    1  ...    2   31    2    1    1   \n",
              "\n",
              "   V17  V18  V19  V20  V21  \n",
              "0    1    1    1    1    1  \n",
              "1    2    1    1    1    1  \n",
              "\n",
              "[2 rows x 21 columns]"
            ],
            "text/html": [
              "\n",
              "  <div id=\"df-b57b9da0-78f4-405c-9fac-7d7f4436a2b1\">\n",
              "    <div class=\"colab-df-container\">\n",
              "      <div>\n",
              "<style scoped>\n",
              "    .dataframe tbody tr th:only-of-type {\n",
              "        vertical-align: middle;\n",
              "    }\n",
              "\n",
              "    .dataframe tbody tr th {\n",
              "        vertical-align: top;\n",
              "    }\n",
              "\n",
              "    .dataframe thead th {\n",
              "        text-align: right;\n",
              "    }\n",
              "</style>\n",
              "<table border=\"1\" class=\"dataframe\">\n",
              "  <thead>\n",
              "    <tr style=\"text-align: right;\">\n",
              "      <th></th>\n",
              "      <th>V1</th>\n",
              "      <th>V2</th>\n",
              "      <th>V3</th>\n",
              "      <th>V4</th>\n",
              "      <th>V5</th>\n",
              "      <th>V6</th>\n",
              "      <th>V7</th>\n",
              "      <th>V8</th>\n",
              "      <th>V9</th>\n",
              "      <th>V10</th>\n",
              "      <th>...</th>\n",
              "      <th>V12</th>\n",
              "      <th>V13</th>\n",
              "      <th>V14</th>\n",
              "      <th>V15</th>\n",
              "      <th>V16</th>\n",
              "      <th>V17</th>\n",
              "      <th>V18</th>\n",
              "      <th>V19</th>\n",
              "      <th>V20</th>\n",
              "      <th>V21</th>\n",
              "    </tr>\n",
              "  </thead>\n",
              "  <tbody>\n",
              "    <tr>\n",
              "      <th>0</th>\n",
              "      <td>1</td>\n",
              "      <td>18</td>\n",
              "      <td>1</td>\n",
              "      <td>1</td>\n",
              "      <td>1295</td>\n",
              "      <td>1</td>\n",
              "      <td>1</td>\n",
              "      <td>4</td>\n",
              "      <td>1</td>\n",
              "      <td>1</td>\n",
              "      <td>...</td>\n",
              "      <td>1</td>\n",
              "      <td>27</td>\n",
              "      <td>1</td>\n",
              "      <td>1</td>\n",
              "      <td>2</td>\n",
              "      <td>1</td>\n",
              "      <td>1</td>\n",
              "      <td>1</td>\n",
              "      <td>1</td>\n",
              "      <td>1</td>\n",
              "    </tr>\n",
              "    <tr>\n",
              "      <th>1</th>\n",
              "      <td>2</td>\n",
              "      <td>21</td>\n",
              "      <td>2</td>\n",
              "      <td>2</td>\n",
              "      <td>2782</td>\n",
              "      <td>2</td>\n",
              "      <td>2</td>\n",
              "      <td>1</td>\n",
              "      <td>1</td>\n",
              "      <td>1</td>\n",
              "      <td>...</td>\n",
              "      <td>2</td>\n",
              "      <td>31</td>\n",
              "      <td>2</td>\n",
              "      <td>1</td>\n",
              "      <td>1</td>\n",
              "      <td>2</td>\n",
              "      <td>1</td>\n",
              "      <td>1</td>\n",
              "      <td>1</td>\n",
              "      <td>1</td>\n",
              "    </tr>\n",
              "  </tbody>\n",
              "</table>\n",
              "<p>2 rows × 21 columns</p>\n",
              "</div>\n",
              "      <button class=\"colab-df-convert\" onclick=\"convertToInteractive('df-b57b9da0-78f4-405c-9fac-7d7f4436a2b1')\"\n",
              "              title=\"Convert this dataframe to an interactive table.\"\n",
              "              style=\"display:none;\">\n",
              "        \n",
              "  <svg xmlns=\"http://www.w3.org/2000/svg\" height=\"24px\"viewBox=\"0 0 24 24\"\n",
              "       width=\"24px\">\n",
              "    <path d=\"M0 0h24v24H0V0z\" fill=\"none\"/>\n",
              "    <path d=\"M18.56 5.44l.94 2.06.94-2.06 2.06-.94-2.06-.94-.94-2.06-.94 2.06-2.06.94zm-11 1L8.5 8.5l.94-2.06 2.06-.94-2.06-.94L8.5 2.5l-.94 2.06-2.06.94zm10 10l.94 2.06.94-2.06 2.06-.94-2.06-.94-.94-2.06-.94 2.06-2.06.94z\"/><path d=\"M17.41 7.96l-1.37-1.37c-.4-.4-.92-.59-1.43-.59-.52 0-1.04.2-1.43.59L10.3 9.45l-7.72 7.72c-.78.78-.78 2.05 0 2.83L4 21.41c.39.39.9.59 1.41.59.51 0 1.02-.2 1.41-.59l7.78-7.78 2.81-2.81c.8-.78.8-2.07 0-2.86zM5.41 20L4 18.59l7.72-7.72 1.47 1.35L5.41 20z\"/>\n",
              "  </svg>\n",
              "      </button>\n",
              "      \n",
              "  <style>\n",
              "    .colab-df-container {\n",
              "      display:flex;\n",
              "      flex-wrap:wrap;\n",
              "      gap: 12px;\n",
              "    }\n",
              "\n",
              "    .colab-df-convert {\n",
              "      background-color: #E8F0FE;\n",
              "      border: none;\n",
              "      border-radius: 50%;\n",
              "      cursor: pointer;\n",
              "      display: none;\n",
              "      fill: #1967D2;\n",
              "      height: 32px;\n",
              "      padding: 0 0 0 0;\n",
              "      width: 32px;\n",
              "    }\n",
              "\n",
              "    .colab-df-convert:hover {\n",
              "      background-color: #E2EBFA;\n",
              "      box-shadow: 0px 1px 2px rgba(60, 64, 67, 0.3), 0px 1px 3px 1px rgba(60, 64, 67, 0.15);\n",
              "      fill: #174EA6;\n",
              "    }\n",
              "\n",
              "    [theme=dark] .colab-df-convert {\n",
              "      background-color: #3B4455;\n",
              "      fill: #D2E3FC;\n",
              "    }\n",
              "\n",
              "    [theme=dark] .colab-df-convert:hover {\n",
              "      background-color: #434B5C;\n",
              "      box-shadow: 0px 1px 3px 1px rgba(0, 0, 0, 0.15);\n",
              "      filter: drop-shadow(0px 1px 2px rgba(0, 0, 0, 0.3));\n",
              "      fill: #FFFFFF;\n",
              "    }\n",
              "  </style>\n",
              "\n",
              "      <script>\n",
              "        const buttonEl =\n",
              "          document.querySelector('#df-b57b9da0-78f4-405c-9fac-7d7f4436a2b1 button.colab-df-convert');\n",
              "        buttonEl.style.display =\n",
              "          google.colab.kernel.accessAllowed ? 'block' : 'none';\n",
              "\n",
              "        async function convertToInteractive(key) {\n",
              "          const element = document.querySelector('#df-b57b9da0-78f4-405c-9fac-7d7f4436a2b1');\n",
              "          const dataTable =\n",
              "            await google.colab.kernel.invokeFunction('convertToInteractive',\n",
              "                                                     [key], {});\n",
              "          if (!dataTable) return;\n",
              "\n",
              "          const docLinkHtml = 'Like what you see? Visit the ' +\n",
              "            '<a target=\"_blank\" href=https://colab.research.google.com/notebooks/data_table.ipynb>data table notebook</a>'\n",
              "            + ' to learn more about interactive tables.';\n",
              "          element.innerHTML = '';\n",
              "          dataTable['output_type'] = 'display_data';\n",
              "          await google.colab.output.renderOutput(dataTable, element);\n",
              "          const docLink = document.createElement('div');\n",
              "          docLink.innerHTML = docLinkHtml;\n",
              "          element.appendChild(docLink);\n",
              "        }\n",
              "      </script>\n",
              "    </div>\n",
              "  </div>\n",
              "  "
            ]
          },
          "metadata": {},
          "execution_count": 24
        }
      ]
    },
    {
      "cell_type": "code",
      "source": [
        ""
      ],
      "metadata": {
        "id": "tZBwf6fCFZ-O"
      },
      "execution_count": 24,
      "outputs": []
    },
    {
      "cell_type": "code",
      "source": [
        "#FIND RELATIONSHIP BETWEEN COLUMNS AND TARGET VARIABLE\n",
        "data_conv.corrwith(data['V21'], axis=0, drop=False, method='pearson')"
      ],
      "metadata": {
        "colab": {
          "base_uri": "https://localhost:8080/"
        },
        "id": "de4O9KL0HP3Q",
        "outputId": "05805996-356b-4c3d-d3a0-1fe2f2a32345"
      },
      "execution_count": 25,
      "outputs": [
        {
          "output_type": "execute_result",
          "data": {
            "text/plain": [
              "V1     0.145605\n",
              "V2     0.214927\n",
              "V3     0.236953\n",
              "V4     0.013102\n",
              "V5     0.154739\n",
              "V6    -0.165964\n",
              "V7    -0.022684\n",
              "V8     0.072404\n",
              "V9    -0.084416\n",
              "V10   -0.025137\n",
              "V11    0.002967\n",
              "V12    0.034011\n",
              "V13   -0.091127\n",
              "V14    0.104885\n",
              "V15    0.127789\n",
              "V16   -0.045732\n",
              "V17   -0.000498\n",
              "V18   -0.003015\n",
              "V19   -0.036466\n",
              "V20   -0.082079\n",
              "V21    1.000000\n",
              "dtype: float64"
            ]
          },
          "metadata": {},
          "execution_count": 25
        }
      ]
    },
    {
      "cell_type": "code",
      "source": [
        "#USE HEATMAP TO SEE RELATIONSHIP (correlation) BETWEEN TARGET AND NUMERIC COLUMNS\n",
        "plt.figure(figsize=(12, 4))\n",
        "sn.heatmap(data_conv.corr(), annot=True, fmt='.3f', yticklabels=cols, xticklabels=cols)\n",
        "plt.title('Covariance for correlation coefficients on all cols')\n",
        "plt.tight_layout()\n",
        "plt.show()"
      ],
      "metadata": {
        "colab": {
          "base_uri": "https://localhost:8080/",
          "height": 297
        },
        "id": "hDLndT9UHNgy",
        "outputId": "6986bbb9-a8e7-494e-c7f1-1663c63aa4aa"
      },
      "execution_count": 26,
      "outputs": [
        {
          "output_type": "display_data",
          "data": {
            "text/plain": [
              "<Figure size 864x288 with 2 Axes>"
            ],
            "image/png": "[encoded data removed]"
          },
          "metadata": {
            "needs_background": "light"
          }
        }
      ]
    },
    {
      "cell_type": "markdown",
      "source": [
        "*After enconding, the dataset still shows v2 (Length of contract in months) as well as v3 (Credit history) as having the highest impact In asddition, v2 is highly corelated with v5 (Sum insured) and v12 (Property) is correlated with v15. Whereas, V17, : Business line, has the lowest negative impact.*"
      ],
      "metadata": {
        "id": "bLH1UVoYHl-1"
      }
    },
    {
      "cell_type": "code",
      "source": [
        "#MAKING A BOXPLOT OF ALL THE COLUMNS\n",
        "plt.figure(figsize=(13, 4))\n",
        "data_conv.boxplot()\n",
        "plt.show()"
      ],
      "metadata": {
        "colab": {
          "base_uri": "https://localhost:8080/",
          "height": 265
        },
        "id": "YDmOWWCwHoMD",
        "outputId": "82a6adfa-a394-4012-ef16-4e53e753857e"
      },
      "execution_count": 27,
      "outputs": [
        {
          "output_type": "display_data",
          "data": {
            "text/plain": [
              "<Figure size 936x288 with 1 Axes>"
            ],
            "image/png": "[encoded data removed]"
          },
          "metadata": {
            "needs_background": "light"
          }
        }
      ]
    },
    {
      "cell_type": "code",
      "source": [
        "#FINALLY, WE CHECK UNIVALUES FOR ALL COLUMNS\n",
        "def ucols(datas):\n",
        "       for col in datas:\n",
        "            if datas[col].dtypes=='object':\n",
        "               print(f'{col}: {data[col].unique()}') \n",
        "\n",
        "ucols(data)"
      ],
      "metadata": {
        "id": "ndKWfAo6HhuE"
      },
      "execution_count": 28,
      "outputs": []
    },
    {
      "cell_type": "code",
      "source": [
        "def ucols2(datas):\n",
        "       for col in datas:\n",
        "            print(f'{col}: {data[col].unique()}') \n",
        "\n",
        "ucols2(data_conv[cat_cols])"
      ],
      "metadata": {
        "colab": {
          "base_uri": "https://localhost:8080/"
        },
        "id": "XF87qQJoIku0",
        "outputId": "f0c1a6f4-687c-4c19-e9e3-1d0332afb3a2"
      },
      "execution_count": 29,
      "outputs": [
        {
          "output_type": "stream",
          "name": "stdout",
          "text": [
            "V4: [ 1  2  3  4  5  6  7  8  9 10]\n",
            "V15: [1 2 3]\n",
            "V9: [1 2 3 4]\n",
            "V10: [1 2 3]\n",
            "V7: [1 2 3 4 5]\n",
            "V17: [1 2 3 4]\n",
            "V6: [1 2 3 4 5]\n",
            "V14: [1 2 3]\n",
            "V12: [1 2 3 4]\n",
            "V3: [1 2 3 4 5]\n",
            "V1: [1 2 3 4]\n",
            "V20: [1 2]\n",
            "V19: [1 2]\n"
          ]
        }
      ]
    },
    {
      "cell_type": "markdown",
      "source": [
        "**BUILDIING THE MODEL**"
      ],
      "metadata": {
        "id": "sASVaSaLI_RK"
      }
    },
    {
      "cell_type": "code",
      "source": [
        "#DEFINE X AND Y\n",
        "x = data_conv[predictor_col]\n",
        "x2=data_conv2[predictor_col] #x  from the cat-encoder-encoded data\n",
        "y = data['V21'].values"
      ],
      "metadata": {
        "id": "kjp3vhkWI92d"
      },
      "execution_count": 30,
      "outputs": []
    },
    {
      "cell_type": "code",
      "source": [
        "mainy=pd.factorize(y)[0]\n",
        "mainy"
      ],
      "metadata": {
        "id": "V8yEymuTO6aG"
      },
      "execution_count": null,
      "outputs": []
    },
    {
      "cell_type": "code",
      "source": [
        "#UPSAMPLING THE MINORITY TARGET VALUE\n",
        "def resamp(data_conv):\n",
        "  from sklearn.utils import resample\n",
        "  # Create Maj, Min class\n",
        "  data_maj = data_conv[data_conv.V21==1]\n",
        "  data_min = data_conv[data_conv.V21==2]\n",
        "  \n",
        "  # Upsample minority class\n",
        "  data_mim_up = resample(data_min, replace=True, n_samples=500,  random_state=123)\n",
        "  data_up = pd.concat([data_maj , data_mim_up])\n",
        "  data_up.V21.value_counts()\n",
        "  print(data_up)\n",
        "  return(data_up)\n",
        "\n",
        "ndata=resamp(data_conv)"
      ],
      "metadata": {
        "colab": {
          "base_uri": "https://localhost:8080/"
        },
        "id": "FXjEDbCrJ_U-",
        "outputId": "e8549962-6560-4678-f297-7cf7f5491945"
      },
      "execution_count": 32,
      "outputs": [
        {
          "output_type": "stream",
          "name": "stdout",
          "text": [
            "     V1  V2  V3  V4    V5  V6  V7  V8  V9  V10  ...  V12  V13  V14  V15  V16  \\\n",
            "0     1  18   1   1  1295   1   1   4   1    1  ...    1   27    1    1    2   \n",
            "1     2  21   2   2  2782   2   2   1   1    1  ...    2   31    2    1    1   \n",
            "2     3   9   2   3  1126   3   3   2   2    1  ...    3   49    1    1    1   \n",
            "4     4  10   1   2  1038   1   2   4   3    2  ...    1   49    1    1    2   \n",
            "5     4  24   1   4  2957   1   3   4   3    1  ...    1   63    1    1    2   \n",
            "..   ..  ..  ..  ..   ...  ..  ..  ..  ..  ...  ...  ...  ...  ...  ...  ...   \n",
            "112   4  12   2   9   741   3   5   4   1    1  ...    1   22    1    1    1   \n",
            "824   4  48   1   4  6143   1   3   4   1    1  ...    4   58    3    3    2   \n",
            "419   4  30   2   1  6350   4   3   4   3    1  ...    1   31    1    1    1   \n",
            "824   4  48   1   4  6143   1   3   4   1    1  ...    4   58    3    3    2   \n",
            "882   1  12   2   2   685   1   2   2   4    1  ...    2   25    2    1    1   \n",
            "\n",
            "     V17  V18  V19  V20  V21  \n",
            "0      1    1    1    1    1  \n",
            "1      2    1    1    1    1  \n",
            "2      1    1    1    1    1  \n",
            "4      1    1    2    1    1  \n",
            "5      1    1    2    1    1  \n",
            "..   ...  ...  ...  ...  ...  \n",
            "112    1    1    1    1    2  \n",
            "824    3    1    1    1    2  \n",
            "419    1    1    1    1    2  \n",
            "824    3    1    1    1    2  \n",
            "882    3    1    1    1    2  \n",
            "\n",
            "[1200 rows x 21 columns]\n"
          ]
        }
      ]
    },
    {
      "cell_type": "code",
      "source": [
        "#DEFINE X AND Y\n",
        "nx = ndata[predictor_col]\n",
        "ny = ndata['V21'].values"
      ],
      "metadata": {
        "id": "eaXt9VVCOFRy"
      },
      "execution_count": 33,
      "outputs": []
    },
    {
      "cell_type": "code",
      "source": [
        "ny=pd.factorize(ny)[0]\n",
        "ny"
      ],
      "metadata": {
        "colab": {
          "base_uri": "https://localhost:8080/"
        },
        "id": "i9bulZCjPkTL",
        "outputId": "4d518101-16cf-41c5-9ebe-5285b232216a"
      },
      "execution_count": 34,
      "outputs": [
        {
          "output_type": "execute_result",
          "data": {
            "text/plain": [
              "array([0, 0, 0, ..., 1, 1, 1])"
            ]
          },
          "metadata": {},
          "execution_count": 34
        }
      ]
    },
    {
      "cell_type": "code",
      "source": [
        "# Normalize Features\n",
        "sc= StandardScaler()\n",
        "s=sc.fit(x, mainy)\n",
        "xs= s.fit_transform(x)\n",
        "xss= s.fit_transform(nx)\n",
        "#xs2=s.fit_transform(x2)\n",
        "\n",
        "rs= RobustScaler()\n",
        "r=rs.fit(x, mainy)\n",
        "xr = r.fit_transform(x)\n",
        "xrr = r.fit_transform(nx)"
      ],
      "metadata": {
        "id": "4G0Vy_YSMdNF"
      },
      "execution_count": 38,
      "outputs": []
    },
    {
      "cell_type": "code",
      "source": [
        "from sklearn.model_selection import train_test_split\n",
        "xtrain, xeval, ytrain, yeval=train_test_split(xs, mainy, test_size=0.3, random_state=23)\n",
        "xtrain2, xeval2, ytrain2, yeval2=train_test_split(xr, mainy, test_size=0.3, random_state=23)\n",
        "xtrain4, xeval4, ytrain4, yeval4=train_test_split(xss, ny, test_size=0.3, random_state=23)\n",
        "xtrain5, xeval5, ytrain5, yeval5=train_test_split(xrr, ny, test_size=0.3, random_state=23)\n",
        "xf, xtf, yf, ytf=train_test_split(x.values, mainy, test_size=0.3, random_state=23)"
      ],
      "metadata": {
        "id": "_EM_2zlXNywR"
      },
      "execution_count": 36,
      "outputs": []
    },
    {
      "cell_type": "code",
      "source": [
        "#xf2, xtf2, yf2, ytf2=train_test_split(xs2.values, mainy, test_size=0.3, random_state=23)"
      ],
      "metadata": {
        "id": "S67DDvDHGdTc"
      },
      "execution_count": 40,
      "outputs": []
    },
    {
      "cell_type": "code",
      "source": [
        ""
      ],
      "metadata": {
        "id": "cxjLOSbGGjos"
      },
      "execution_count": null,
      "outputs": []
    },
    {
      "cell_type": "code",
      "source": [
        "#MAKING A BOXPLOT OF ALL THE COLUMNS After scaling (standardscaler)\n",
        "xtrainp=pd.DataFrame(data=xs)\n",
        "plt.figure(figsize=(13, 4))\n",
        "xtrainp.boxplot()\n",
        "plt.show()"
      ],
      "metadata": {
        "colab": {
          "base_uri": "https://localhost:8080/",
          "height": 265
        },
        "id": "J75gi9g4QQVa",
        "outputId": "ac92f80e-dd31-4a10-dbfc-fe6231c42b58"
      },
      "execution_count": 41,
      "outputs": [
        {
          "output_type": "display_data",
          "data": {
            "text/plain": [
              "<Figure size 936x288 with 1 Axes>"
            ],
            "image/png": "[encoded data removed]"
          },
          "metadata": {
            "needs_background": "light"
          }
        }
      ]
    },
    {
      "cell_type": "code",
      "source": [
        "#robustscaler\n",
        "xtrainp2=pd.DataFrame(data=xr)\n",
        "plt.figure(figsize=(13, 4))\n",
        "xtrainp2.boxplot()\n",
        "plt.show()"
      ],
      "metadata": {
        "id": "xDEh5K5nQc1_"
      },
      "execution_count": null,
      "outputs": []
    },
    {
      "cell_type": "code",
      "source": [
        "#START WITH THE BASELINE MODELS (TESTING 8 MODELS)\n",
        "classifiers=[GradientBoostingClassifier(),GaussianNB(), DecisionTreeClassifier(),MLPClassifier(max_iter=1000), \n",
        "KNeighborsClassifier(), RandomForestClassifier(), CatBoostClassifier(logging_level='Silent'), \n",
        "LogisticRegression(max_iter=2000), XGBClassifier(random_state = 0, use_label_encoder=False, eval_metric='logloss'), \n",
        "LGBMClassifier(), BernoulliNB(), AdaBoostClassifier(), SVC(gamma=2, C=1)]"
      ],
      "metadata": {
        "id": "o-z0pWxcQlWG"
      },
      "execution_count": 42,
      "outputs": []
    },
    {
      "cell_type": "code",
      "source": [
        "#DEFINE FUNCTION TO RUN THE MODELS\n",
        "from sklearn.metrics import mean_squared_error\n",
        "def modeld(classifiers, X_train, y_train, X_test, y_test): \n",
        "    model_lisdt=[]     \n",
        "    for classers in classifiers:        \n",
        "        t1=time.time()\n",
        "        classify=classers\n",
        "        classify = classify.fit(X_train, y_train)\n",
        "        model_lisdt.append(classify)\n",
        "        time_taken = time.time() - t1\n",
        "        \n",
        "        predicted=classify.predict(X_test)        \n",
        "        st=str(classers)\n",
        "                    \n",
        "        print(' \\n ############## {} ################'.format(st))\n",
        "        print(\" Duration =:\\t {}\".format(time_taken))\n",
        "        print(\" Accuracy =: \\t {:0.2f} %\".format(accuracy_score(y_test, predicted)*100))         \n",
        "        print(\" ROC_AUC =: \\t {:0.2f} %\".format(roc_auc_score(y_test, predicted) *100))  \n",
        "        print(\" F1 SCORE =: \\t {:0.2f} %\".format(f1_score(y_test, predicted, average='weighted') *100))\n",
        "        print(\" MSE ERROR =: \\t\", mean_squared_error(y_test,predicted) *100, \"\\t%\") \n",
        "    return(model_lisdt)"
      ],
      "metadata": {
        "id": "d97LJTvaQq7e"
      },
      "execution_count": 43,
      "outputs": []
    },
    {
      "cell_type": "code",
      "source": [
        ""
      ],
      "metadata": {
        "id": "mEOmUxQkQtci"
      },
      "execution_count": null,
      "outputs": []
    },
    {
      "cell_type": "code",
      "source": [
        "#TESTING THE STANDARDISED DATASET\n",
        "standarsised_full=modeld(classifiers, xtrain,ytrain,xeval,yeval)"
      ],
      "metadata": {
        "colab": {
          "base_uri": "https://localhost:8080/"
        },
        "id": "x71ivh_1Qxx8",
        "outputId": "7eeb4ee8-cfb5-4558-9267-b943ccd8907a"
      },
      "execution_count": 44,
      "outputs": [
        {
          "output_type": "stream",
          "name": "stdout",
          "text": [
            " \n",
            " ############## GradientBoostingClassifier() ################\n",
            " Duration =:\t 0.18568015098571777\n",
            " Accuracy =: \t 76.67 %\n",
            " ROC_AUC =: \t 67.59 %\n",
            " F1 SCORE =: \t 75.42 %\n",
            " MSE ERROR =: \t 23.333333333333332 \t%\n",
            " \n",
            " ############## GaussianNB() ################\n",
            " Duration =:\t 0.004721164703369141\n",
            " Accuracy =: \t 69.67 %\n",
            " ROC_AUC =: \t 64.36 %\n",
            " F1 SCORE =: \t 70.00 %\n",
            " MSE ERROR =: \t 30.333333333333336 \t%\n",
            " \n",
            " ############## DecisionTreeClassifier() ################\n",
            " Duration =:\t 0.007439136505126953\n",
            " Accuracy =: \t 71.33 %\n",
            " ROC_AUC =: \t 64.51 %\n",
            " F1 SCORE =: \t 71.13 %\n",
            " MSE ERROR =: \t 28.666666666666668 \t%\n",
            " \n",
            " ############## MLPClassifier(max_iter=1000) ################\n",
            " Duration =:\t 5.153512001037598\n",
            " Accuracy =: \t 69.67 %\n",
            " ROC_AUC =: \t 61.30 %\n",
            " F1 SCORE =: \t 69.02 %\n",
            " MSE ERROR =: \t 30.333333333333336 \t%\n",
            " \n",
            " ############## KNeighborsClassifier() ################\n",
            " Duration =:\t 0.0008008480072021484\n",
            " Accuracy =: \t 72.00 %\n",
            " ROC_AUC =: \t 59.20 %\n",
            " F1 SCORE =: \t 69.02 %\n",
            " MSE ERROR =: \t 28.000000000000004 \t%\n",
            " \n",
            " ############## RandomForestClassifier() ################\n",
            " Duration =:\t 0.2788105010986328\n",
            " Accuracy =: \t 75.33 %\n",
            " ROC_AUC =: \t 64.61 %\n",
            " F1 SCORE =: \t 73.42 %\n",
            " MSE ERROR =: \t 24.666666666666668 \t%\n",
            " \n",
            " ############## <catboost.core.CatBoostClassifier object at 0x7fdf012a9e10> ################\n",
            " Duration =:\t 1.4716212749481201\n",
            " Accuracy =: \t 76.33 %\n",
            " ROC_AUC =: \t 65.99 %\n",
            " F1 SCORE =: \t 74.57 %\n",
            " MSE ERROR =: \t 23.666666666666668 \t%\n",
            " \n",
            " ############## LogisticRegression(max_iter=2000) ################\n",
            " Duration =:\t 0.01614069938659668\n",
            " Accuracy =: \t 72.00 %\n",
            " ROC_AUC =: \t 58.86 %\n",
            " F1 SCORE =: \t 68.80 %\n",
            " MSE ERROR =: \t 28.000000000000004 \t%\n",
            " \n",
            " ############## XGBClassifier(eval_metric='logloss', use_label_encoder=False) ################\n",
            " Duration =:\t 0.1844468116760254\n",
            " Accuracy =: \t 73.67 %\n",
            " ROC_AUC =: \t 62.42 %\n",
            " F1 SCORE =: \t 71.53 %\n",
            " MSE ERROR =: \t 26.333333333333332 \t%\n",
            " \n",
            " ############## LGBMClassifier() ################\n",
            " Duration =:\t 0.08752703666687012\n",
            " Accuracy =: \t 77.00 %\n",
            " ROC_AUC =: \t 67.48 %\n",
            " F1 SCORE =: \t 75.57 %\n",
            " MSE ERROR =: \t 23.0 \t%\n",
            " \n",
            " ############## BernoulliNB() ################\n",
            " Duration =:\t 0.003086090087890625\n",
            " Accuracy =: \t 69.67 %\n",
            " ROC_AUC =: \t 56.88 %\n",
            " F1 SCORE =: \t 66.78 %\n",
            " MSE ERROR =: \t 30.333333333333336 \t%\n",
            " \n",
            " ############## AdaBoostClassifier() ################\n",
            " Duration =:\t 0.13074660301208496\n",
            " Accuracy =: \t 73.00 %\n",
            " ROC_AUC =: \t 62.63 %\n",
            " F1 SCORE =: \t 71.33 %\n",
            " MSE ERROR =: \t 27.0 \t%\n",
            " \n",
            " ############## SVC(C=1, gamma=2) ################\n",
            " Duration =:\t 0.03917670249938965\n",
            " Accuracy =: \t 71.33 %\n",
            " ROC_AUC =: \t 50.57 %\n",
            " F1 SCORE =: \t 59.73 %\n",
            " MSE ERROR =: \t 28.666666666666668 \t%\n"
          ]
        }
      ]
    },
    {
      "cell_type": "markdown",
      "source": [
        " ############## LGBMClassifier() ################\n",
        " Duration =:\t 0.06352019309997559\n",
        " Accuracy =: \t 77.00 %\n",
        " ROC_AUC =: \t 67.48 %\n",
        " F1 SCORE =: \t 75.57 %\n",
        " MSE ERROR =: \t 23.0 \t%"
      ],
      "metadata": {
        "id": "AHHAI3bQRnzz"
      }
    },
    {
      "cell_type": "code",
      "source": [
        ""
      ],
      "metadata": {
        "id": "A2bN2jM3UoHJ"
      },
      "execution_count": null,
      "outputs": []
    },
    {
      "cell_type": "code",
      "source": [
        "robust_full=modeld(classifiers, xtrain2,ytrain2,xeval2,yeval2)"
      ],
      "metadata": {
        "id": "9wOK4smKRrmC"
      },
      "execution_count": null,
      "outputs": []
    },
    {
      "cell_type": "markdown",
      "source": [
        "############## LGBMClassifier() ################\n",
        " Duration =:\t 0.061649322509765625\n",
        " Accuracy =: \t 77.33 %\n",
        " ROC_AUC =: \t 68.40 %\n",
        " F1 SCORE =: \t 76.12 %\n",
        " MSE ERROR =: \t 22.666666666666664 \t%"
      ],
      "metadata": {
        "id": "rLWSeV30SRtu"
      }
    },
    {
      "cell_type": "code",
      "source": [
        ""
      ],
      "metadata": {
        "id": "bepgwTRkUrAq"
      },
      "execution_count": null,
      "outputs": []
    },
    {
      "cell_type": "code",
      "source": [
        "rs_full=modeld(classifiers, xtrain4,ytrain4,xeval4,yeval4)#Resampled + standarded"
      ],
      "metadata": {
        "id": "LZtZ0viKSXJ1"
      },
      "execution_count": null,
      "outputs": []
    },
    {
      "cell_type": "markdown",
      "source": [
        " \n",
        "  ############## RandomForestClassifier() ################\n",
        " Duration =:\t 0.23058009147644043\n",
        " Accuracy =: \t 88.06 %\n",
        " ROC_AUC =: \t 87.69 %\n",
        " F1 SCORE =: \t 88.05 %\n",
        " MSE ERROR =: \t 11.944444444444445 \t%\n",
        " \n",
        " \n",
        " \n",
        " ############## SVC(C=1, gamma=2) ################\n",
        " Duration =:\t 0.04724311828613281\n",
        " Accuracy =: \t 89.72 %\n",
        " ROC_AUC =: \t 87.75 %\n",
        " F1 SCORE =: \t 89.42 %\n",
        " MSE ERROR =: \t 10.277777777777777 \t%"
      ],
      "metadata": {
        "id": "Gy7rRUVZTE2j"
      }
    },
    {
      "cell_type": "code",
      "source": [
        ""
      ],
      "metadata": {
        "id": "jcnf9L7AUtF_"
      },
      "execution_count": null,
      "outputs": []
    },
    {
      "cell_type": "code",
      "source": [
        "rr_full=modeld(classifiers, xtrain5,ytrain5,xeval5,yeval5)#Resampled + robust"
      ],
      "metadata": {
        "id": "67nSD1TgTh46"
      },
      "execution_count": null,
      "outputs": []
    },
    {
      "cell_type": "markdown",
      "source": [
        "  ############## RandomForestClassifier() ################\n",
        " Duration =:\t 0.23780035972595215\n",
        " Accuracy =: \t 87.22 %\n",
        " ROC_AUC =: \t 87.07 %\n",
        " F1 SCORE =: \t 87.24 %\n",
        " MSE ERROR =: \t 12.777777777777777 \t%\n",
        "\n",
        " \n",
        " \n",
        " ############## SVC(C=1, gamma=2) ################\n",
        " Duration =:\t 0.04800581932067871\n",
        " Accuracy =: \t 89.72 %\n",
        " ROC_AUC =: \t 87.75 %\n",
        " F1 SCORE =: \t 89.42 %\n",
        " MSE ERROR =: \t 10.277777777777777 \t%"
      ],
      "metadata": {
        "id": "t_6zTLUbT6Fo"
      }
    },
    {
      "cell_type": "code",
      "source": [
        ""
      ],
      "metadata": {
        "id": "F_iSX4DvUMPR"
      },
      "execution_count": null,
      "outputs": []
    },
    {
      "cell_type": "code",
      "source": [
        "f_full=modeld(classifiers, xf,yf,xtf,ytf)#unsampled full"
      ],
      "metadata": {
        "id": "K1I0ljMJUMDP"
      },
      "execution_count": null,
      "outputs": []
    },
    {
      "cell_type": "markdown",
      "source": [
        " ############## LGBMClassifier() ################\n",
        " Duration =:\t 0.06250810623168945\n",
        " Accuracy =: \t 77.00 %\n",
        " ROC_AUC =: \t 67.48 %\n",
        " F1 SCORE =: \t 75.57 %\n",
        " MSE ERROR =: \t 23.0 \t%"
      ],
      "metadata": {
        "id": "E1xcEFu9Ujz3"
      }
    },
    {
      "cell_type": "code",
      "source": [
        ""
      ],
      "metadata": {
        "id": "7BR5m9vKGvHZ"
      },
      "execution_count": null,
      "outputs": []
    },
    {
      "cell_type": "markdown",
      "source": [
        ""
      ],
      "metadata": {
        "id": "X4TtLJoTHumq"
      }
    },
    {
      "cell_type": "code",
      "source": [
        "enc_std=modeld(classifiers, xf2, yf2, xtf2, ytf2) #enc coded data"
      ],
      "metadata": {
        "id": "7rBOkizqGvD9"
      },
      "execution_count": null,
      "outputs": []
    },
    {
      "cell_type": "markdown",
      "source": [
        " ############## <catboost.core.CatBoostClassifier object at 0x7efdcf700310> ################\n",
        " Duration =:\t 1.1473736763000488\n",
        " Accuracy =: \t 76.33 %\n",
        " ROC_AUC =: \t 65.99 %\n",
        " F1 SCORE =: \t 74.57 %\n",
        " MSE ERROR =: \t 23.666666666666668 \t%"
      ],
      "metadata": {
        "id": "BMErS6t3HszK"
      }
    },
    {
      "cell_type": "code",
      "source": [
        ""
      ],
      "metadata": {
        "id": "bd_jfTh3U-RT"
      },
      "execution_count": null,
      "outputs": []
    },
    {
      "cell_type": "markdown",
      "source": [
        "*Most of the models perfomed well on the STANDARDISED and ROBUST-SCALED resampled dataset, but we selected (randomforest) and catboost to optimize on  standardised dataset*"
      ],
      "metadata": {
        "id": "LGLmgiG-VP0T"
      }
    },
    {
      "cell_type": "code",
      "source": [
        "modeld=standarsised_full[5]\n",
        "modeld"
      ],
      "metadata": {
        "colab": {
          "base_uri": "https://localhost:8080/"
        },
        "id": "tcfqwaBNU-vz",
        "outputId": "38510926-4163-468d-8102-8fca63beafd8"
      },
      "execution_count": 45,
      "outputs": [
        {
          "output_type": "execute_result",
          "data": {
            "text/plain": [
              "RandomForestClassifier()"
            ]
          },
          "metadata": {},
          "execution_count": 45
        }
      ]
    },
    {
      "cell_type": "code",
      "source": [
        "model2=standarsised_full[6]\n",
        "model2"
      ],
      "metadata": {
        "colab": {
          "base_uri": "https://localhost:8080/"
        },
        "id": "sAOX7K1Ib-ME",
        "outputId": "5c5c490d-7993-48b7-d08f-151f768154f5"
      },
      "execution_count": 46,
      "outputs": [
        {
          "output_type": "execute_result",
          "data": {
            "text/plain": [
              "<catboost.core.CatBoostClassifier at 0x7fdf012a9e10>"
            ]
          },
          "metadata": {},
          "execution_count": 46
        }
      ]
    },
    {
      "cell_type": "code",
      "source": [
        "ypred3=modeld.predict(xeval)"
      ],
      "metadata": {
        "id": "OOrHO_tAV6XL"
      },
      "execution_count": 47,
      "outputs": []
    },
    {
      "cell_type": "code",
      "source": [
        "ypred4=model2.predict(xeval)"
      ],
      "metadata": {
        "id": "33CcXk61cEd1"
      },
      "execution_count": 48,
      "outputs": []
    },
    {
      "cell_type": "code",
      "source": [
        "cm=confusion_matrix(yeval, ypred3)\n",
        "cm"
      ],
      "metadata": {
        "colab": {
          "base_uri": "https://localhost:8080/"
        },
        "id": "b9WJ4QOjXJh3",
        "outputId": "af5359f9-b713-45e3-e970-be8210d7563e"
      },
      "execution_count": 49,
      "outputs": [
        {
          "output_type": "execute_result",
          "data": {
            "text/plain": [
              "array([[192,  21],\n",
              "       [ 53,  34]])"
            ]
          },
          "metadata": {},
          "execution_count": 49
        }
      ]
    },
    {
      "cell_type": "code",
      "source": [
        "cm2=confusion_matrix(yeval, ypred4)\n",
        "cm2"
      ],
      "metadata": {
        "colab": {
          "base_uri": "https://localhost:8080/"
        },
        "id": "z1MA15ZQcM9G",
        "outputId": "2ab4b9dc-62f2-4d2b-dc6b-1d6763d50683"
      },
      "execution_count": 50,
      "outputs": [
        {
          "output_type": "execute_result",
          "data": {
            "text/plain": [
              "array([[193,  20],\n",
              "       [ 51,  36]])"
            ]
          },
          "metadata": {},
          "execution_count": 50
        }
      ]
    },
    {
      "cell_type": "code",
      "source": [
        "plt.figure(figsize=(3, 2))\n",
        "sn.heatmap(cm, annot=True, fmt=\"d\",cmap='Blues')\n",
        "plt.xlabel('Predicted')\n",
        "plt.ylabel('Truth')\n",
        "plt.show()"
      ],
      "metadata": {
        "colab": {
          "base_uri": "https://localhost:8080/",
          "height": 171
        },
        "id": "VR9sgjs4bm5H",
        "outputId": "689cc929-70fb-4ef6-baf1-c3151e442cc7"
      },
      "execution_count": 51,
      "outputs": [
        {
          "output_type": "display_data",
          "data": {
            "text/plain": [
              "<Figure size 216x144 with 2 Axes>"
            ],
            "image/png": "[encoded data removed]"
          },
          "metadata": {
            "needs_background": "light"
          }
        }
      ]
    },
    {
      "cell_type": "code",
      "source": [
        ""
      ],
      "metadata": {
        "id": "-3VZKwwHcnoO"
      },
      "execution_count": null,
      "outputs": []
    },
    {
      "cell_type": "markdown",
      "source": [
        "**SELECT CATBOOST MODEL, EVALUATE AND OPTIMIZE**"
      ],
      "metadata": {
        "id": "tTyTpIL3cupU"
      }
    },
    {
      "cell_type": "code",
      "source": [
        "from sklearn.model_selection import RepeatedKFold\n",
        "from sklearn.model_selection import cross_val_score"
      ],
      "metadata": {
        "id": "PlGfL3_Ucnkt"
      },
      "execution_count": 52,
      "outputs": []
    },
    {
      "cell_type": "code",
      "source": [
        "#RF\n",
        "cvs = RepeatedKFold(n_splits=10, n_repeats=3, random_state=1)\n",
        "# evaluate model\n",
        "scores = cross_val_score(modeld, xtrain, ytrain, scoring='accuracy', cv=cvs, n_jobs=-1)\n",
        "print('Validation Accuracy and std =:\\t %.3f (%.3f)' % (np.mean(scores), np.std(scores)))"
      ],
      "metadata": {
        "colab": {
          "base_uri": "https://localhost:8080/"
        },
        "id": "tRwjHF9dc1PH",
        "outputId": "b3ce7bb3-6fb0-4d6f-947d-b8cd077d86db"
      },
      "execution_count": 53,
      "outputs": [
        {
          "output_type": "stream",
          "name": "stdout",
          "text": [
            "Validation Accuracy and std =:\t 0.749 (0.049)\n"
          ]
        }
      ]
    },
    {
      "cell_type": "code",
      "source": [
        "#CATBOOST\n",
        "scores = cross_val_score(model2, xtrain, ytrain, scoring='accuracy', cv=cvs, n_jobs=-1)\n",
        "print('Validation Accuracy and std =:\\t %.3f (%.3f)' % (np.mean(scores), np.std(scores)))"
      ],
      "metadata": {
        "colab": {
          "base_uri": "https://localhost:8080/"
        },
        "id": "qbAx6HyYdB6e",
        "outputId": "fcfbeaf8-bbb2-4c29-f8b3-9edd7c90906b"
      },
      "execution_count": 54,
      "outputs": [
        {
          "output_type": "stream",
          "name": "stdout",
          "text": [
            "Validation Accuracy and std =:\t 0.766 (0.056)\n"
          ]
        }
      ]
    },
    {
      "cell_type": "code",
      "source": [
        "from sklearn.model_selection import GridSearchCV\n",
        "from sklearn.model_selection import RandomizedSearchCV\n",
        "\n",
        "grid = {'iterations': [10, 30, 50],\n",
        "        'learning_rate': [0.03, 0.1],\n",
        "        'depth': [2, 4, 6, 8],\n",
        "        'l2_leaf_reg': [0.2, 0.5, 1, 3]}\n",
        "        \n",
        "best_model= GridSearchCV(model2, grid,  cv=cvs,  n_jobs=1, error_score='raise', scoring = 'roc_auc') \n",
        "best_model.fit(xtrain, ytrain)   \n",
        "acc= best_model.score(xeval, yeval) \n",
        "print('OPTIMISED MODEL ACCURACY =: \\t{:0.2f}'.format(acc))"
      ],
      "metadata": {
        "colab": {
          "base_uri": "https://localhost:8080/"
        },
        "id": "sgwH7kUpdRRV",
        "outputId": "7071b929-b342-4ac9-c8b3-92e20cf34bed"
      },
      "execution_count": 55,
      "outputs": [
        {
          "output_type": "stream",
          "name": "stdout",
          "text": [
            "OPTIMISED MODEL ACCURACY =: \t0.76\n"
          ]
        }
      ]
    },
    {
      "cell_type": "code",
      "source": [
        "best_model.best_params_"
      ],
      "metadata": {
        "colab": {
          "base_uri": "https://localhost:8080/"
        },
        "id": "YKvlqYk2dtAF",
        "outputId": "aa54393a-63a0-45db-bda3-b72ca7fd1a25"
      },
      "execution_count": 58,
      "outputs": [
        {
          "output_type": "execute_result",
          "data": {
            "text/plain": [
              "{'depth': 8, 'iterations': 50, 'l2_leaf_reg': 3, 'learning_rate': 0.03}"
            ]
          },
          "metadata": {},
          "execution_count": 58
        }
      ]
    },
    {
      "cell_type": "code",
      "source": [
        "#OPTIMIZE RF\n",
        "grid2 = {'criterion': ['gini','entropy'],\n",
        "        'max_depth': [2,3,6,10, 20],\n",
        "        'max_features': ['log2', 'sqrt'],\n",
        "        'min_samples_leaf': [1,3,5],\n",
        "        'min_samples_split': [2,3,5],\n",
        "        'min_weight_fraction_leaf': [0.0],\n",
        "        'n_estimators': [10, 20],       \n",
        "        'n_jobs': [1],'random_state':[42]}\n",
        "        \n",
        "best_model2= GridSearchCV(modeld, grid2,  cv=cvs,  n_jobs=1, error_score='raise', scoring = 'roc_auc') \n",
        "best_model2.fit(xtrain, ytrain)   \n",
        "acc2= best_model.score(xeval, yeval) \n",
        "print('OPTIMISED MODEL ACCURACY =: \\t{:0.2f}'.format(acc2))"
      ],
      "metadata": {
        "colab": {
          "base_uri": "https://localhost:8080/"
        },
        "id": "wr1_2cdads8s",
        "outputId": "71f85430-a208-488f-9d6b-d89ea57f1001"
      },
      "execution_count": 56,
      "outputs": [
        {
          "output_type": "stream",
          "name": "stdout",
          "text": [
            "OPTIMISED MODEL ACCURACY =: \t0.76\n"
          ]
        }
      ]
    },
    {
      "cell_type": "code",
      "source": [
        "best_model2.best_params_"
      ],
      "metadata": {
        "colab": {
          "base_uri": "https://localhost:8080/"
        },
        "id": "m8EJtwtyhOiY",
        "outputId": "f51b6171-423d-42cb-f753-13c639b2ff76"
      },
      "execution_count": 57,
      "outputs": [
        {
          "output_type": "execute_result",
          "data": {
            "text/plain": [
              "{'criterion': 'entropy',\n",
              " 'max_depth': 20,\n",
              " 'max_features': 'log2',\n",
              " 'min_samples_leaf': 3,\n",
              " 'min_samples_split': 2,\n",
              " 'min_weight_fraction_leaf': 0.0,\n",
              " 'n_estimators': 20,\n",
              " 'n_jobs': 1,\n",
              " 'random_state': 42}"
            ]
          },
          "metadata": {},
          "execution_count": 57
        }
      ]
    },
    {
      "cell_type": "code",
      "source": [
        ""
      ],
      "metadata": {
        "id": "RZbjvkmzhOe-"
      },
      "execution_count": null,
      "outputs": []
    },
    {
      "cell_type": "code",
      "source": [
        ""
      ],
      "metadata": {
        "id": "CPlhyCGDhOTT"
      },
      "execution_count": null,
      "outputs": []
    },
    {
      "cell_type": "markdown",
      "source": [
        "**WITH ANN**"
      ],
      "metadata": {
        "id": "_nFOiMZufeGZ"
      }
    },
    {
      "cell_type": "code",
      "source": [
        "import tensorflow as tf\n",
        "from tensorflow import keras\n",
        "\n",
        "model = keras.Sequential([\n",
        "    keras.layers.Dense(20, input_shape=(20,), activation='relu'),\n",
        "    keras.layers.Dense(15, activation='relu'),\n",
        "    keras.layers.Dense(1, activation='sigmoid')\n",
        "])\n",
        "\n",
        "# opt = keras.optimizers.Adam(learning_rate=0.01)\n",
        "\n",
        "model.compile(optimizer='SGD',\n",
        "              loss='binary_crossentropy',\n",
        "              metrics=['accuracy'])\n",
        "\n",
        "model.fit(xtrain, ytrain, epochs=100)# Using balanced dataset\n",
        "\n",
        "#es_callback = tf.keras.callbacks.EarlyStopping(monitor='accuracy', patience=5,  restore_best_weights=True,verbose=1)\n",
        "#models.fit(xtrain, ytrains,callbacks=es_callback, epochs=50)"
      ],
      "metadata": {
        "id": "b243_Gmac7Cv"
      },
      "execution_count": null,
      "outputs": []
    },
    {
      "cell_type": "code",
      "source": [
        "model.evaluate(xeval,yeval)"
      ],
      "metadata": {
        "id": "XM0pg8dsfyWo"
      },
      "execution_count": null,
      "outputs": []
    },
    {
      "cell_type": "code",
      "source": [
        "preds=model.predict(xeval)\n",
        "preds"
      ],
      "metadata": {
        "id": "sLYl48qif3OP"
      },
      "execution_count": null,
      "outputs": []
    },
    {
      "cell_type": "code",
      "source": [
        "y_predt = []\n",
        "for el in preds:\n",
        "    if el > 0.5:\n",
        "        y_predt.append(1)\n",
        "    else:\n",
        "        y_predt.append(0)"
      ],
      "metadata": {
        "id": "4-XwRFsHf8ru"
      },
      "execution_count": null,
      "outputs": []
    },
    {
      "cell_type": "code",
      "source": [
        "cm4 = tf.math.confusion_matrix(labels=yeval, predictions=y_predt)\n",
        "cm4"
      ],
      "metadata": {
        "id": "lWs5_J7kgC_B"
      },
      "execution_count": null,
      "outputs": []
    },
    {
      "cell_type": "code",
      "source": [
        "plt.figure(figsize=(3, 2))\n",
        "sn.heatmap(cm4, annot=True, fmt=\"d\",cmap='Reds')\n",
        "plt.xlabel('Predicted')\n",
        "plt.ylabel('Truth')\n",
        "plt.show()"
      ],
      "metadata": {
        "id": "VCF95g29gGtB"
      },
      "execution_count": null,
      "outputs": []
    },
    {
      "cell_type": "code",
      "source": [
        ""
      ],
      "metadata": {
        "id": "2lxQ8ayigSnq"
      },
      "execution_count": null,
      "outputs": []
    },
    {
      "cell_type": "code",
      "source": [
        ""
      ],
      "metadata": {
        "id": "glDdBJuVgSds"
      },
      "execution_count": null,
      "outputs": []
    },
    {
      "cell_type": "code",
      "source": [
        ""
      ],
      "metadata": {
        "id": "_pmS0Ewih6FR"
      },
      "execution_count": null,
      "outputs": []
    },
    {
      "cell_type": "markdown",
      "source": [
        "**LOADING THE CORRUPTED DATASET**"
      ],
      "metadata": {
        "id": "H9F-6sSwgUK4"
      }
    },
    {
      "cell_type": "code",
      "source": [
        "cdata=pd.read_csv('/content/corrupted.csv', header=0)\n",
        "cdata.head(2)"
      ],
      "metadata": {
        "colab": {
          "base_uri": "https://localhost:8080/",
          "height": 141
        },
        "id": "6YLYwDI5gSOq",
        "outputId": "40e7f448-14f8-4da8-baba-94bf1ddc7778"
      },
      "execution_count": 59,
      "outputs": [
        {
          "output_type": "execute_result",
          "data": {
            "text/plain": [
              "   Unnamed: 0 V1    V2 V3   V4      V5 V6 V7   V8 V9  ...  V11  V12   V13  \\\n",
              "0           1  B  18.0  E  NaN  1295.0  A  B  4.0  B  ...  1.0    B  27.0   \n",
              "1           2  D  21.0  C    A  2782.0  C  D  1.0  B  ...  2.0    C  31.0   \n",
              "\n",
              "   V14 V15  V16  V17  V18  V19 V20  \n",
              "0    C   B  2.0    C  1.0    A   A  \n",
              "1    A   B  1.0    D  1.0    A   A  \n",
              "\n",
              "[2 rows x 21 columns]"
            ],
            "text/html": [
              "\n",
              "  <div id=\"df-1f15a01b-ad44-4ac0-bef6-d2e2a322a6ee\">\n",
              "    <div class=\"colab-df-container\">\n",
              "      <div>\n",
              "<style scoped>\n",
              "    .dataframe tbody tr th:only-of-type {\n",
              "        vertical-align: middle;\n",
              "    }\n",
              "\n",
              "    .dataframe tbody tr th {\n",
              "        vertical-align: top;\n",
              "    }\n",
              "\n",
              "    .dataframe thead th {\n",
              "        text-align: right;\n",
              "    }\n",
              "</style>\n",
              "<table border=\"1\" class=\"dataframe\">\n",
              "  <thead>\n",
              "    <tr style=\"text-align: right;\">\n",
              "      <th></th>\n",
              "      <th>Unnamed: 0</th>\n",
              "      <th>V1</th>\n",
              "      <th>V2</th>\n",
              "      <th>V3</th>\n",
              "      <th>V4</th>\n",
              "      <th>V5</th>\n",
              "      <th>V6</th>\n",
              "      <th>V7</th>\n",
              "      <th>V8</th>\n",
              "      <th>V9</th>\n",
              "      <th>...</th>\n",
              "      <th>V11</th>\n",
              "      <th>V12</th>\n",
              "      <th>V13</th>\n",
              "      <th>V14</th>\n",
              "      <th>V15</th>\n",
              "      <th>V16</th>\n",
              "      <th>V17</th>\n",
              "      <th>V18</th>\n",
              "      <th>V19</th>\n",
              "      <th>V20</th>\n",
              "    </tr>\n",
              "  </thead>\n",
              "  <tbody>\n",
              "    <tr>\n",
              "      <th>0</th>\n",
              "      <td>1</td>\n",
              "      <td>B</td>\n",
              "      <td>18.0</td>\n",
              "      <td>E</td>\n",
              "      <td>NaN</td>\n",
              "      <td>1295.0</td>\n",
              "      <td>A</td>\n",
              "      <td>B</td>\n",
              "      <td>4.0</td>\n",
              "      <td>B</td>\n",
              "      <td>...</td>\n",
              "      <td>1.0</td>\n",
              "      <td>B</td>\n",
              "      <td>27.0</td>\n",
              "      <td>C</td>\n",
              "      <td>B</td>\n",
              "      <td>2.0</td>\n",
              "      <td>C</td>\n",
              "      <td>1.0</td>\n",
              "      <td>A</td>\n",
              "      <td>A</td>\n",
              "    </tr>\n",
              "    <tr>\n",
              "      <th>1</th>\n",
              "      <td>2</td>\n",
              "      <td>D</td>\n",
              "      <td>21.0</td>\n",
              "      <td>C</td>\n",
              "      <td>A</td>\n",
              "      <td>2782.0</td>\n",
              "      <td>C</td>\n",
              "      <td>D</td>\n",
              "      <td>1.0</td>\n",
              "      <td>B</td>\n",
              "      <td>...</td>\n",
              "      <td>2.0</td>\n",
              "      <td>C</td>\n",
              "      <td>31.0</td>\n",
              "      <td>A</td>\n",
              "      <td>B</td>\n",
              "      <td>1.0</td>\n",
              "      <td>D</td>\n",
              "      <td>1.0</td>\n",
              "      <td>A</td>\n",
              "      <td>A</td>\n",
              "    </tr>\n",
              "  </tbody>\n",
              "</table>\n",
              "<p>2 rows × 21 columns</p>\n",
              "</div>\n",
              "      <button class=\"colab-df-convert\" onclick=\"convertToInteractive('df-1f15a01b-ad44-4ac0-bef6-d2e2a322a6ee')\"\n",
              "              title=\"Convert this dataframe to an interactive table.\"\n",
              "              style=\"display:none;\">\n",
              "        \n",
              "  <svg xmlns=\"http://www.w3.org/2000/svg\" height=\"24px\"viewBox=\"0 0 24 24\"\n",
              "       width=\"24px\">\n",
              "    <path d=\"M0 0h24v24H0V0z\" fill=\"none\"/>\n",
              "    <path d=\"M18.56 5.44l.94 2.06.94-2.06 2.06-.94-2.06-.94-.94-2.06-.94 2.06-2.06.94zm-11 1L8.5 8.5l.94-2.06 2.06-.94-2.06-.94L8.5 2.5l-.94 2.06-2.06.94zm10 10l.94 2.06.94-2.06 2.06-.94-2.06-.94-.94-2.06-.94 2.06-2.06.94z\"/><path d=\"M17.41 7.96l-1.37-1.37c-.4-.4-.92-.59-1.43-.59-.52 0-1.04.2-1.43.59L10.3 9.45l-7.72 7.72c-.78.78-.78 2.05 0 2.83L4 21.41c.39.39.9.59 1.41.59.51 0 1.02-.2 1.41-.59l7.78-7.78 2.81-2.81c.8-.78.8-2.07 0-2.86zM5.41 20L4 18.59l7.72-7.72 1.47 1.35L5.41 20z\"/>\n",
              "  </svg>\n",
              "      </button>\n",
              "      \n",
              "  <style>\n",
              "    .colab-df-container {\n",
              "      display:flex;\n",
              "      flex-wrap:wrap;\n",
              "      gap: 12px;\n",
              "    }\n",
              "\n",
              "    .colab-df-convert {\n",
              "      background-color: #E8F0FE;\n",
              "      border: none;\n",
              "      border-radius: 50%;\n",
              "      cursor: pointer;\n",
              "      display: none;\n",
              "      fill: #1967D2;\n",
              "      height: 32px;\n",
              "      padding: 0 0 0 0;\n",
              "      width: 32px;\n",
              "    }\n",
              "\n",
              "    .colab-df-convert:hover {\n",
              "      background-color: #E2EBFA;\n",
              "      box-shadow: 0px 1px 2px rgba(60, 64, 67, 0.3), 0px 1px 3px 1px rgba(60, 64, 67, 0.15);\n",
              "      fill: #174EA6;\n",
              "    }\n",
              "\n",
              "    [theme=dark] .colab-df-convert {\n",
              "      background-color: #3B4455;\n",
              "      fill: #D2E3FC;\n",
              "    }\n",
              "\n",
              "    [theme=dark] .colab-df-convert:hover {\n",
              "      background-color: #434B5C;\n",
              "      box-shadow: 0px 1px 3px 1px rgba(0, 0, 0, 0.15);\n",
              "      filter: drop-shadow(0px 1px 2px rgba(0, 0, 0, 0.3));\n",
              "      fill: #FFFFFF;\n",
              "    }\n",
              "  </style>\n",
              "\n",
              "      <script>\n",
              "        const buttonEl =\n",
              "          document.querySelector('#df-1f15a01b-ad44-4ac0-bef6-d2e2a322a6ee button.colab-df-convert');\n",
              "        buttonEl.style.display =\n",
              "          google.colab.kernel.accessAllowed ? 'block' : 'none';\n",
              "\n",
              "        async function convertToInteractive(key) {\n",
              "          const element = document.querySelector('#df-1f15a01b-ad44-4ac0-bef6-d2e2a322a6ee');\n",
              "          const dataTable =\n",
              "            await google.colab.kernel.invokeFunction('convertToInteractive',\n",
              "                                                     [key], {});\n",
              "          if (!dataTable) return;\n",
              "\n",
              "          const docLinkHtml = 'Like what you see? Visit the ' +\n",
              "            '<a target=\"_blank\" href=https://colab.research.google.com/notebooks/data_table.ipynb>data table notebook</a>'\n",
              "            + ' to learn more about interactive tables.';\n",
              "          element.innerHTML = '';\n",
              "          dataTable['output_type'] = 'display_data';\n",
              "          await google.colab.output.renderOutput(dataTable, element);\n",
              "          const docLink = document.createElement('div');\n",
              "          docLink.innerHTML = docLinkHtml;\n",
              "          element.appendChild(docLink);\n",
              "        }\n",
              "      </script>\n",
              "    </div>\n",
              "  </div>\n",
              "  "
            ]
          },
          "metadata": {},
          "execution_count": 59
        }
      ]
    },
    {
      "cell_type": "code",
      "source": [
        "cdata=cdata.drop('Unnamed: 0', axis=1)\n",
        "cdata.shape"
      ],
      "metadata": {
        "colab": {
          "base_uri": "https://localhost:8080/"
        },
        "id": "lVejSgERgcLB",
        "outputId": "12e12e70-20db-4507-e7d7-ffe8ae772621"
      },
      "execution_count": 60,
      "outputs": [
        {
          "output_type": "execute_result",
          "data": {
            "text/plain": [
              "(1000, 20)"
            ]
          },
          "metadata": {},
          "execution_count": 60
        }
      ]
    },
    {
      "cell_type": "code",
      "source": [
        "#Checking for missing values\n",
        "cdata.isnull().sum()"
      ],
      "metadata": {
        "id": "gZ3yOpEtgg6Y"
      },
      "execution_count": null,
      "outputs": []
    },
    {
      "cell_type": "markdown",
      "source": [
        "All the columns has missing values"
      ],
      "metadata": {
        "id": "yQzEPhBggoxq"
      }
    },
    {
      "cell_type": "code",
      "source": [
        "colours = ['#000099', '#ffff00'] \n",
        "sn.heatmap(cdata.isnull(), cmap=sn.color_palette(colours))\n",
        "plt.show()\n",
        "#Yellow shows the missind/NaN cells"
      ],
      "metadata": {
        "id": "0x9oq5ePgsnR"
      },
      "execution_count": null,
      "outputs": []
    },
    {
      "cell_type": "code",
      "source": [
        "#CHECK PERCENTAGE MISSINESS\n",
        "for coll in cdata.columns:\n",
        "    mis= (cdata[coll].isnull().sum())/len(cdata[coll])\n",
        "    print('{} - {}%'.format(coll, round(mis*100)))"
      ],
      "metadata": {
        "id": "KIK1J863gy6B"
      },
      "execution_count": null,
      "outputs": []
    },
    {
      "cell_type": "code",
      "source": [
        "#ELIMINATE AUTOMATICALLY VARIABLES WITH MORE THAN 20% OF MISSINGNESS\n",
        "cdatas= cdata[cdata.columns[cdata.isnull().sum() > 0.1]]\n",
        "cdatas.shape"
      ],
      "metadata": {
        "colab": {
          "base_uri": "https://localhost:8080/"
        },
        "id": "N1wXGp5KgznF",
        "outputId": "9b0c32e6-024e-4015-d4b5-0cf125bc9472"
      },
      "execution_count": 61,
      "outputs": [
        {
          "output_type": "execute_result",
          "data": {
            "text/plain": [
              "(1000, 20)"
            ]
          },
          "metadata": {},
          "execution_count": 61
        }
      ]
    },
    {
      "cell_type": "markdown",
      "source": [
        "*All 20 columns contain at least 10% missing value, but less than 20%, so we fill them rather than remove the columns*"
      ],
      "metadata": {
        "id": "fiBvhjG5hDxp"
      }
    },
    {
      "cell_type": "code",
      "source": [
        "#1. FIRST, WE USE PANDAS INTERPOLATE TO INTERPOLATE MISSING CELLS\n",
        "cdatas=cdatas.interpolate(method='pad')"
      ],
      "metadata": {
        "id": "a0HgSj7DkhOU"
      },
      "execution_count": 62,
      "outputs": []
    },
    {
      "cell_type": "code",
      "source": [
        "cdatas.isnull().sum()"
      ],
      "metadata": {
        "id": "MEp3Ui57kn3Q"
      },
      "execution_count": null,
      "outputs": []
    },
    {
      "cell_type": "code",
      "source": [
        "#2. WE USE BACKWARDS FILL TO FILL THE REMAIN 1 SINGLE CELL\n",
        "cdatas.V4=cdatas.V4.fillna(method='bfill')\n",
        "cdatas.head(3)"
      ],
      "metadata": {
        "colab": {
          "base_uri": "https://localhost:8080/",
          "height": 143
        },
        "id": "HnjD7cpbkwPi",
        "outputId": "25503e7c-711c-4f9e-fa1a-021602be6423"
      },
      "execution_count": 64,
      "outputs": [
        {
          "output_type": "execute_result",
          "data": {
            "text/plain": [
              "  V1    V2 V3 V4      V5 V6 V7   V8 V9 V10  V11 V12   V13 V14 V15  V16 V17  \\\n",
              "0  B  18.0  E  A  1295.0  A  B  4.0  B   A  1.0   B  27.0   C   B  2.0   C   \n",
              "1  D  21.0  C  A  2782.0  C  D  1.0  B   A  2.0   C  31.0   A   B  1.0   D   \n",
              "2  D   9.0  C  E  1126.0  B  E  2.0  A   A  4.0   A  49.0   C   B  1.0   C   \n",
              "\n",
              "   V18 V19 V20  \n",
              "0  1.0   A   A  \n",
              "1  1.0   A   A  \n",
              "2  1.0   A   A  "
            ],
            "text/html": [
              "\n",
              "  <div id=\"df-34954645-9045-4d68-ab1f-5754a58998d7\">\n",
              "    <div class=\"colab-df-container\">\n",
              "      <div>\n",
              "<style scoped>\n",
              "    .dataframe tbody tr th:only-of-type {\n",
              "        vertical-align: middle;\n",
              "    }\n",
              "\n",
              "    .dataframe tbody tr th {\n",
              "        vertical-align: top;\n",
              "    }\n",
              "\n",
              "    .dataframe thead th {\n",
              "        text-align: right;\n",
              "    }\n",
              "</style>\n",
              "<table border=\"1\" class=\"dataframe\">\n",
              "  <thead>\n",
              "    <tr style=\"text-align: right;\">\n",
              "      <th></th>\n",
              "      <th>V1</th>\n",
              "      <th>V2</th>\n",
              "      <th>V3</th>\n",
              "      <th>V4</th>\n",
              "      <th>V5</th>\n",
              "      <th>V6</th>\n",
              "      <th>V7</th>\n",
              "      <th>V8</th>\n",
              "      <th>V9</th>\n",
              "      <th>V10</th>\n",
              "      <th>V11</th>\n",
              "      <th>V12</th>\n",
              "      <th>V13</th>\n",
              "      <th>V14</th>\n",
              "      <th>V15</th>\n",
              "      <th>V16</th>\n",
              "      <th>V17</th>\n",
              "      <th>V18</th>\n",
              "      <th>V19</th>\n",
              "      <th>V20</th>\n",
              "    </tr>\n",
              "  </thead>\n",
              "  <tbody>\n",
              "    <tr>\n",
              "      <th>0</th>\n",
              "      <td>B</td>\n",
              "      <td>18.0</td>\n",
              "      <td>E</td>\n",
              "      <td>A</td>\n",
              "      <td>1295.0</td>\n",
              "      <td>A</td>\n",
              "      <td>B</td>\n",
              "      <td>4.0</td>\n",
              "      <td>B</td>\n",
              "      <td>A</td>\n",
              "      <td>1.0</td>\n",
              "      <td>B</td>\n",
              "      <td>27.0</td>\n",
              "      <td>C</td>\n",
              "      <td>B</td>\n",
              "      <td>2.0</td>\n",
              "      <td>C</td>\n",
              "      <td>1.0</td>\n",
              "      <td>A</td>\n",
              "      <td>A</td>\n",
              "    </tr>\n",
              "    <tr>\n",
              "      <th>1</th>\n",
              "      <td>D</td>\n",
              "      <td>21.0</td>\n",
              "      <td>C</td>\n",
              "      <td>A</td>\n",
              "      <td>2782.0</td>\n",
              "      <td>C</td>\n",
              "      <td>D</td>\n",
              "      <td>1.0</td>\n",
              "      <td>B</td>\n",
              "      <td>A</td>\n",
              "      <td>2.0</td>\n",
              "      <td>C</td>\n",
              "      <td>31.0</td>\n",
              "      <td>A</td>\n",
              "      <td>B</td>\n",
              "      <td>1.0</td>\n",
              "      <td>D</td>\n",
              "      <td>1.0</td>\n",
              "      <td>A</td>\n",
              "      <td>A</td>\n",
              "    </tr>\n",
              "    <tr>\n",
              "      <th>2</th>\n",
              "      <td>D</td>\n",
              "      <td>9.0</td>\n",
              "      <td>C</td>\n",
              "      <td>E</td>\n",
              "      <td>1126.0</td>\n",
              "      <td>B</td>\n",
              "      <td>E</td>\n",
              "      <td>2.0</td>\n",
              "      <td>A</td>\n",
              "      <td>A</td>\n",
              "      <td>4.0</td>\n",
              "      <td>A</td>\n",
              "      <td>49.0</td>\n",
              "      <td>C</td>\n",
              "      <td>B</td>\n",
              "      <td>1.0</td>\n",
              "      <td>C</td>\n",
              "      <td>1.0</td>\n",
              "      <td>A</td>\n",
              "      <td>A</td>\n",
              "    </tr>\n",
              "  </tbody>\n",
              "</table>\n",
              "</div>\n",
              "      <button class=\"colab-df-convert\" onclick=\"convertToInteractive('df-34954645-9045-4d68-ab1f-5754a58998d7')\"\n",
              "              title=\"Convert this dataframe to an interactive table.\"\n",
              "              style=\"display:none;\">\n",
              "        \n",
              "  <svg xmlns=\"http://www.w3.org/2000/svg\" height=\"24px\"viewBox=\"0 0 24 24\"\n",
              "       width=\"24px\">\n",
              "    <path d=\"M0 0h24v24H0V0z\" fill=\"none\"/>\n",
              "    <path d=\"M18.56 5.44l.94 2.06.94-2.06 2.06-.94-2.06-.94-.94-2.06-.94 2.06-2.06.94zm-11 1L8.5 8.5l.94-2.06 2.06-.94-2.06-.94L8.5 2.5l-.94 2.06-2.06.94zm10 10l.94 2.06.94-2.06 2.06-.94-2.06-.94-.94-2.06-.94 2.06-2.06.94z\"/><path d=\"M17.41 7.96l-1.37-1.37c-.4-.4-.92-.59-1.43-.59-.52 0-1.04.2-1.43.59L10.3 9.45l-7.72 7.72c-.78.78-.78 2.05 0 2.83L4 21.41c.39.39.9.59 1.41.59.51 0 1.02-.2 1.41-.59l7.78-7.78 2.81-2.81c.8-.78.8-2.07 0-2.86zM5.41 20L4 18.59l7.72-7.72 1.47 1.35L5.41 20z\"/>\n",
              "  </svg>\n",
              "      </button>\n",
              "      \n",
              "  <style>\n",
              "    .colab-df-container {\n",
              "      display:flex;\n",
              "      flex-wrap:wrap;\n",
              "      gap: 12px;\n",
              "    }\n",
              "\n",
              "    .colab-df-convert {\n",
              "      background-color: #E8F0FE;\n",
              "      border: none;\n",
              "      border-radius: 50%;\n",
              "      cursor: pointer;\n",
              "      display: none;\n",
              "      fill: #1967D2;\n",
              "      height: 32px;\n",
              "      padding: 0 0 0 0;\n",
              "      width: 32px;\n",
              "    }\n",
              "\n",
              "    .colab-df-convert:hover {\n",
              "      background-color: #E2EBFA;\n",
              "      box-shadow: 0px 1px 2px rgba(60, 64, 67, 0.3), 0px 1px 3px 1px rgba(60, 64, 67, 0.15);\n",
              "      fill: #174EA6;\n",
              "    }\n",
              "\n",
              "    [theme=dark] .colab-df-convert {\n",
              "      background-color: #3B4455;\n",
              "      fill: #D2E3FC;\n",
              "    }\n",
              "\n",
              "    [theme=dark] .colab-df-convert:hover {\n",
              "      background-color: #434B5C;\n",
              "      box-shadow: 0px 1px 3px 1px rgba(0, 0, 0, 0.15);\n",
              "      filter: drop-shadow(0px 1px 2px rgba(0, 0, 0, 0.3));\n",
              "      fill: #FFFFFF;\n",
              "    }\n",
              "  </style>\n",
              "\n",
              "      <script>\n",
              "        const buttonEl =\n",
              "          document.querySelector('#df-34954645-9045-4d68-ab1f-5754a58998d7 button.colab-df-convert');\n",
              "        buttonEl.style.display =\n",
              "          google.colab.kernel.accessAllowed ? 'block' : 'none';\n",
              "\n",
              "        async function convertToInteractive(key) {\n",
              "          const element = document.querySelector('#df-34954645-9045-4d68-ab1f-5754a58998d7');\n",
              "          const dataTable =\n",
              "            await google.colab.kernel.invokeFunction('convertToInteractive',\n",
              "                                                     [key], {});\n",
              "          if (!dataTable) return;\n",
              "\n",
              "          const docLinkHtml = 'Like what you see? Visit the ' +\n",
              "            '<a target=\"_blank\" href=https://colab.research.google.com/notebooks/data_table.ipynb>data table notebook</a>'\n",
              "            + ' to learn more about interactive tables.';\n",
              "          element.innerHTML = '';\n",
              "          dataTable['output_type'] = 'display_data';\n",
              "          await google.colab.output.renderOutput(dataTable, element);\n",
              "          const docLink = document.createElement('div');\n",
              "          docLink.innerHTML = docLinkHtml;\n",
              "          element.appendChild(docLink);\n",
              "        }\n",
              "      </script>\n",
              "    </div>\n",
              "  </div>\n",
              "  "
            ]
          },
          "metadata": {},
          "execution_count": 64
        }
      ]
    },
    {
      "cell_type": "code",
      "source": [
        "#THEN WE FACTORISE CATEGORICAL COLUMNS\n",
        "#ENCODE OBJECT COLUMNS TO NUMERIC\n",
        "for colL in cat_cols:  \n",
        "  cdatas[colL] = encodes(cdatas[colL])\n",
        "\n",
        "cdatas.head(2)"
      ],
      "metadata": {
        "colab": {
          "base_uri": "https://localhost:8080/",
          "height": 112
        },
        "id": "-FHn1iUzlQIQ",
        "outputId": "c26093e3-ad68-4ba1-b46b-e82510c5aa29"
      },
      "execution_count": 65,
      "outputs": [
        {
          "output_type": "execute_result",
          "data": {
            "text/plain": [
              "   V1    V2  V3  V4      V5  V6  V7   V8  V9  V10  V11  V12   V13  V14  V15  \\\n",
              "0   0  18.0   0   0  1295.0   0   0  4.0   0    0  1.0    0  27.0    0    0   \n",
              "1   1  21.0   1   0  2782.0   1   1  1.0   0    0  2.0    1  31.0    1    0   \n",
              "\n",
              "   V16  V17  V18  V19  V20  \n",
              "0  2.0    0  1.0    0    0  \n",
              "1  1.0    1  1.0    0    0  "
            ],
            "text/html": [
              "\n",
              "  <div id=\"df-fcebaf8b-c1c2-4b75-90a3-16c45f8fc056\">\n",
              "    <div class=\"colab-df-container\">\n",
              "      <div>\n",
              "<style scoped>\n",
              "    .dataframe tbody tr th:only-of-type {\n",
              "        vertical-align: middle;\n",
              "    }\n",
              "\n",
              "    .dataframe tbody tr th {\n",
              "        vertical-align: top;\n",
              "    }\n",
              "\n",
              "    .dataframe thead th {\n",
              "        text-align: right;\n",
              "    }\n",
              "</style>\n",
              "<table border=\"1\" class=\"dataframe\">\n",
              "  <thead>\n",
              "    <tr style=\"text-align: right;\">\n",
              "      <th></th>\n",
              "      <th>V1</th>\n",
              "      <th>V2</th>\n",
              "      <th>V3</th>\n",
              "      <th>V4</th>\n",
              "      <th>V5</th>\n",
              "      <th>V6</th>\n",
              "      <th>V7</th>\n",
              "      <th>V8</th>\n",
              "      <th>V9</th>\n",
              "      <th>V10</th>\n",
              "      <th>V11</th>\n",
              "      <th>V12</th>\n",
              "      <th>V13</th>\n",
              "      <th>V14</th>\n",
              "      <th>V15</th>\n",
              "      <th>V16</th>\n",
              "      <th>V17</th>\n",
              "      <th>V18</th>\n",
              "      <th>V19</th>\n",
              "      <th>V20</th>\n",
              "    </tr>\n",
              "  </thead>\n",
              "  <tbody>\n",
              "    <tr>\n",
              "      <th>0</th>\n",
              "      <td>0</td>\n",
              "      <td>18.0</td>\n",
              "      <td>0</td>\n",
              "      <td>0</td>\n",
              "      <td>1295.0</td>\n",
              "      <td>0</td>\n",
              "      <td>0</td>\n",
              "      <td>4.0</td>\n",
              "      <td>0</td>\n",
              "      <td>0</td>\n",
              "      <td>1.0</td>\n",
              "      <td>0</td>\n",
              "      <td>27.0</td>\n",
              "      <td>0</td>\n",
              "      <td>0</td>\n",
              "      <td>2.0</td>\n",
              "      <td>0</td>\n",
              "      <td>1.0</td>\n",
              "      <td>0</td>\n",
              "      <td>0</td>\n",
              "    </tr>\n",
              "    <tr>\n",
              "      <th>1</th>\n",
              "      <td>1</td>\n",
              "      <td>21.0</td>\n",
              "      <td>1</td>\n",
              "      <td>0</td>\n",
              "      <td>2782.0</td>\n",
              "      <td>1</td>\n",
              "      <td>1</td>\n",
              "      <td>1.0</td>\n",
              "      <td>0</td>\n",
              "      <td>0</td>\n",
              "      <td>2.0</td>\n",
              "      <td>1</td>\n",
              "      <td>31.0</td>\n",
              "      <td>1</td>\n",
              "      <td>0</td>\n",
              "      <td>1.0</td>\n",
              "      <td>1</td>\n",
              "      <td>1.0</td>\n",
              "      <td>0</td>\n",
              "      <td>0</td>\n",
              "    </tr>\n",
              "  </tbody>\n",
              "</table>\n",
              "</div>\n",
              "      <button class=\"colab-df-convert\" onclick=\"convertToInteractive('df-fcebaf8b-c1c2-4b75-90a3-16c45f8fc056')\"\n",
              "              title=\"Convert this dataframe to an interactive table.\"\n",
              "              style=\"display:none;\">\n",
              "        \n",
              "  <svg xmlns=\"http://www.w3.org/2000/svg\" height=\"24px\"viewBox=\"0 0 24 24\"\n",
              "       width=\"24px\">\n",
              "    <path d=\"M0 0h24v24H0V0z\" fill=\"none\"/>\n",
              "    <path d=\"M18.56 5.44l.94 2.06.94-2.06 2.06-.94-2.06-.94-.94-2.06-.94 2.06-2.06.94zm-11 1L8.5 8.5l.94-2.06 2.06-.94-2.06-.94L8.5 2.5l-.94 2.06-2.06.94zm10 10l.94 2.06.94-2.06 2.06-.94-2.06-.94-.94-2.06-.94 2.06-2.06.94z\"/><path d=\"M17.41 7.96l-1.37-1.37c-.4-.4-.92-.59-1.43-.59-.52 0-1.04.2-1.43.59L10.3 9.45l-7.72 7.72c-.78.78-.78 2.05 0 2.83L4 21.41c.39.39.9.59 1.41.59.51 0 1.02-.2 1.41-.59l7.78-7.78 2.81-2.81c.8-.78.8-2.07 0-2.86zM5.41 20L4 18.59l7.72-7.72 1.47 1.35L5.41 20z\"/>\n",
              "  </svg>\n",
              "      </button>\n",
              "      \n",
              "  <style>\n",
              "    .colab-df-container {\n",
              "      display:flex;\n",
              "      flex-wrap:wrap;\n",
              "      gap: 12px;\n",
              "    }\n",
              "\n",
              "    .colab-df-convert {\n",
              "      background-color: #E8F0FE;\n",
              "      border: none;\n",
              "      border-radius: 50%;\n",
              "      cursor: pointer;\n",
              "      display: none;\n",
              "      fill: #1967D2;\n",
              "      height: 32px;\n",
              "      padding: 0 0 0 0;\n",
              "      width: 32px;\n",
              "    }\n",
              "\n",
              "    .colab-df-convert:hover {\n",
              "      background-color: #E2EBFA;\n",
              "      box-shadow: 0px 1px 2px rgba(60, 64, 67, 0.3), 0px 1px 3px 1px rgba(60, 64, 67, 0.15);\n",
              "      fill: #174EA6;\n",
              "    }\n",
              "\n",
              "    [theme=dark] .colab-df-convert {\n",
              "      background-color: #3B4455;\n",
              "      fill: #D2E3FC;\n",
              "    }\n",
              "\n",
              "    [theme=dark] .colab-df-convert:hover {\n",
              "      background-color: #434B5C;\n",
              "      box-shadow: 0px 1px 3px 1px rgba(0, 0, 0, 0.15);\n",
              "      filter: drop-shadow(0px 1px 2px rgba(0, 0, 0, 0.3));\n",
              "      fill: #FFFFFF;\n",
              "    }\n",
              "  </style>\n",
              "\n",
              "      <script>\n",
              "        const buttonEl =\n",
              "          document.querySelector('#df-fcebaf8b-c1c2-4b75-90a3-16c45f8fc056 button.colab-df-convert');\n",
              "        buttonEl.style.display =\n",
              "          google.colab.kernel.accessAllowed ? 'block' : 'none';\n",
              "\n",
              "        async function convertToInteractive(key) {\n",
              "          const element = document.querySelector('#df-fcebaf8b-c1c2-4b75-90a3-16c45f8fc056');\n",
              "          const dataTable =\n",
              "            await google.colab.kernel.invokeFunction('convertToInteractive',\n",
              "                                                     [key], {});\n",
              "          if (!dataTable) return;\n",
              "\n",
              "          const docLinkHtml = 'Like what you see? Visit the ' +\n",
              "            '<a target=\"_blank\" href=https://colab.research.google.com/notebooks/data_table.ipynb>data table notebook</a>'\n",
              "            + ' to learn more about interactive tables.';\n",
              "          element.innerHTML = '';\n",
              "          dataTable['output_type'] = 'display_data';\n",
              "          await google.colab.output.renderOutput(dataTable, element);\n",
              "          const docLink = document.createElement('div');\n",
              "          docLink.innerHTML = docLinkHtml;\n",
              "          element.appendChild(docLink);\n",
              "        }\n",
              "      </script>\n",
              "    </div>\n",
              "  </div>\n",
              "  "
            ]
          },
          "metadata": {},
          "execution_count": 65
        }
      ]
    },
    {
      "cell_type": "code",
      "source": [
        "xnewdata=s.fit_transform(cdatas)\n",
        "xnewdata"
      ],
      "metadata": {
        "colab": {
          "base_uri": "https://localhost:8080/"
        },
        "id": "SLRBVISsq0qD",
        "outputId": "f0c7f851-f60f-4352-a1c3-be13cc73ab17"
      },
      "execution_count": 66,
      "outputs": [
        {
          "output_type": "execute_result",
          "data": {
            "text/plain": [
              "array([[-1.28016892, -0.23355223, -1.0505614 , ..., -0.42665337,\n",
              "        -0.80295507, -0.18473268],\n",
              "       [-0.16211746,  0.01605828, -0.03257555, ..., -0.42665337,\n",
              "        -0.80295507, -0.18473268],\n",
              "       [-0.16211746, -0.98238374, -0.03257555, ..., -0.42665337,\n",
              "        -0.80295507, -0.18473268],\n",
              "       ...,\n",
              "       [-0.16211746,  0.01605828, -0.03257555, ...,  2.34382305,\n",
              "        -0.80295507, -0.18473268],\n",
              "       [-1.28016892, -0.48316273,  2.00339616, ..., -0.42665337,\n",
              "        -0.80295507, -0.18473268],\n",
              "       [ 0.955934  ,  0.26566878,  2.00339616, ..., -0.42665337,\n",
              "        -0.80295507, -0.18473268]])"
            ]
          },
          "metadata": {},
          "execution_count": 66
        }
      ]
    },
    {
      "cell_type": "code",
      "source": [
        "#THEN WE USE THE CHOSEN MODEL TO PREDICT THE MISSING COLUMN\n",
        "f_model=best_model2.best_estimator_\n",
        "ypred5=f_model.predict(xnewdata)"
      ],
      "metadata": {
        "id": "J0g4I6IgmGHW"
      },
      "execution_count": 67,
      "outputs": []
    },
    {
      "cell_type": "code",
      "source": [
        "print(\" val_Accuracy =: \\t {:0.2f} %\".format(accuracy_score(mainy, ypred5)*100))         "
      ],
      "metadata": {
        "colab": {
          "base_uri": "https://localhost:8080/"
        },
        "id": "yL96i_W9ojDg",
        "outputId": "da133d49-d079-4e23-e0d0-d0526cfde066"
      },
      "execution_count": 68,
      "outputs": [
        {
          "output_type": "stream",
          "name": "stdout",
          "text": [
            " val_Accuracy =: \t 63.80 %\n"
          ]
        }
      ]
    },
    {
      "cell_type": "code",
      "source": [
        "#TRYING ON UNSCALLED DATASET\n",
        "ypred6=f_model.predict(cdatas.values)"
      ],
      "metadata": {
        "id": "sJESD-cbpAlQ"
      },
      "execution_count": 69,
      "outputs": []
    },
    {
      "cell_type": "code",
      "source": [
        "print(\" val_Accuracy =: \\t {:0.2f} %\".format(accuracy_score(mainy, ypred6)*100))"
      ],
      "metadata": {
        "colab": {
          "base_uri": "https://localhost:8080/"
        },
        "id": "ksAqIWv5pAhs",
        "outputId": "f174fbaf-be61-4d69-b06b-a9cb9fbe52fc"
      },
      "execution_count": 70,
      "outputs": [
        {
          "output_type": "stream",
          "name": "stdout",
          "text": [
            " val_Accuracy =: \t 48.70 %\n"
          ]
        }
      ]
    },
    {
      "cell_type": "code",
      "source": [
        ""
      ],
      "metadata": {
        "id": "z97dwRmUpSC2"
      },
      "execution_count": null,
      "outputs": []
    },
    {
      "cell_type": "code",
      "source": [
        "cm5=confusion_matrix(mainy, ypred5)\n",
        "cm5"
      ],
      "metadata": {
        "id": "_qAYlbWcmwQQ"
      },
      "execution_count": null,
      "outputs": []
    },
    {
      "cell_type": "code",
      "source": [
        "plt.figure(figsize=(3, 2))\n",
        "sn.heatmap(cm5, annot=True, fmt=\"d\",cmap='Greens')\n",
        "plt.xlabel('Predicted')\n",
        "plt.ylabel('Truth')\n",
        "plt.show()"
      ],
      "metadata": {
        "id": "CjVXKasFnEYS"
      },
      "execution_count": null,
      "outputs": []
    },
    {
      "cell_type": "code",
      "source": [
        ""
      ],
      "metadata": {
        "id": "gIl9E8iGr2Or"
      },
      "execution_count": null,
      "outputs": []
    },
    {
      "cell_type": "code",
      "source": [
        ""
      ],
      "metadata": {
        "id": "30bq8YELr2ID"
      },
      "execution_count": null,
      "outputs": []
    },
    {
      "cell_type": "code",
      "source": [
        "#3. TRYING ZERO FILL\n",
        "cdatas2= cdata[cdata.columns[cdata.isnull().sum() > 0.1]]\n",
        "cdatas2.shape"
      ],
      "metadata": {
        "colab": {
          "base_uri": "https://localhost:8080/"
        },
        "id": "uoxrIJoMtAss",
        "outputId": "6108b3fb-a677-4b47-92fd-b83d51f2dc5a"
      },
      "execution_count": 71,
      "outputs": [
        {
          "output_type": "execute_result",
          "data": {
            "text/plain": [
              "(1000, 20)"
            ]
          },
          "metadata": {},
          "execution_count": 71
        }
      ]
    },
    {
      "cell_type": "code",
      "source": [
        "cdatas2=cdatas2.fillna(0)\n",
        "cdatas2.isnull().sum()"
      ],
      "metadata": {
        "id": "O3jKdjUjoM2y"
      },
      "execution_count": null,
      "outputs": []
    },
    {
      "cell_type": "code",
      "source": [
        "#THEN WE FACTORISE CATEGORICAL COLUMNS\n",
        "#ENCODE OBJECT COLUMNS TO NUMERIC\n",
        "for colL in cat_cols:  \n",
        "  cdatas2[colL] = encodes(cdatas2[colL])\n",
        "\n",
        "cdatas2.head(2)"
      ],
      "metadata": {
        "colab": {
          "base_uri": "https://localhost:8080/",
          "height": 112
        },
        "id": "rnJxITwLrXhL",
        "outputId": "5fff2dd8-5543-4f55-e74d-1b89ec200047"
      },
      "execution_count": 73,
      "outputs": [
        {
          "output_type": "execute_result",
          "data": {
            "text/plain": [
              "   V1    V2  V3  V4      V5  V6  V7   V8  V9  V10  V11  V12   V13  V14  V15  \\\n",
              "0   0  18.0   0   0  1295.0   0   0  4.0   0    0  1.0    0  27.0    0    0   \n",
              "1   1  21.0   1   1  2782.0   1   1  1.0   0    0  2.0    1  31.0    1    0   \n",
              "\n",
              "   V16  V17  V18  V19  V20  \n",
              "0  2.0    0  1.0    0    0  \n",
              "1  1.0    1  1.0    0    0  "
            ],
            "text/html": [
              "\n",
              "  <div id=\"df-3d80e974-92fe-4e99-ac27-7170ab42ea7d\">\n",
              "    <div class=\"colab-df-container\">\n",
              "      <div>\n",
              "<style scoped>\n",
              "    .dataframe tbody tr th:only-of-type {\n",
              "        vertical-align: middle;\n",
              "    }\n",
              "\n",
              "    .dataframe tbody tr th {\n",
              "        vertical-align: top;\n",
              "    }\n",
              "\n",
              "    .dataframe thead th {\n",
              "        text-align: right;\n",
              "    }\n",
              "</style>\n",
              "<table border=\"1\" class=\"dataframe\">\n",
              "  <thead>\n",
              "    <tr style=\"text-align: right;\">\n",
              "      <th></th>\n",
              "      <th>V1</th>\n",
              "      <th>V2</th>\n",
              "      <th>V3</th>\n",
              "      <th>V4</th>\n",
              "      <th>V5</th>\n",
              "      <th>V6</th>\n",
              "      <th>V7</th>\n",
              "      <th>V8</th>\n",
              "      <th>V9</th>\n",
              "      <th>V10</th>\n",
              "      <th>V11</th>\n",
              "      <th>V12</th>\n",
              "      <th>V13</th>\n",
              "      <th>V14</th>\n",
              "      <th>V15</th>\n",
              "      <th>V16</th>\n",
              "      <th>V17</th>\n",
              "      <th>V18</th>\n",
              "      <th>V19</th>\n",
              "      <th>V20</th>\n",
              "    </tr>\n",
              "  </thead>\n",
              "  <tbody>\n",
              "    <tr>\n",
              "      <th>0</th>\n",
              "      <td>0</td>\n",
              "      <td>18.0</td>\n",
              "      <td>0</td>\n",
              "      <td>0</td>\n",
              "      <td>1295.0</td>\n",
              "      <td>0</td>\n",
              "      <td>0</td>\n",
              "      <td>4.0</td>\n",
              "      <td>0</td>\n",
              "      <td>0</td>\n",
              "      <td>1.0</td>\n",
              "      <td>0</td>\n",
              "      <td>27.0</td>\n",
              "      <td>0</td>\n",
              "      <td>0</td>\n",
              "      <td>2.0</td>\n",
              "      <td>0</td>\n",
              "      <td>1.0</td>\n",
              "      <td>0</td>\n",
              "      <td>0</td>\n",
              "    </tr>\n",
              "    <tr>\n",
              "      <th>1</th>\n",
              "      <td>1</td>\n",
              "      <td>21.0</td>\n",
              "      <td>1</td>\n",
              "      <td>1</td>\n",
              "      <td>2782.0</td>\n",
              "      <td>1</td>\n",
              "      <td>1</td>\n",
              "      <td>1.0</td>\n",
              "      <td>0</td>\n",
              "      <td>0</td>\n",
              "      <td>2.0</td>\n",
              "      <td>1</td>\n",
              "      <td>31.0</td>\n",
              "      <td>1</td>\n",
              "      <td>0</td>\n",
              "      <td>1.0</td>\n",
              "      <td>1</td>\n",
              "      <td>1.0</td>\n",
              "      <td>0</td>\n",
              "      <td>0</td>\n",
              "    </tr>\n",
              "  </tbody>\n",
              "</table>\n",
              "</div>\n",
              "      <button class=\"colab-df-convert\" onclick=\"convertToInteractive('df-3d80e974-92fe-4e99-ac27-7170ab42ea7d')\"\n",
              "              title=\"Convert this dataframe to an interactive table.\"\n",
              "              style=\"display:none;\">\n",
              "        \n",
              "  <svg xmlns=\"http://www.w3.org/2000/svg\" height=\"24px\"viewBox=\"0 0 24 24\"\n",
              "       width=\"24px\">\n",
              "    <path d=\"M0 0h24v24H0V0z\" fill=\"none\"/>\n",
              "    <path d=\"M18.56 5.44l.94 2.06.94-2.06 2.06-.94-2.06-.94-.94-2.06-.94 2.06-2.06.94zm-11 1L8.5 8.5l.94-2.06 2.06-.94-2.06-.94L8.5 2.5l-.94 2.06-2.06.94zm10 10l.94 2.06.94-2.06 2.06-.94-2.06-.94-.94-2.06-.94 2.06-2.06.94z\"/><path d=\"M17.41 7.96l-1.37-1.37c-.4-.4-.92-.59-1.43-.59-.52 0-1.04.2-1.43.59L10.3 9.45l-7.72 7.72c-.78.78-.78 2.05 0 2.83L4 21.41c.39.39.9.59 1.41.59.51 0 1.02-.2 1.41-.59l7.78-7.78 2.81-2.81c.8-.78.8-2.07 0-2.86zM5.41 20L4 18.59l7.72-7.72 1.47 1.35L5.41 20z\"/>\n",
              "  </svg>\n",
              "      </button>\n",
              "      \n",
              "  <style>\n",
              "    .colab-df-container {\n",
              "      display:flex;\n",
              "      flex-wrap:wrap;\n",
              "      gap: 12px;\n",
              "    }\n",
              "\n",
              "    .colab-df-convert {\n",
              "      background-color: #E8F0FE;\n",
              "      border: none;\n",
              "      border-radius: 50%;\n",
              "      cursor: pointer;\n",
              "      display: none;\n",
              "      fill: #1967D2;\n",
              "      height: 32px;\n",
              "      padding: 0 0 0 0;\n",
              "      width: 32px;\n",
              "    }\n",
              "\n",
              "    .colab-df-convert:hover {\n",
              "      background-color: #E2EBFA;\n",
              "      box-shadow: 0px 1px 2px rgba(60, 64, 67, 0.3), 0px 1px 3px 1px rgba(60, 64, 67, 0.15);\n",
              "      fill: #174EA6;\n",
              "    }\n",
              "\n",
              "    [theme=dark] .colab-df-convert {\n",
              "      background-color: #3B4455;\n",
              "      fill: #D2E3FC;\n",
              "    }\n",
              "\n",
              "    [theme=dark] .colab-df-convert:hover {\n",
              "      background-color: #434B5C;\n",
              "      box-shadow: 0px 1px 3px 1px rgba(0, 0, 0, 0.15);\n",
              "      filter: drop-shadow(0px 1px 2px rgba(0, 0, 0, 0.3));\n",
              "      fill: #FFFFFF;\n",
              "    }\n",
              "  </style>\n",
              "\n",
              "      <script>\n",
              "        const buttonEl =\n",
              "          document.querySelector('#df-3d80e974-92fe-4e99-ac27-7170ab42ea7d button.colab-df-convert');\n",
              "        buttonEl.style.display =\n",
              "          google.colab.kernel.accessAllowed ? 'block' : 'none';\n",
              "\n",
              "        async function convertToInteractive(key) {\n",
              "          const element = document.querySelector('#df-3d80e974-92fe-4e99-ac27-7170ab42ea7d');\n",
              "          const dataTable =\n",
              "            await google.colab.kernel.invokeFunction('convertToInteractive',\n",
              "                                                     [key], {});\n",
              "          if (!dataTable) return;\n",
              "\n",
              "          const docLinkHtml = 'Like what you see? Visit the ' +\n",
              "            '<a target=\"_blank\" href=https://colab.research.google.com/notebooks/data_table.ipynb>data table notebook</a>'\n",
              "            + ' to learn more about interactive tables.';\n",
              "          element.innerHTML = '';\n",
              "          dataTable['output_type'] = 'display_data';\n",
              "          await google.colab.output.renderOutput(dataTable, element);\n",
              "          const docLink = document.createElement('div');\n",
              "          docLink.innerHTML = docLinkHtml;\n",
              "          element.appendChild(docLink);\n",
              "        }\n",
              "      </script>\n",
              "    </div>\n",
              "  </div>\n",
              "  "
            ]
          },
          "metadata": {},
          "execution_count": 73
        }
      ]
    },
    {
      "cell_type": "code",
      "source": [
        "xnewdata2=s.fit_transform(cdatas2)\n",
        "xnewdata2"
      ],
      "metadata": {
        "id": "UETyPkbLoMzS"
      },
      "execution_count": null,
      "outputs": []
    },
    {
      "cell_type": "code",
      "source": [
        "ypred7=f_model.predict(xnewdata2)"
      ],
      "metadata": {
        "id": "Eb3yIWhWrQft"
      },
      "execution_count": 75,
      "outputs": []
    },
    {
      "cell_type": "code",
      "source": [
        "print(\" val_Accuracy =: \\t {:0.2f} %\".format(accuracy_score(mainy, ypred7)*100))   "
      ],
      "metadata": {
        "colab": {
          "base_uri": "https://localhost:8080/"
        },
        "id": "tHREhEv5rwFZ",
        "outputId": "01b520dd-6501-485a-cc26-68fa2eab06da"
      },
      "execution_count": 76,
      "outputs": [
        {
          "output_type": "stream",
          "name": "stdout",
          "text": [
            " val_Accuracy =: \t 65.20 %\n"
          ]
        }
      ]
    },
    {
      "cell_type": "code",
      "source": [
        "cm7=confusion_matrix(mainy, ypred7)\n",
        "cm7"
      ],
      "metadata": {
        "id": "ha0GXwxprwB9"
      },
      "execution_count": null,
      "outputs": []
    },
    {
      "cell_type": "code",
      "source": [
        "plt.figure(figsize=(3, 2))\n",
        "sn.heatmap(cm5, annot=True, fmt=\"d\",cmap='Blues')\n",
        "plt.xlabel('Predicted')\n",
        "plt.ylabel('Truth')\n",
        "plt.show()"
      ],
      "metadata": {
        "id": "GMIzpGsWsSKf"
      },
      "execution_count": null,
      "outputs": []
    },
    {
      "cell_type": "code",
      "source": [
        ""
      ],
      "metadata": {
        "id": "BIC0ekB4PhOo"
      },
      "execution_count": null,
      "outputs": []
    },
    {
      "cell_type": "code",
      "source": [
        ""
      ],
      "metadata": {
        "id": "y062l3YpPhKY"
      },
      "execution_count": null,
      "outputs": []
    },
    {
      "cell_type": "code",
      "source": [
        "#4. TRYING ENCODING PLUS INTERPOLATING FILLIN METHOD\n",
        "cdatas3= cdata[cdata.columns[cdata.isnull().sum() > 0.1]]"
      ],
      "metadata": {
        "id": "t-6Pm6UFsSHP"
      },
      "execution_count": 79,
      "outputs": []
    },
    {
      "cell_type": "code",
      "source": [
        "cdatas3.isnull().sum()"
      ],
      "metadata": {
        "id": "5qVsKS3rsSCT"
      },
      "execution_count": null,
      "outputs": []
    },
    {
      "cell_type": "code",
      "source": [
        "catcol=cdata.select_dtypes(object).columns\n",
        "ncol=list(set(cdatas3.columns)-set(catcol))"
      ],
      "metadata": {
        "id": "AkxwMpOvtOdN"
      },
      "execution_count": 78,
      "outputs": []
    },
    {
      "cell_type": "code",
      "source": [
        "#FIRST WE USE AUTO-ENCODER ENCODING TO ENCODE CATEGORICAL DATA COLUMNS\n",
        "enco = ce.OrdinalEncoder(cols=catcol)\n",
        "cdatas3[catcol]=enco.fit_transform(cdatas3[catcol])\n",
        "cdatas3.head(2)"
      ],
      "metadata": {
        "id": "veYahmVpwkqi"
      },
      "execution_count": null,
      "outputs": []
    },
    {
      "cell_type": "code",
      "source": [
        "#WE USE INTERPOLATE TO FILL NUMEROCAL MISSING VALUES\n",
        "cdatas3[ncol]=cdatas3[ncol].interpolate(method='pad')\n",
        "cdatas3.head(2)"
      ],
      "metadata": {
        "id": "BpTyNUxXyaSc"
      },
      "execution_count": null,
      "outputs": []
    },
    {
      "cell_type": "code",
      "source": [
        "#THEN WE USED THE STANDARDSCALER TO SCALE\n",
        "xnewdata3=s.fit_transform(cdatas3)\n",
        "xnewdata3"
      ],
      "metadata": {
        "id": "Lm1IGiNwtOJM"
      },
      "execution_count": null,
      "outputs": []
    },
    {
      "cell_type": "code",
      "source": [
        "#ypred8=f_model.predict(xnewdata3)\n",
        "yp=model2.predict(xnewdata3)"
      ],
      "metadata": {
        "id": "oE4E2yzmyJ6F"
      },
      "execution_count": 84,
      "outputs": []
    },
    {
      "cell_type": "code",
      "source": [
        "print(\" val_Accuracy =: \\t {:0.2f} %\".format(accuracy_score(mainy, yp)*100))   "
      ],
      "metadata": {
        "colab": {
          "base_uri": "https://localhost:8080/"
        },
        "id": "IZzvEB5AtOFZ",
        "outputId": "4a3b0f8a-51fa-43c2-e3a3-50e38675b1bf"
      },
      "execution_count": 85,
      "outputs": [
        {
          "output_type": "stream",
          "name": "stdout",
          "text": [
            " val_Accuracy =: \t 63.70 %\n"
          ]
        }
      ]
    },
    {
      "cell_type": "code",
      "source": [
        ""
      ],
      "metadata": {
        "id": "yAjdiAxdIq0C"
      },
      "execution_count": null,
      "outputs": []
    },
    {
      "cell_type": "code",
      "source": [
        ""
      ],
      "metadata": {
        "id": "QqFnEQtlkt5c"
      },
      "execution_count": null,
      "outputs": []
    },
    {
      "cell_type": "code",
      "source": [
        "#5. FILLING NUMERICAL COLUMN WITH MEAN\n",
        "cdatas4= cdata[cdata.columns[cdata.isnull().sum() > 0.1]]"
      ],
      "metadata": {
        "id": "B2HDQpKLid2H"
      },
      "execution_count": 91,
      "outputs": []
    },
    {
      "cell_type": "code",
      "source": [
        "cdatas4[catcol]=enco.fit_transform(cdatas4[catcol])\n",
        "cdatas4.head(2)"
      ],
      "metadata": {
        "id": "fbHyXrEWidgz"
      },
      "execution_count": null,
      "outputs": []
    },
    {
      "cell_type": "code",
      "source": [
        "#WE USE MEAN OF NUMBER COLUMN TO FILL NUMEROCAL MISSING VALUES\n",
        "cdatas4[ncol]=cdatas4[ncol].fillna(cdatas4[ncol].mean())\n",
        "cdatas4.head(2)"
      ],
      "metadata": {
        "id": "B53OyB0qinPy"
      },
      "execution_count": null,
      "outputs": []
    },
    {
      "cell_type": "code",
      "source": [
        "#THEN WE USED THE STANDARDSCALER TO SCALE\n",
        "xnewdata4=s.fit_transform(cdatas4)\n",
        "xnewdata4"
      ],
      "metadata": {
        "id": "dAAsJbDojUan"
      },
      "execution_count": null,
      "outputs": []
    },
    {
      "cell_type": "code",
      "source": [
        "#ypred8=f_model.predict(xnewdata3)\n",
        "yp1=model2.predict(xnewdata4)\n",
        "print(\" val_Accuracy =: \\t {:0.2f} %\".format(accuracy_score(mainy, yp1)*100))  "
      ],
      "metadata": {
        "colab": {
          "base_uri": "https://localhost:8080/"
        },
        "id": "VQxS_pBUjUVq",
        "outputId": "34e2c22c-27db-4b09-a326-6b39a0655daf"
      },
      "execution_count": 95,
      "outputs": [
        {
          "output_type": "stream",
          "name": "stdout",
          "text": [
            " val_Accuracy =: \t 64.10 %\n"
          ]
        }
      ]
    },
    {
      "cell_type": "code",
      "source": [
        ""
      ],
      "metadata": {
        "id": "fN-r-BnIkI1P"
      },
      "execution_count": null,
      "outputs": []
    },
    {
      "cell_type": "code",
      "source": [
        ""
      ],
      "metadata": {
        "id": "XFrGwX0CkIxZ"
      },
      "execution_count": null,
      "outputs": []
    },
    {
      "cell_type": "code",
      "source": [
        "cdatas3['V21']=ypred7\n",
        "cdatas3"
      ],
      "metadata": {
        "id": "QTIo3v8lIqwZ"
      },
      "execution_count": null,
      "outputs": []
    },
    {
      "cell_type": "code",
      "source": [
        "cdatas3.to_csv(\"final_corrupted.csv\", index=0)"
      ],
      "metadata": {
        "id": "pWaMfHXvDW1I"
      },
      "execution_count": null,
      "outputs": []
    },
    {
      "cell_type": "code",
      "source": [
        ""
      ],
      "metadata": {
        "id": "wYFW5qsAMMBA"
      },
      "execution_count": null,
      "outputs": []
    },
    {
      "cell_type": "code",
      "source": [
        ""
      ],
      "metadata": {
        "id": "EL5x_g4IjL7H"
      },
      "execution_count": null,
      "outputs": []
    },
    {
      "cell_type": "code",
      "source": [
        ""
      ],
      "metadata": {
        "id": "wAgvW4AEjL2Z"
      },
      "execution_count": null,
      "outputs": []
    },
    {
      "cell_type": "code",
      "source": [
        "###########    USING THE MODEL\n",
        "def use_Model(arr):\n",
        "   #from sklearn.preprocessing import StandardScaler\n",
        "   #ss=StandardScaler()   \n",
        "   sett=s.fit_transform(arr)   \n",
        "   predict= f_model.predict(sett)\n",
        "\n",
        "   if (predict==0):\n",
        "      print('Congratulations, your business is not at risk')\n",
        "   else:\n",
        "      print('Sorry, your business is at a great risk, You need to incvrease your insured amount')\n",
        "      \n",
        "print('ENTER DETAILS TO CHECK STATUS')\n",
        "use_Model(['INSERT ARRAY NEW INSURANCE DATA'])"
      ],
      "metadata": {
        "id": "AjgSsnl8nnfk"
      },
      "execution_count": null,
      "outputs": []
    },
    {
      "cell_type": "code",
      "source": [
        ""
      ],
      "metadata": {
        "id": "2Q6ZyLvID4fP"
      },
      "execution_count": null,
      "outputs": []
    },
    {
      "cell_type": "code",
      "source": [
        "import joblib\n",
        "# save the model to disk\n",
        "f_name = 'InsuranceRisk_checker.sav'\n",
        "joblib.dump(f_model, f_name)"
      ],
      "metadata": {
        "id": "FccpO489n87A"
      },
      "execution_count": null,
      "outputs": []
    },
    {
      "cell_type": "code",
      "source": [
        "newx=[[]]      \n",
        "# load the model from disk\n",
        "saved_model = joblib.load(f_name)\n",
        "new_model = saved_model.predict([[newx]])\n",
        "#result = saved_model.score(newx, newy)\n",
        "#print(result)"
      ],
      "metadata": {
        "id": "SdAqGJcDoFZK"
      },
      "execution_count": null,
      "outputs": []
    }
  ]
}