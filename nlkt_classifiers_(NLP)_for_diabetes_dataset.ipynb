{
  "nbformat": 4,
  "nbformat_minor": 0,
  "metadata": {
    "colab": {
      "name": "NLTK CLASSIFIERS (NLP) FOR DIABETES DATASET",
      "provenance": [],
      "collapsed_sections": []
    },
    "kernelspec": {
      "name": "python3",
      "display_name": "Python 3"
    },
    "language_info": {
      "name": "python"
    }
  },
  "cells": [
    {
      "cell_type": "markdown",
      "source": [
        "**DIABETES CASES CLASSISFICATION WITH NLP -- USING NLTK CLASSIFIERS**\n",
        "More examples :[here](https://www.nltk.org/howto/classify.html)"
      ],
      "metadata": {
        "id": "rvvmyllVJNQ8"
      }
    },
    {
      "cell_type": "markdown",
      "source": [
        "DATA DETAILS: (Pima Indians Diabetes Dataset)\n",
        "\n",
        "  A. Number of times pregnant\n",
        "  B. Plasma glucose concentration a 2 hours in an oral glucose tolerance test\n",
        "  C. Diastolic blood pressure (mm Hg)\n",
        "  D. Triceps skin fold thickness (mm)\n",
        "  E. 2-Hour serum insulin (mu U/ml)\n",
        "  F. Body mass index (weight in kg/(height in m)^2)\n",
        "  G. Diabetes pedigree function\n",
        "  H. Age (years)\n",
        "  I. Class variable (0 or 1)"
      ],
      "metadata": {
        "id": "VwPt3FgDJPoD"
      }
    },
    {
      "cell_type": "code",
      "source": [
        "import numpy as np\n",
        "import pandas as pd\n",
        "import requests\n",
        "import re\n",
        "import nltk\n",
        "from nltk.corpus import stopwords\n",
        "from nltk.stem.porter import PorterStemmer\n",
        "from sklearn.feature_extraction.text import TfidfVectorizer\n",
        "from sklearn.model_selection import train_test_split\n",
        "from sklearn.linear_model import LogisticRegression\n",
        "from sklearn.metrics import accuracy_score\n",
        "from nltk.stem.porter import PorterStemmer\n",
        "from sklearn.metrics import confusion_matrix\n",
        "from sklearn.metrics import classification_report"
      ],
      "metadata": {
        "id": "CFkBrr30JU4T"
      },
      "execution_count": 2,
      "outputs": []
    },
    {
      "cell_type": "code",
      "execution_count": null,
      "metadata": {
        "id": "f6Q86FJ4CxR1"
      },
      "outputs": [],
      "source": [
        "#nltk.download('stopwords')"
      ]
    },
    {
      "cell_type": "code",
      "source": [
        "cols=[\"A\", \"B\", \"C\", \"D\", \"E\", \"F\", \"G\", \"H\", \"I\"]\n",
        "#r= requests.get(url)#\n",
        "#open('temp1.csv', 'wb').write(r.content)\n",
        "#df = pd.read_csv('temp1.csv', header=None, names=cols)\n",
        "url=\"https://raw.githubusercontent.com/jbrownlee/Datasets/master/pima-indians-diabetes.csv\""
      ],
      "metadata": {
        "id": "7DISOFVwJi57"
      },
      "execution_count": 3,
      "outputs": []
    },
    {
      "cell_type": "code",
      "source": [
        "df = pd.read_csv(url, header=None, names=cols)\n",
        "df.head(2)"
      ],
      "metadata": {
        "colab": {
          "base_uri": "https://localhost:8080/",
          "height": 112
        },
        "id": "rKuO3T09Jna8",
        "outputId": "73502b19-a2ad-4b0c-916e-f5762f7edb6a"
      },
      "execution_count": 4,
      "outputs": [
        {
          "output_type": "execute_result",
          "data": {
            "text/plain": [
              "   A    B   C   D  E     F      G   H  I\n",
              "0  6  148  72  35  0  33.6  0.627  50  1\n",
              "1  1   85  66  29  0  26.6  0.351  31  0"
            ],
            "text/html": [
              "\n",
              "  <div id=\"df-df34509f-dd7e-4539-9a0f-e206e0e82bc6\">\n",
              "    <div class=\"colab-df-container\">\n",
              "      <div>\n",
              "<style scoped>\n",
              "    .dataframe tbody tr th:only-of-type {\n",
              "        vertical-align: middle;\n",
              "    }\n",
              "\n",
              "    .dataframe tbody tr th {\n",
              "        vertical-align: top;\n",
              "    }\n",
              "\n",
              "    .dataframe thead th {\n",
              "        text-align: right;\n",
              "    }\n",
              "</style>\n",
              "<table border=\"1\" class=\"dataframe\">\n",
              "  <thead>\n",
              "    <tr style=\"text-align: right;\">\n",
              "      <th></th>\n",
              "      <th>A</th>\n",
              "      <th>B</th>\n",
              "      <th>C</th>\n",
              "      <th>D</th>\n",
              "      <th>E</th>\n",
              "      <th>F</th>\n",
              "      <th>G</th>\n",
              "      <th>H</th>\n",
              "      <th>I</th>\n",
              "    </tr>\n",
              "  </thead>\n",
              "  <tbody>\n",
              "    <tr>\n",
              "      <th>0</th>\n",
              "      <td>6</td>\n",
              "      <td>148</td>\n",
              "      <td>72</td>\n",
              "      <td>35</td>\n",
              "      <td>0</td>\n",
              "      <td>33.6</td>\n",
              "      <td>0.627</td>\n",
              "      <td>50</td>\n",
              "      <td>1</td>\n",
              "    </tr>\n",
              "    <tr>\n",
              "      <th>1</th>\n",
              "      <td>1</td>\n",
              "      <td>85</td>\n",
              "      <td>66</td>\n",
              "      <td>29</td>\n",
              "      <td>0</td>\n",
              "      <td>26.6</td>\n",
              "      <td>0.351</td>\n",
              "      <td>31</td>\n",
              "      <td>0</td>\n",
              "    </tr>\n",
              "  </tbody>\n",
              "</table>\n",
              "</div>\n",
              "      <button class=\"colab-df-convert\" onclick=\"convertToInteractive('df-df34509f-dd7e-4539-9a0f-e206e0e82bc6')\"\n",
              "              title=\"Convert this dataframe to an interactive table.\"\n",
              "              style=\"display:none;\">\n",
              "        \n",
              "  <svg xmlns=\"http://www.w3.org/2000/svg\" height=\"24px\"viewBox=\"0 0 24 24\"\n",
              "       width=\"24px\">\n",
              "    <path d=\"M0 0h24v24H0V0z\" fill=\"none\"/>\n",
              "    <path d=\"M18.56 5.44l.94 2.06.94-2.06 2.06-.94-2.06-.94-.94-2.06-.94 2.06-2.06.94zm-11 1L8.5 8.5l.94-2.06 2.06-.94-2.06-.94L8.5 2.5l-.94 2.06-2.06.94zm10 10l.94 2.06.94-2.06 2.06-.94-2.06-.94-.94-2.06-.94 2.06-2.06.94z\"/><path d=\"M17.41 7.96l-1.37-1.37c-.4-.4-.92-.59-1.43-.59-.52 0-1.04.2-1.43.59L10.3 9.45l-7.72 7.72c-.78.78-.78 2.05 0 2.83L4 21.41c.39.39.9.59 1.41.59.51 0 1.02-.2 1.41-.59l7.78-7.78 2.81-2.81c.8-.78.8-2.07 0-2.86zM5.41 20L4 18.59l7.72-7.72 1.47 1.35L5.41 20z\"/>\n",
              "  </svg>\n",
              "      </button>\n",
              "      \n",
              "  <style>\n",
              "    .colab-df-container {\n",
              "      display:flex;\n",
              "      flex-wrap:wrap;\n",
              "      gap: 12px;\n",
              "    }\n",
              "\n",
              "    .colab-df-convert {\n",
              "      background-color: #E8F0FE;\n",
              "      border: none;\n",
              "      border-radius: 50%;\n",
              "      cursor: pointer;\n",
              "      display: none;\n",
              "      fill: #1967D2;\n",
              "      height: 32px;\n",
              "      padding: 0 0 0 0;\n",
              "      width: 32px;\n",
              "    }\n",
              "\n",
              "    .colab-df-convert:hover {\n",
              "      background-color: #E2EBFA;\n",
              "      box-shadow: 0px 1px 2px rgba(60, 64, 67, 0.3), 0px 1px 3px 1px rgba(60, 64, 67, 0.15);\n",
              "      fill: #174EA6;\n",
              "    }\n",
              "\n",
              "    [theme=dark] .colab-df-convert {\n",
              "      background-color: #3B4455;\n",
              "      fill: #D2E3FC;\n",
              "    }\n",
              "\n",
              "    [theme=dark] .colab-df-convert:hover {\n",
              "      background-color: #434B5C;\n",
              "      box-shadow: 0px 1px 3px 1px rgba(0, 0, 0, 0.15);\n",
              "      filter: drop-shadow(0px 1px 2px rgba(0, 0, 0, 0.3));\n",
              "      fill: #FFFFFF;\n",
              "    }\n",
              "  </style>\n",
              "\n",
              "      <script>\n",
              "        const buttonEl =\n",
              "          document.querySelector('#df-df34509f-dd7e-4539-9a0f-e206e0e82bc6 button.colab-df-convert');\n",
              "        buttonEl.style.display =\n",
              "          google.colab.kernel.accessAllowed ? 'block' : 'none';\n",
              "\n",
              "        async function convertToInteractive(key) {\n",
              "          const element = document.querySelector('#df-df34509f-dd7e-4539-9a0f-e206e0e82bc6');\n",
              "          const dataTable =\n",
              "            await google.colab.kernel.invokeFunction('convertToInteractive',\n",
              "                                                     [key], {});\n",
              "          if (!dataTable) return;\n",
              "\n",
              "          const docLinkHtml = 'Like what you see? Visit the ' +\n",
              "            '<a target=\"_blank\" href=https://colab.research.google.com/notebooks/data_table.ipynb>data table notebook</a>'\n",
              "            + ' to learn more about interactive tables.';\n",
              "          element.innerHTML = '';\n",
              "          dataTable['output_type'] = 'display_data';\n",
              "          await google.colab.output.renderOutput(dataTable, element);\n",
              "          const docLink = document.createElement('div');\n",
              "          docLink.innerHTML = docLinkHtml;\n",
              "          element.appendChild(docLink);\n",
              "        }\n",
              "      </script>\n",
              "    </div>\n",
              "  </div>\n",
              "  "
            ]
          },
          "metadata": {},
          "execution_count": 4
        }
      ]
    },
    {
      "cell_type": "markdown",
      "source": [
        "**ANALYSIS**"
      ],
      "metadata": {
        "id": "wvdzKN79MKtm"
      }
    },
    {
      "cell_type": "code",
      "source": [
        "df.shape"
      ],
      "metadata": {
        "colab": {
          "base_uri": "https://localhost:8080/"
        },
        "id": "iDuPXz5CKYA7",
        "outputId": "6effeb42-f811-4890-f1e8-7148dc117c67"
      },
      "execution_count": 20,
      "outputs": [
        {
          "output_type": "execute_result",
          "data": {
            "text/plain": [
              "(768, 9)"
            ]
          },
          "metadata": {},
          "execution_count": 20
        }
      ]
    },
    {
      "cell_type": "code",
      "source": [
        "df.isnull().sum()"
      ],
      "metadata": {
        "id": "J-Pd4U7DL8vn"
      },
      "execution_count": null,
      "outputs": []
    },
    {
      "cell_type": "markdown",
      "source": [
        "*No missing value*"
      ],
      "metadata": {
        "id": "zvoVaoNQMCzZ"
      }
    },
    {
      "cell_type": "code",
      "source": [
        "dfx = df.drop(df[[\"I\"]], axis=1)\n",
        "dfy = df[\"I\"]"
      ],
      "metadata": {
        "id": "TGZJbQrHKgPA"
      },
      "execution_count": 40,
      "outputs": []
    },
    {
      "cell_type": "code",
      "source": [
        "dfx"
      ],
      "metadata": {
        "id": "XJAReS-n7sVs"
      },
      "execution_count": null,
      "outputs": []
    },
    {
      "cell_type": "code",
      "source": [
        "df.describe()"
      ],
      "metadata": {
        "colab": {
          "base_uri": "https://localhost:8080/",
          "height": 300
        },
        "id": "9evypTXnKjjs",
        "outputId": "0a9f30cb-7135-4ae8-c0d0-5d7334fbb18f"
      },
      "execution_count": 10,
      "outputs": [
        {
          "output_type": "execute_result",
          "data": {
            "text/plain": [
              "                A           B           C           D           E           F  \\\n",
              "count  768.000000  768.000000  768.000000  768.000000  768.000000  768.000000   \n",
              "mean     3.845052  120.894531   69.105469   20.536458   79.799479   31.992578   \n",
              "std      3.369578   31.972618   19.355807   15.952218  115.244002    7.884160   \n",
              "min      0.000000    0.000000    0.000000    0.000000    0.000000    0.000000   \n",
              "25%      1.000000   99.000000   62.000000    0.000000    0.000000   27.300000   \n",
              "50%      3.000000  117.000000   72.000000   23.000000   30.500000   32.000000   \n",
              "75%      6.000000  140.250000   80.000000   32.000000  127.250000   36.600000   \n",
              "max     17.000000  199.000000  122.000000   99.000000  846.000000   67.100000   \n",
              "\n",
              "                G           H           I  \n",
              "count  768.000000  768.000000  768.000000  \n",
              "mean     0.471876   33.240885    0.348958  \n",
              "std      0.331329   11.760232    0.476951  \n",
              "min      0.078000   21.000000    0.000000  \n",
              "25%      0.243750   24.000000    0.000000  \n",
              "50%      0.372500   29.000000    0.000000  \n",
              "75%      0.626250   41.000000    1.000000  \n",
              "max      2.420000   81.000000    1.000000  "
            ],
            "text/html": [
              "\n",
              "  <div id=\"df-ee7a9935-7763-46f8-81dc-5ca7e303ffef\">\n",
              "    <div class=\"colab-df-container\">\n",
              "      <div>\n",
              "<style scoped>\n",
              "    .dataframe tbody tr th:only-of-type {\n",
              "        vertical-align: middle;\n",
              "    }\n",
              "\n",
              "    .dataframe tbody tr th {\n",
              "        vertical-align: top;\n",
              "    }\n",
              "\n",
              "    .dataframe thead th {\n",
              "        text-align: right;\n",
              "    }\n",
              "</style>\n",
              "<table border=\"1\" class=\"dataframe\">\n",
              "  <thead>\n",
              "    <tr style=\"text-align: right;\">\n",
              "      <th></th>\n",
              "      <th>A</th>\n",
              "      <th>B</th>\n",
              "      <th>C</th>\n",
              "      <th>D</th>\n",
              "      <th>E</th>\n",
              "      <th>F</th>\n",
              "      <th>G</th>\n",
              "      <th>H</th>\n",
              "      <th>I</th>\n",
              "    </tr>\n",
              "  </thead>\n",
              "  <tbody>\n",
              "    <tr>\n",
              "      <th>count</th>\n",
              "      <td>768.000000</td>\n",
              "      <td>768.000000</td>\n",
              "      <td>768.000000</td>\n",
              "      <td>768.000000</td>\n",
              "      <td>768.000000</td>\n",
              "      <td>768.000000</td>\n",
              "      <td>768.000000</td>\n",
              "      <td>768.000000</td>\n",
              "      <td>768.000000</td>\n",
              "    </tr>\n",
              "    <tr>\n",
              "      <th>mean</th>\n",
              "      <td>3.845052</td>\n",
              "      <td>120.894531</td>\n",
              "      <td>69.105469</td>\n",
              "      <td>20.536458</td>\n",
              "      <td>79.799479</td>\n",
              "      <td>31.992578</td>\n",
              "      <td>0.471876</td>\n",
              "      <td>33.240885</td>\n",
              "      <td>0.348958</td>\n",
              "    </tr>\n",
              "    <tr>\n",
              "      <th>std</th>\n",
              "      <td>3.369578</td>\n",
              "      <td>31.972618</td>\n",
              "      <td>19.355807</td>\n",
              "      <td>15.952218</td>\n",
              "      <td>115.244002</td>\n",
              "      <td>7.884160</td>\n",
              "      <td>0.331329</td>\n",
              "      <td>11.760232</td>\n",
              "      <td>0.476951</td>\n",
              "    </tr>\n",
              "    <tr>\n",
              "      <th>min</th>\n",
              "      <td>0.000000</td>\n",
              "      <td>0.000000</td>\n",
              "      <td>0.000000</td>\n",
              "      <td>0.000000</td>\n",
              "      <td>0.000000</td>\n",
              "      <td>0.000000</td>\n",
              "      <td>0.078000</td>\n",
              "      <td>21.000000</td>\n",
              "      <td>0.000000</td>\n",
              "    </tr>\n",
              "    <tr>\n",
              "      <th>25%</th>\n",
              "      <td>1.000000</td>\n",
              "      <td>99.000000</td>\n",
              "      <td>62.000000</td>\n",
              "      <td>0.000000</td>\n",
              "      <td>0.000000</td>\n",
              "      <td>27.300000</td>\n",
              "      <td>0.243750</td>\n",
              "      <td>24.000000</td>\n",
              "      <td>0.000000</td>\n",
              "    </tr>\n",
              "    <tr>\n",
              "      <th>50%</th>\n",
              "      <td>3.000000</td>\n",
              "      <td>117.000000</td>\n",
              "      <td>72.000000</td>\n",
              "      <td>23.000000</td>\n",
              "      <td>30.500000</td>\n",
              "      <td>32.000000</td>\n",
              "      <td>0.372500</td>\n",
              "      <td>29.000000</td>\n",
              "      <td>0.000000</td>\n",
              "    </tr>\n",
              "    <tr>\n",
              "      <th>75%</th>\n",
              "      <td>6.000000</td>\n",
              "      <td>140.250000</td>\n",
              "      <td>80.000000</td>\n",
              "      <td>32.000000</td>\n",
              "      <td>127.250000</td>\n",
              "      <td>36.600000</td>\n",
              "      <td>0.626250</td>\n",
              "      <td>41.000000</td>\n",
              "      <td>1.000000</td>\n",
              "    </tr>\n",
              "    <tr>\n",
              "      <th>max</th>\n",
              "      <td>17.000000</td>\n",
              "      <td>199.000000</td>\n",
              "      <td>122.000000</td>\n",
              "      <td>99.000000</td>\n",
              "      <td>846.000000</td>\n",
              "      <td>67.100000</td>\n",
              "      <td>2.420000</td>\n",
              "      <td>81.000000</td>\n",
              "      <td>1.000000</td>\n",
              "    </tr>\n",
              "  </tbody>\n",
              "</table>\n",
              "</div>\n",
              "      <button class=\"colab-df-convert\" onclick=\"convertToInteractive('df-ee7a9935-7763-46f8-81dc-5ca7e303ffef')\"\n",
              "              title=\"Convert this dataframe to an interactive table.\"\n",
              "              style=\"display:none;\">\n",
              "        \n",
              "  <svg xmlns=\"http://www.w3.org/2000/svg\" height=\"24px\"viewBox=\"0 0 24 24\"\n",
              "       width=\"24px\">\n",
              "    <path d=\"M0 0h24v24H0V0z\" fill=\"none\"/>\n",
              "    <path d=\"M18.56 5.44l.94 2.06.94-2.06 2.06-.94-2.06-.94-.94-2.06-.94 2.06-2.06.94zm-11 1L8.5 8.5l.94-2.06 2.06-.94-2.06-.94L8.5 2.5l-.94 2.06-2.06.94zm10 10l.94 2.06.94-2.06 2.06-.94-2.06-.94-.94-2.06-.94 2.06-2.06.94z\"/><path d=\"M17.41 7.96l-1.37-1.37c-.4-.4-.92-.59-1.43-.59-.52 0-1.04.2-1.43.59L10.3 9.45l-7.72 7.72c-.78.78-.78 2.05 0 2.83L4 21.41c.39.39.9.59 1.41.59.51 0 1.02-.2 1.41-.59l7.78-7.78 2.81-2.81c.8-.78.8-2.07 0-2.86zM5.41 20L4 18.59l7.72-7.72 1.47 1.35L5.41 20z\"/>\n",
              "  </svg>\n",
              "      </button>\n",
              "      \n",
              "  <style>\n",
              "    .colab-df-container {\n",
              "      display:flex;\n",
              "      flex-wrap:wrap;\n",
              "      gap: 12px;\n",
              "    }\n",
              "\n",
              "    .colab-df-convert {\n",
              "      background-color: #E8F0FE;\n",
              "      border: none;\n",
              "      border-radius: 50%;\n",
              "      cursor: pointer;\n",
              "      display: none;\n",
              "      fill: #1967D2;\n",
              "      height: 32px;\n",
              "      padding: 0 0 0 0;\n",
              "      width: 32px;\n",
              "    }\n",
              "\n",
              "    .colab-df-convert:hover {\n",
              "      background-color: #E2EBFA;\n",
              "      box-shadow: 0px 1px 2px rgba(60, 64, 67, 0.3), 0px 1px 3px 1px rgba(60, 64, 67, 0.15);\n",
              "      fill: #174EA6;\n",
              "    }\n",
              "\n",
              "    [theme=dark] .colab-df-convert {\n",
              "      background-color: #3B4455;\n",
              "      fill: #D2E3FC;\n",
              "    }\n",
              "\n",
              "    [theme=dark] .colab-df-convert:hover {\n",
              "      background-color: #434B5C;\n",
              "      box-shadow: 0px 1px 3px 1px rgba(0, 0, 0, 0.15);\n",
              "      filter: drop-shadow(0px 1px 2px rgba(0, 0, 0, 0.3));\n",
              "      fill: #FFFFFF;\n",
              "    }\n",
              "  </style>\n",
              "\n",
              "      <script>\n",
              "        const buttonEl =\n",
              "          document.querySelector('#df-ee7a9935-7763-46f8-81dc-5ca7e303ffef button.colab-df-convert');\n",
              "        buttonEl.style.display =\n",
              "          google.colab.kernel.accessAllowed ? 'block' : 'none';\n",
              "\n",
              "        async function convertToInteractive(key) {\n",
              "          const element = document.querySelector('#df-ee7a9935-7763-46f8-81dc-5ca7e303ffef');\n",
              "          const dataTable =\n",
              "            await google.colab.kernel.invokeFunction('convertToInteractive',\n",
              "                                                     [key], {});\n",
              "          if (!dataTable) return;\n",
              "\n",
              "          const docLinkHtml = 'Like what you see? Visit the ' +\n",
              "            '<a target=\"_blank\" href=https://colab.research.google.com/notebooks/data_table.ipynb>data table notebook</a>'\n",
              "            + ' to learn more about interactive tables.';\n",
              "          element.innerHTML = '';\n",
              "          dataTable['output_type'] = 'display_data';\n",
              "          await google.colab.output.renderOutput(dataTable, element);\n",
              "          const docLink = document.createElement('div');\n",
              "          docLink.innerHTML = docLinkHtml;\n",
              "          element.appendChild(docLink);\n",
              "        }\n",
              "      </script>\n",
              "    </div>\n",
              "  </div>\n",
              "  "
            ]
          },
          "metadata": {},
          "execution_count": 10
        }
      ]
    },
    {
      "cell_type": "code",
      "source": [
        "df.corrwith(df['I'], axis=0, drop=False, method='pearson')"
      ],
      "metadata": {
        "colab": {
          "base_uri": "https://localhost:8080/"
        },
        "id": "GJgNYxMHK2oy",
        "outputId": "756eff15-15c0-43f1-ded2-b4f862177559"
      },
      "execution_count": 6,
      "outputs": [
        {
          "output_type": "execute_result",
          "data": {
            "text/plain": [
              "A    0.221898\n",
              "B    0.466581\n",
              "C    0.065068\n",
              "D    0.074752\n",
              "E    0.130548\n",
              "F    0.292695\n",
              "G    0.173844\n",
              "H    0.238356\n",
              "I    1.000000\n",
              "dtype: float64"
            ]
          },
          "metadata": {},
          "execution_count": 6
        }
      ]
    },
    {
      "cell_type": "markdown",
      "source": [
        "*B (B. Plasma glucose concentration a 2 hours in an oral glucose tolerance test ) has the highest positive corelation with the target I, lets draw a heatmap to see the relationship clearer*"
      ],
      "metadata": {
        "id": "3K79hPiOLnIW"
      }
    },
    {
      "cell_type": "code",
      "source": [
        "import matplotlib.pyplot as plt\n",
        "import seaborn as sn\n",
        "#fig, ax = plt.subplots(figsize=(5,3))\n",
        "plt.figure(figsize=(5,3))\n",
        "sn.heatmap(df.corr(), annot=True, fmt='.3f', yticklabels=df.columns, xticklabels=df.columns)\n",
        "plt.title('Covariance for correlation coefficients on numeric cols')\n",
        "plt.tight_layout()\n",
        "plt.show()"
      ],
      "metadata": {
        "colab": {
          "base_uri": "https://localhost:8080/",
          "height": 225
        },
        "id": "6awLw_kSMoV7",
        "outputId": "037ecab6-42a6-4888-b7fb-8cb0d6497b55"
      },
      "execution_count": 23,
      "outputs": [
        {
          "output_type": "display_data",
          "data": {
            "text/plain": [
              "<Figure size 360x216 with 2 Axes>"
            ],
            "image/png": "[encoded data removed]"
          },
          "metadata": {
            "needs_background": "light"
          }
        }
      ]
    },
    {
      "cell_type": "code",
      "source": [
        "dfx.hist(bins=20, legend=True)\n",
        "plt.show()"
      ],
      "metadata": {
        "colab": {
          "base_uri": "https://localhost:8080/",
          "height": 281
        },
        "id": "cFa0e5HeNK2w",
        "outputId": "9b4dbe5a-47dd-49cb-ecff-5ea5705353ed"
      },
      "execution_count": 24,
      "outputs": [
        {
          "output_type": "display_data",
          "data": {
            "text/plain": [
              "<Figure size 432x288 with 9 Axes>"
            ],
            "image/png": "[encoded data removed]"
          },
          "metadata": {
            "needs_background": "light"
          }
        }
      ]
    },
    {
      "cell_type": "code",
      "source": [
        ""
      ],
      "metadata": {
        "id": "Ee46P9vQT88v"
      },
      "execution_count": null,
      "outputs": []
    },
    {
      "cell_type": "markdown",
      "source": [
        "*Because we are using NLP technique, we dont need to scale the dataset, so lets go right into the NLP modelling*"
      ],
      "metadata": {
        "id": "rlovOnmMT92s"
      }
    },
    {
      "cell_type": "markdown",
      "source": [
        "**NLP MODELLING**"
      ],
      "metadata": {
        "id": "cgZrm1yvURlL"
      }
    },
    {
      "cell_type": "code",
      "source": [
        "##### WE START BY DEFINING FEATURES FOR NLP MODELLING\n",
        "\n",
        "import random\n",
        "def sel_features(x):\n",
        "    #print(x)\n",
        "    fet={}   \n",
        "    hed= [\"A\", \"B\", \"C\", \"D\", \"E\", \"F\", \"G\", \"H\", \"I\"]\n",
        "    for j, k in enumerate (x):                  \n",
        "        fet['{}'.format(hed[j])]=k  \n",
        "           #(dict(a=1,b=1,c=1), 'y')        \n",
        "    return(fet) \n",
        "\n",
        "def extract(datax, datay): #function to create featureset 1\n",
        "    k=[str (s) for s in datay]\n",
        "    sel_featurs=[]\n",
        "    for index, item in enumerate (datax):\n",
        "       sel_featurs.append((sel_features(item), str(k[index])))\n",
        "    return(sel_featurs)\n",
        "\n",
        "def extract2(datax): #function to create Test set for new data\n",
        "    sel_f=[]\n",
        "    for index, item in enumerate (datax):\n",
        "        sel_f.append(sel_features(item))\n",
        "    return(sel_f)"
      ],
      "metadata": {
        "id": "4enJs92RUQTf"
      },
      "execution_count": 37,
      "outputs": []
    },
    {
      "cell_type": "code",
      "source": [
        ""
      ],
      "metadata": {
        "id": "Lb20Lel838Kp"
      },
      "execution_count": null,
      "outputs": []
    },
    {
      "cell_type": "code",
      "source": [
        "#FUNCTION FOR FUNNING CLASSIFICATION MODELS\n",
        "def classifies(classif, xtrains, xtests, s):\n",
        "   print(f'{s} score is:\\t', nltk.classify.accuracy(classif, xtests))\n",
        "\n",
        "   '''\n",
        "   errors = []\n",
        "   for (name, tag) in xtests:\n",
        "      guess =classif.classify(name)\n",
        "      #print(guess, tag)\n",
        "      if guess != tag:        \n",
        "          errors.append( (tag, guess, name))\n",
        "      #xtests.show_most_informative_features(20)     \n",
        "      #for (tag, guess, name) in sorted(errors):\n",
        "          #print('correct={} guess={} name={}'.format(tag, guess, name))\n",
        "    print(len(errors))\n",
        "    print(len(xtests))\n",
        "   '''"
      ],
      "metadata": {
        "id": "9i0BuQPU378R"
      },
      "execution_count": 57,
      "outputs": []
    },
    {
      "cell_type": "code",
      "source": [
        ""
      ],
      "metadata": {
        "id": "5nXHDlKd2KRk"
      },
      "execution_count": null,
      "outputs": []
    },
    {
      "cell_type": "markdown",
      "source": [
        "**TO CREATE TRAIN TEST SETS WE WILL DO IT I TWO WAYS**"
      ],
      "metadata": {
        "id": "8mfWvv0V2K3C"
      }
    },
    {
      "cell_type": "code",
      "source": [
        "                 #1. USING SKLEARN TRAIN-TEST-SPLIT                 \n",
        "                 #########################################################\n",
        "\n",
        "from nltk.classify import SklearnClassifier as skc\n",
        "from sklearn.model_selection import train_test_split\n",
        "\n",
        "dfx=dfx.values\n",
        "\n",
        "X_train, X_test, Y_train, Y_test = train_test_split(dfx, dfy, test_size=0.33, random_state=42)\n",
        "\n",
        "X_tr=extract(X_train, Y_train)\n",
        "X_tt=extract(X_test, Y_test)"
      ],
      "metadata": {
        "id": "A_Lr4Gkw2IAm"
      },
      "execution_count": 41,
      "outputs": []
    },
    {
      "cell_type": "code",
      "source": [
        "                   #2. USING DIRECT SPLITTING                 \n",
        "                 #########################################################\n",
        "\n",
        "xtr, ytr=dfx [358:], dfy[358:]\n",
        "xtt, ytt=dfx [:358], dfy[:358]\n",
        "#testx=extract2(xtt)\n",
        "\n",
        "X_tr2=extract(xtr, ytr)\n",
        "X_tt2=extract(xtt, ytt)"
      ],
      "metadata": {
        "id": "j-aQUpKG4ZrG"
      },
      "execution_count": 42,
      "outputs": []
    },
    {
      "cell_type": "code",
      "source": [
        "X_tr2[:3]"
      ],
      "metadata": {
        "colab": {
          "base_uri": "https://localhost:8080/"
        },
        "id": "0fW7l7mYtS0k",
        "outputId": "80e7108f-7934-4291-c8d2-9eb6b049f3bd"
      },
      "execution_count": 44,
      "outputs": [
        {
          "output_type": "execute_result",
          "data": {
            "text/plain": [
              "[({'A': 12.0,\n",
              "   'B': 88.0,\n",
              "   'C': 74.0,\n",
              "   'D': 40.0,\n",
              "   'E': 54.0,\n",
              "   'F': 35.3,\n",
              "   'G': 0.378,\n",
              "   'H': 48.0},\n",
              "  '0'),\n",
              " ({'A': 1.0,\n",
              "   'B': 196.0,\n",
              "   'C': 76.0,\n",
              "   'D': 36.0,\n",
              "   'E': 249.0,\n",
              "   'F': 36.5,\n",
              "   'G': 0.875,\n",
              "   'H': 29.0},\n",
              "  '1'),\n",
              " ({'A': 5.0,\n",
              "   'B': 189.0,\n",
              "   'C': 64.0,\n",
              "   'D': 33.0,\n",
              "   'E': 325.0,\n",
              "   'F': 31.2,\n",
              "   'G': 0.583,\n",
              "   'H': 29.0},\n",
              "  '1')]"
            ]
          },
          "metadata": {},
          "execution_count": 44
        }
      ]
    },
    {
      "cell_type": "code",
      "source": [
        ""
      ],
      "metadata": {
        "id": "xPuoBL-a67IG"
      },
      "execution_count": null,
      "outputs": []
    },
    {
      "cell_type": "code",
      "source": [
        "##### NAIVE CLASIFY WITH NLP\n",
        "#'''\n",
        "classifierP = nltk.NaiveBayesClassifier.train(X_tr)\n",
        "classifies(classifierP, X_tr, X_tt, 'NaiveBayesClassifier')\n",
        "#'''\n",
        "\n",
        "##### MAXTENT CLASIFY WITH NLP\n",
        "#'''\n",
        "from nltk.classify import maxent\n",
        "encoding = maxent.TypedMaxentFeatureEncoding.train(X_tr, count_cutoff=3, alwayson_features=True)\n",
        "classifierE= maxent.MaxentClassifier.train(X_tr, bernoulli=False, encoding=encoding, trace=0)\n",
        "classifies(classifierE, X_tr, X_tt, 'MaxentClassifier')\n",
        "#'''\n",
        "\n",
        "##### SVC CLASIFY WITH NLP\n",
        "#'''\n",
        "from nltk.classify import SklearnClassifier as skc\n",
        "from sklearn.svm import SVC \n",
        "classifS= skc(SVC(), sparse=False).train(X_tr)\n",
        "classifies(classifS, X_tr, X_tt, 'SVCclassifier')\n",
        "#'''#0.7440944881889764\n",
        "#0.723463687150838\n",
        "\n",
        "##### DT CLASIFY WITH NLP\n",
        "#'''\n",
        "classifierD = nltk.classify.DecisionTreeClassifier.train(X_tr2, entropy_cutoff=0,support_cutoff=0)\n",
        "classifies(classifierD, X_tr, X_tt, 'DecisionTreeClassifier')\n",
        "#'''\n",
        "\n",
        "##### benoli CLASIFY WITH NLP\n",
        "#'''\n",
        "from nltk.classify import SklearnClassifier\n",
        "from sklearn.naive_bayes import BernoulliNB\n",
        "classiB = SklearnClassifier(BernoulliNB()).train(X_tr)\n",
        "classifies(classiB, X_tr, X_tt, 'BernoulliNBclassifier')\n",
        "#'''"
      ],
      "metadata": {
        "colab": {
          "base_uri": "https://localhost:8080/"
        },
        "id": "C2Og9BmI4Ka6",
        "outputId": "067959d9-062d-4fd5-b768-6b215db1d476"
      },
      "execution_count": 58,
      "outputs": [
        {
          "output_type": "stream",
          "name": "stdout",
          "text": [
            "NaiveBayesClassifier score is:\t 0.65748031496063\n",
            "MaxentClassifier score is:\t 0.6614173228346457\n",
            "SVCclassifier score is:\t 0.7440944881889764\n",
            "DecisionTreeClassifier score is:\t 0.7795275590551181\n",
            "BernoulliNBclassifier score is:\t 0.6614173228346457\n"
          ]
        }
      ]
    },
    {
      "cell_type": "markdown",
      "source": [
        "*Both spliting methods performed with very close results, but the sklearn train-test-split method was better. In addition, the SDECISION TREE classifier performed the best in both cases. These results can be improved by defining a better feature set extractor*\n"
      ],
      "metadata": {
        "id": "Sg7d__r10a_K"
      }
    },
    {
      "cell_type": "code",
      "source": [
        ""
      ],
      "metadata": {
        "id": "heYweBmQ1Cml"
      },
      "execution_count": null,
      "outputs": []
    },
    {
      "cell_type": "code",
      "source": [
        ""
      ],
      "metadata": {
        "id": "xEWO8lPY8oKT"
      },
      "execution_count": null,
      "outputs": []
    },
    {
      "cell_type": "markdown",
      "source": [
        "**USING THE MODEL**"
      ],
      "metadata": {
        "id": "Ba7-XvB81D8Y"
      }
    },
    {
      "cell_type": "code",
      "source": [
        "modeld=classifierD \n",
        "def my_modl(arr):\n",
        "  new_arr=extract2(arr)\n",
        "  pred= modeld.classify_many(new_arr)\n",
        "  print(pred)\n",
        "\n",
        "  if (int(pred[0])==1):\n",
        "    print('Sorry, you may soon have diabetes')\n",
        "  else:\n",
        "    print('congrats you are free from diabetes')\n",
        "      \n",
        "my_modl([[6,162,62,0,0,24.3,0.178,50]])"
      ],
      "metadata": {
        "colab": {
          "base_uri": "https://localhost:8080/"
        },
        "id": "YVo4Xgfw1DYu",
        "outputId": "4df1a6c4-dfeb-4d0a-d211-164cec196248"
      },
      "execution_count": 59,
      "outputs": [
        {
          "output_type": "stream",
          "name": "stdout",
          "text": [
            "['1']\n",
            "Sorry, you may soon have diabetes\n"
          ]
        }
      ]
    },
    {
      "cell_type": "code",
      "source": [
        ""
      ],
      "metadata": {
        "id": "1OJIc5yc68jy"
      },
      "execution_count": null,
      "outputs": []
    },
    {
      "cell_type": "markdown",
      "source": [
        "**SAVING THE MODEL**"
      ],
      "metadata": {
        "id": "b6peZUSZ7DBB"
      }
    },
    {
      "cell_type": "code",
      "source": [
        "#Now we save the model for future use\n",
        "import joblib\n",
        "\n",
        "# save the model to disk\n",
        "f_name = 'diabetico.sav'\n",
        "joblib.dump(modeld, f_name)\n",
        " \n",
        "# some time later...\n",
        " \n",
        "# load the model from disk\n",
        "#saved_model = joblib.load(f_name)\n",
        "#result = loaded_model.score(X_test, Y_test)\n",
        "\n",
        "#OR to predict new data\n",
        "#result = loaded_model.classify_many(your new data in 2d array)\n",
        "\n",
        "#print(result)"
      ],
      "metadata": {
        "id": "Yq9t1CIK68dZ"
      },
      "execution_count": null,
      "outputs": []
    }
  ]
}