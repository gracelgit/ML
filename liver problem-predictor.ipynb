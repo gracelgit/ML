{
 "cells": [
  {
   "cell_type": "markdown",
   "id": "8a4f8e8e",
   "metadata": {
    "papermill": {
     "duration": 0.10006,
     "end_time": "2022-05-02T01:18:08.936279",
     "exception": false,
     "start_time": "2022-05-02T01:18:08.836219",
     "status": "completed"
    },
    "tags": []
   },
   "source": [
    "OBJECTIVES: CLASSIFY PATIENTS AS WITH OR WITHOUT LIVER PROBLEM"
   ]
  },
  {
   "cell_type": "markdown",
   "id": "2dec3958",
   "metadata": {
    "papermill": {
     "duration": 0.082968,
     "end_time": "2022-05-02T01:18:09.116178",
     "exception": false,
     "start_time": "2022-05-02T01:18:09.033210",
     "status": "completed"
    },
    "tags": []
   },
   "source": [
    "Data Description:\n",
    "    ID_Patient_Care_Situation: Care situation of a patient during treatment\n",
    "    Diagnosed_Condition: The diagnosed condition of the patient\n",
    "    ID_Patient: Patient identifier number\n",
    "    Treatment_with_drugs: Class of drugs used during treatment\n",
    "    Survived_1_year: If the patient survived after one year (0 means did not survive; 1 means survived)\n",
    "    Patient_Age: Age of the patient\n",
    "    Patient_Body_Mass_Index: A calculated value based on the patient’s weight, height, etc.\n",
    "    Patient_Smoker: If the patient was a smoker or not\n",
    "    Patient_Rural_Urban: If the patient stayed in Rural or Urban part of the country\n",
    "    Previous_Condition: Condition of the patient before the start of the treatment ( This variable is splitted into 8 columns - A, B, C, D, E, F, Z and Number_of_prev_cond. A, B, C, D, E, F and Z are the previous conditions of the patient. Suppose for one patient, if the entry in column A is 1, it means that the previous condition of the patient was A. If the patient didn't have that condition, it is 0 and same for other conditions. If a patient has previous condition as A and C , columns A and C will have entries as 1 and 1 respectively while the other column B, D, E, F, Z will have entries 0, 0, 0, 0, 0 respectively. The column Number_of_prev_cond will have entry as 2 i.e. 1 + 0 + 1 + 0 + 0 + 0 + 0 + 0 = 2 in this case. "
   ]
  },
  {
   "cell_type": "code",
   "execution_count": 1,
   "id": "4850e52e",
   "metadata": {
    "execution": {
     "iopub.execute_input": "2022-05-02T01:18:09.286177Z",
     "iopub.status.busy": "2022-05-02T01:18:09.285540Z",
     "iopub.status.idle": "2022-05-02T01:18:11.138126Z",
     "shell.execute_reply": "2022-05-02T01:18:11.137371Z"
    },
    "papermill": {
     "duration": 1.941058,
     "end_time": "2022-05-02T01:18:11.140436",
     "exception": false,
     "start_time": "2022-05-02T01:18:09.199378",
     "status": "completed"
    },
    "tags": []
   },
   "outputs": [],
   "source": [
    "# IMPORT REQUIRED PACKAGES\n",
    "\n",
    "import pandas as pd \n",
    "import numpy as np\n",
    "from sklearn.metrics import confusion_matrix\n",
    "from sklearn.metrics import accuracy_score, f1_score, precision_score, recall_score\n",
    "import time\n",
    "\n",
    "from sklearn.preprocessing import StandardScaler\n",
    "from sklearn.preprocessing import RobustScaler\n",
    "\n",
    "from sklearn.ensemble import RandomForestClassifier\n",
    "from sklearn.neighbors import KNeighborsClassifier\n",
    "from sklearn.neural_network import MLPClassifier\n",
    "\n",
    "from sklearn.linear_model import LogisticRegression\n",
    "from sklearn.naive_bayes import BernoulliNB\n",
    "from sklearn.ensemble import GradientBoostingClassifier\n",
    "from sklearn.svm import SVC\n",
    "from sklearn.tree import DecisionTreeClassifier\n",
    "from catboost import CatBoostClassifier\n",
    "from xgboost import XGBClassifier \n",
    "\n",
    "import matplotlib.pyplot as plt\n",
    "import seaborn as sn"
   ]
  },
  {
   "cell_type": "code",
   "execution_count": 2,
   "id": "62670937",
   "metadata": {
    "execution": {
     "iopub.execute_input": "2022-05-02T01:18:11.307881Z",
     "iopub.status.busy": "2022-05-02T01:18:11.307057Z",
     "iopub.status.idle": "2022-05-02T01:18:11.311509Z",
     "shell.execute_reply": "2022-05-02T01:18:11.310667Z"
    },
    "papermill": {
     "duration": 0.089749,
     "end_time": "2022-05-02T01:18:11.313496",
     "exception": false,
     "start_time": "2022-05-02T01:18:11.223747",
     "status": "completed"
    },
    "tags": []
   },
   "outputs": [],
   "source": [
    "#dataset=pd.read_csv('https://raw.githubusercontent.com/dphi-official/Datasets/master/liver_patient_data/indian_liver_patient_dataset.csv')"
   ]
  },
  {
   "cell_type": "code",
   "execution_count": 2,
   "id": "e6e7e1d0",
   "metadata": {
    "execution": {
     "iopub.execute_input": "2022-05-02T01:18:11.482912Z",
     "iopub.status.busy": "2022-05-02T01:18:11.482618Z",
     "iopub.status.idle": "2022-05-02T01:18:31.661860Z",
     "shell.execute_reply": "2022-05-02T01:18:31.660007Z"
    },
    "papermill": {
     "duration": 20.267545,
     "end_time": "2022-05-02T01:18:31.663668",
     "exception": true,
     "start_time": "2022-05-02T01:18:11.396123",
     "status": "failed"
    },
    "tags": []
   },
   "outputs": [
    {
     "data": {
      "text/html": [
       "<div>\n",
       "<style scoped>\n",
       "    .dataframe tbody tr th:only-of-type {\n",
       "        vertical-align: middle;\n",
       "    }\n",
       "\n",
       "    .dataframe tbody tr th {\n",
       "        vertical-align: top;\n",
       "    }\n",
       "\n",
       "    .dataframe thead th {\n",
       "        text-align: right;\n",
       "    }\n",
       "</style>\n",
       "<table border=\"1\" class=\"dataframe\">\n",
       "  <thead>\n",
       "    <tr style=\"text-align: right;\">\n",
       "      <th></th>\n",
       "      <th>ID_Patient_Care_Situation</th>\n",
       "      <th>Diagnosed_Condition</th>\n",
       "      <th>Patient_ID</th>\n",
       "      <th>Treated_with_drugs</th>\n",
       "      <th>Patient_Age</th>\n",
       "      <th>Patient_Body_Mass_Index</th>\n",
       "      <th>Patient_Smoker</th>\n",
       "      <th>Patient_Rural_Urban</th>\n",
       "      <th>Patient_mental_condition</th>\n",
       "      <th>A</th>\n",
       "      <th>B</th>\n",
       "      <th>C</th>\n",
       "      <th>D</th>\n",
       "      <th>E</th>\n",
       "      <th>F</th>\n",
       "      <th>Z</th>\n",
       "      <th>Number_of_prev_cond</th>\n",
       "      <th>Survived_1_year</th>\n",
       "    </tr>\n",
       "  </thead>\n",
       "  <tbody>\n",
       "    <tr>\n",
       "      <th>0</th>\n",
       "      <td>22374</td>\n",
       "      <td>8</td>\n",
       "      <td>3333</td>\n",
       "      <td>DX6</td>\n",
       "      <td>56</td>\n",
       "      <td>18.479385</td>\n",
       "      <td>YES</td>\n",
       "      <td>URBAN</td>\n",
       "      <td>Stable</td>\n",
       "      <td>1.0</td>\n",
       "      <td>0.0</td>\n",
       "      <td>0.0</td>\n",
       "      <td>0.0</td>\n",
       "      <td>1.0</td>\n",
       "      <td>0.0</td>\n",
       "      <td>0.0</td>\n",
       "      <td>2.0</td>\n",
       "      <td>0</td>\n",
       "    </tr>\n",
       "    <tr>\n",
       "      <th>1</th>\n",
       "      <td>18164</td>\n",
       "      <td>5</td>\n",
       "      <td>5740</td>\n",
       "      <td>DX2</td>\n",
       "      <td>36</td>\n",
       "      <td>22.945566</td>\n",
       "      <td>YES</td>\n",
       "      <td>RURAL</td>\n",
       "      <td>Stable</td>\n",
       "      <td>1.0</td>\n",
       "      <td>0.0</td>\n",
       "      <td>0.0</td>\n",
       "      <td>0.0</td>\n",
       "      <td>0.0</td>\n",
       "      <td>0.0</td>\n",
       "      <td>0.0</td>\n",
       "      <td>1.0</td>\n",
       "      <td>1</td>\n",
       "    </tr>\n",
       "  </tbody>\n",
       "</table>\n",
       "</div>"
      ],
      "text/plain": [
       "   ID_Patient_Care_Situation  Diagnosed_Condition  Patient_ID  \\\n",
       "0                      22374                    8        3333   \n",
       "1                      18164                    5        5740   \n",
       "\n",
       "  Treated_with_drugs  Patient_Age  Patient_Body_Mass_Index Patient_Smoker  \\\n",
       "0                DX6           56                18.479385            YES   \n",
       "1               DX2            36                22.945566            YES   \n",
       "\n",
       "  Patient_Rural_Urban Patient_mental_condition    A    B    C    D    E    F  \\\n",
       "0               URBAN                   Stable  1.0  0.0  0.0  0.0  1.0  0.0   \n",
       "1               RURAL                   Stable  1.0  0.0  0.0  0.0  0.0  0.0   \n",
       "\n",
       "     Z  Number_of_prev_cond  Survived_1_year  \n",
       "0  0.0                  2.0                0  \n",
       "1  0.0                  1.0                1  "
      ]
     },
     "execution_count": 2,
     "metadata": {},
     "output_type": "execute_result"
    }
   ],
   "source": [
    "# IMPORT DATASET\n",
    "pharma_data = pd.read_csv('https://raw.githubusercontent.com/dphi-official/Datasets/master/pharma_data/Training_set_begs.csv')\n",
    "pharma_data.head(2)"
   ]
  },
  {
   "cell_type": "code",
   "execution_count": null,
   "id": "f7d48304",
   "metadata": {
    "papermill": {
     "duration": null,
     "end_time": null,
     "exception": null,
     "start_time": null,
     "status": "pending"
    },
    "tags": []
   },
   "outputs": [],
   "source": [
    "pharma_data.head()"
   ]
  },
  {
   "cell_type": "code",
   "execution_count": null,
   "id": "28cbd36e",
   "metadata": {
    "papermill": {
     "duration": null,
     "end_time": null,
     "exception": null,
     "start_time": null,
     "status": "pending"
    },
    "tags": []
   },
   "outputs": [],
   "source": [
    "pharma_data.shape"
   ]
  },
  {
   "cell_type": "code",
   "execution_count": null,
   "id": "770a37ca",
   "metadata": {
    "papermill": {
     "duration": null,
     "end_time": null,
     "exception": null,
     "start_time": null,
     "status": "pending"
    },
    "tags": []
   },
   "outputs": [],
   "source": [
    "#CHECK FOR NULL VALUES\n",
    "pharma_data.isnull().sum()"
   ]
  },
  {
   "cell_type": "code",
   "execution_count": null,
   "id": "9be21448",
   "metadata": {
    "papermill": {
     "duration": null,
     "end_time": null,
     "exception": null,
     "start_time": null,
     "status": "pending"
    },
    "tags": []
   },
   "outputs": [],
   "source": [
    "#EXPLORE DATASET TO FIND OUT THE SPREAD\n",
    "pharma_data.nunique()"
   ]
  },
  {
   "cell_type": "code",
   "execution_count": null,
   "id": "5cf18e5b",
   "metadata": {
    "papermill": {
     "duration": null,
     "end_time": null,
     "exception": null,
     "start_time": null,
     "status": "pending"
    },
    "tags": []
   },
   "outputs": [],
   "source": [
    "#MORE EXPLORATION\n",
    "pharma_data.describe()\n"
   ]
  },
  {
   "cell_type": "code",
   "execution_count": null,
   "id": "665fb418",
   "metadata": {
    "papermill": {
     "duration": null,
     "end_time": null,
     "exception": null,
     "start_time": null,
     "status": "pending"
    },
    "tags": []
   },
   "outputs": [],
   "source": [
    "#NON-NUMERIC VALUES\n",
    "pharma_data.describe(exclude=np.number)"
   ]
  },
  {
   "cell_type": "code",
   "execution_count": null,
   "id": "ef61216f",
   "metadata": {
    "papermill": {
     "duration": null,
     "end_time": null,
     "exception": null,
     "start_time": null,
     "status": "pending"
    },
    "tags": []
   },
   "outputs": [],
   "source": [
    "#FIND THE RELATIONSHIP BETWEEN TARGET AND PREDICTOR VARIABLES\n",
    "pharma_data.corr()"
   ]
  },
  {
   "cell_type": "markdown",
   "id": "25a8a657",
   "metadata": {
    "papermill": {
     "duration": null,
     "end_time": null,
     "exception": null,
     "start_time": null,
     "status": "pending"
    },
    "tags": []
   },
   "source": []
  },
  {
   "cell_type": "markdown",
   "id": "d2817833",
   "metadata": {
    "papermill": {
     "duration": null,
     "end_time": null,
     "exception": null,
     "start_time": null,
     "status": "pending"
    },
    "tags": []
   },
   "source": [
    "ANALYSIS"
   ]
  },
  {
   "cell_type": "code",
   "execution_count": null,
   "id": "d8a0fe84",
   "metadata": {
    "papermill": {
     "duration": null,
     "end_time": null,
     "exception": null,
     "start_time": null,
     "status": "pending"
    },
    "tags": []
   },
   "outputs": [],
   "source": [
    "from sklearn.preprocessing import MinMaxScaler\n",
    "mm=MinMaxScaler()\n",
    "from sklearn.preprocessing import StandardScaler\n",
    "sc=StandardScaler()\n",
    "rs = RobustScaler()\n",
    "from sklearn.preprocessing import LabelEncoder"
   ]
  },
  {
   "cell_type": "code",
   "execution_count": null,
   "id": "5f1b842b",
   "metadata": {
    "papermill": {
     "duration": null,
     "end_time": null,
     "exception": null,
     "start_time": null,
     "status": "pending"
    },
    "tags": []
   },
   "outputs": [],
   "source": [
    "data=pharma_data"
   ]
  },
  {
   "cell_type": "code",
   "execution_count": null,
   "id": "b01af40e",
   "metadata": {
    "papermill": {
     "duration": null,
     "end_time": null,
     "exception": null,
     "start_time": null,
     "status": "pending"
    },
    "tags": []
   },
   "outputs": [],
   "source": [
    "data.shape"
   ]
  },
  {
   "cell_type": "code",
   "execution_count": null,
   "id": "5f5a0ed9",
   "metadata": {
    "papermill": {
     "duration": null,
     "end_time": null,
     "exception": null,
     "start_time": null,
     "status": "pending"
    },
    "tags": []
   },
   "outputs": [],
   "source": [
    "#DEFINE THE DIFFERENT SET OF COLUMNS WE WILL USE\n",
    "cols= data.columns\n",
    "number_cols = data.select_dtypes(include=np.number).columns\n",
    "cat_cols= list(set(cols) - set(number_cols)) "
   ]
  },
  {
   "cell_type": "code",
   "execution_count": null,
   "id": "9729ef5e",
   "metadata": {
    "papermill": {
     "duration": null,
     "end_time": null,
     "exception": null,
     "start_time": null,
     "status": "pending"
    },
    "tags": []
   },
   "outputs": [],
   "source": [
    "#FILL NULL VALUES WHERE NECCESSARY\n",
    "#ELIMINATE AUTOMATICALLY VARIABLES WITH MORE THAN 20% OF MISSINGNESS\n",
    "data = data[data.columns[data.isnull().mean() < 0.2]]"
   ]
  },
  {
   "cell_type": "code",
   "execution_count": null,
   "id": "7ae19fa5",
   "metadata": {
    "papermill": {
     "duration": null,
     "end_time": null,
     "exception": null,
     "start_time": null,
     "status": "pending"
    },
    "tags": []
   },
   "outputs": [],
   "source": [
    "#check WHICH AMONG REMAINING COLUMNS HAVE MISSING VALUES IN THE CODE BELOW\n",
    "#All features have less than 20 % null/na value\n",
    "data1=data.columns[data.isnull().mean() > 0]\n",
    "data1"
   ]
  },
  {
   "cell_type": "code",
   "execution_count": null,
   "id": "1cd8e7cf",
   "metadata": {
    "papermill": {
     "duration": null,
     "end_time": null,
     "exception": null,
     "start_time": null,
     "status": "pending"
    },
    "tags": []
   },
   "outputs": [],
   "source": [
    "# IMPUTE NUMERICAL VARIABLES WITH MEAN OF THE VARIABLE\n",
    "data.loc[:,number_cols]=data.loc[:,number_cols].fillna(data.loc[:,number_cols].mean())"
   ]
  },
  {
   "cell_type": "code",
   "execution_count": null,
   "id": "dfc55f66",
   "metadata": {
    "papermill": {
     "duration": null,
     "end_time": null,
     "exception": null,
     "start_time": null,
     "status": "pending"
    },
    "tags": []
   },
   "outputs": [],
   "source": [
    "data[cat_cols]=data[cat_cols].ffill()\n",
    "data.head(2)"
   ]
  },
  {
   "cell_type": "code",
   "execution_count": null,
   "id": "74f316a9",
   "metadata": {
    "papermill": {
     "duration": null,
     "end_time": null,
     "exception": null,
     "start_time": null,
     "status": "pending"
    },
    "tags": []
   },
   "outputs": [],
   "source": [
    "data.isnull().sum()"
   ]
  },
  {
   "cell_type": "code",
   "execution_count": null,
   "id": "26d53539",
   "metadata": {
    "papermill": {
     "duration": null,
     "end_time": null,
     "exception": null,
     "start_time": null,
     "status": "pending"
    },
    "tags": []
   },
   "outputs": [],
   "source": [
    "# IMPUTE CATEGORICAL VARIABLES WITH FREQUENCY OF THE FEATURE COLUMNS\n",
    "# MULTIPLE COLUMNS FREQUNCY ENCODING                                           \n",
    "for j in cat_cols:    \n",
    "    encoding = data.groupby(j).size()\n",
    "    encoding = encoding/len(data)   #calculates frequency\n",
    "    data[j] = data[j].map(encoding)\n",
    "data.head(2)"
   ]
  },
  {
   "cell_type": "code",
   "execution_count": null,
   "id": "32d21325",
   "metadata": {
    "papermill": {
     "duration": null,
     "end_time": null,
     "exception": null,
     "start_time": null,
     "status": "pending"
    },
    "tags": []
   },
   "outputs": [],
   "source": [
    "                                         # CHECK POPULATION SIZE OF TARGET VARIABLE'S VALUES  and plot\n",
    "data['Survived_1_year'].value_counts()\n",
    "#1    14603\n",
    "#0    8494"
   ]
  },
  {
   "cell_type": "code",
   "execution_count": null,
   "id": "387e1786",
   "metadata": {
    "papermill": {
     "duration": null,
     "end_time": null,
     "exception": null,
     "start_time": null,
     "status": "pending"
    },
    "tags": []
   },
   "outputs": [],
   "source": [
    "plt.figure(figsize=(5, 3))\n",
    "data['Survived_1_year'].value_counts().plot.bar()\n",
    "plt.show()"
   ]
  },
  {
   "cell_type": "code",
   "execution_count": null,
   "id": "9fb1c50c",
   "metadata": {
    "papermill": {
     "duration": null,
     "end_time": null,
     "exception": null,
     "start_time": null,
     "status": "pending"
    },
    "tags": []
   },
   "outputs": [],
   "source": [
    "#USE HEATMAP TO SEE RELATIONSHIP (correlation) BETWEEN TARGET AND PREDICTION VARIABLES\n",
    "plt.figure(figsize=(9, 6))\n",
    "sn.heatmap(data[number_cols].corr(), annot=True, fmt='.3f', yticklabels=number_cols, xticklabels=number_cols)\n",
    "plt.title('Covariance for correlation coefficients')\n",
    "plt.tight_layout()\n",
    "plt.show()"
   ]
  },
  {
   "cell_type": "markdown",
   "id": "8e7e8f57",
   "metadata": {
    "papermill": {
     "duration": null,
     "end_time": null,
     "exception": null,
     "start_time": null,
     "status": "pending"
    },
    "tags": []
   },
   "source": [
    " #Analysis:\n",
    "'''From the corelation matrix\n",
    "        Patient_Body_Mass_Index and D(Number_of_prev_cond) has the highest impact (negative) on Survived_1_year \n",
    "        The matrix shows that the lower the 2 values the higher the chances of survival\n",
    "        Other faetures that impact survival include [Number_of_prev_cond', 'D', 'Patient_Age']\n",
    "        'ID_Patient_Care_Situation', 'Diagnosed_Condition', 'Patient_ID' have little or no impact, so we remove them\n",
    "'''"
   ]
  },
  {
   "cell_type": "code",
   "execution_count": null,
   "id": "2de4ee28",
   "metadata": {
    "papermill": {
     "duration": null,
     "end_time": null,
     "exception": null,
     "start_time": null,
     "status": "pending"
    },
    "tags": []
   },
   "outputs": [],
   "source": [
    "plt.figure(figsize=(12, 6))\n",
    "sn.heatmap(data.corr(), annot=True, fmt='.3f', yticklabels=cols, xticklabels=cols)\n",
    "plt.title('Covariance for correlation coefficients')\n",
    "plt.tight_layout()\n",
    "plt.show()"
   ]
  },
  {
   "cell_type": "markdown",
   "id": "e2ada6ec",
   "metadata": {
    "papermill": {
     "duration": null,
     "end_time": null,
     "exception": null,
     "start_time": null,
     "status": "pending"
    },
    "tags": []
   },
   "source": [
    " #Analysis 2:\n",
    "'''The corelation matrix with the entire dataset after encoding\n",
    "        Other featurres with importance['Patient_Smoker', 'Treated_with_drugs', 'Patient_Rural_Urban']        \n",
    "'''"
   ]
  },
  {
   "cell_type": "code",
   "execution_count": null,
   "id": "1a559f41",
   "metadata": {
    "papermill": {
     "duration": null,
     "end_time": null,
     "exception": null,
     "start_time": null,
     "status": "pending"
    },
    "tags": []
   },
   "outputs": [],
   "source": [
    "       # SELECT FEATURES THAT ARE NOT HILGHLY CORELATED AND DRAW THE CORELATION MATRIX AGAIN\n",
    "\n",
    "col2=['Treated_with_drugs', 'Patient_Age', 'Patient_Body_Mass_Index','Patient_Smoker', 'Patient_Rural_Urban', 'D', \n",
    "'Number_of_prev_cond','Survived_1_year']\n",
    "data_reduced=data[col2]"
   ]
  },
  {
   "cell_type": "code",
   "execution_count": null,
   "id": "527cba60",
   "metadata": {
    "papermill": {
     "duration": null,
     "end_time": null,
     "exception": null,
     "start_time": null,
     "status": "pending"
    },
    "tags": []
   },
   "outputs": [],
   "source": [
    "#Corr matrix for fetures tha impact survival\n",
    "plt.figure(figsize=(10, 5))\n",
    "sn.heatmap(data_reduced.corr(), annot=True, fmt='.2f', yticklabels=col2, xticklabels=col2)\n",
    "plt.title('Covariance for correlation coefficients')\n",
    "plt.tight_layout()\n",
    "plt.show()"
   ]
  },
  {
   "cell_type": "code",
   "execution_count": null,
   "id": "6d70a556",
   "metadata": {
    "papermill": {
     "duration": null,
     "end_time": null,
     "exception": null,
     "start_time": null,
     "status": "pending"
    },
    "tags": []
   },
   "outputs": [],
   "source": [
    "#Patient_Smoker' HAS A POSITIVE RELATION WITH THE TARGET, SO WE MAKE A PLOT OF ALBUMIN THAT RELATING TO Patient_Rural_Urban\n",
    "\n",
    "p = sn.catplot(x=\"Survived_1_year\", y=\"Patient_Smoker\", hue=\"Patient_Rural_Urban\", kind=\"bar\", data=data, height=4, aspect=7/4)\n",
    "plt.title('Patient_Smoker related Survival by Patient_Rural_Urban')\n",
    "plt.show()"
   ]
  },
  {
   "cell_type": "code",
   "execution_count": null,
   "id": "27812f94",
   "metadata": {
    "papermill": {
     "duration": null,
     "end_time": null,
     "exception": null,
     "start_time": null,
     "status": "pending"
    },
    "tags": []
   },
   "outputs": [],
   "source": [
    "data['Treated_with_drugs'].value_counts().plot.bar()\n",
    "plt.show()"
   ]
  },
  {
   "cell_type": "markdown",
   "id": "bae1918c",
   "metadata": {
    "papermill": {
     "duration": null,
     "end_time": null,
     "exception": null,
     "start_time": null,
     "status": "pending"
    },
    "tags": []
   },
   "source": [
    "More people are treated with the drugs[DX6, DX5, DX1, DX3, DX4] than with a combination of the drugs"
   ]
  },
  {
   "cell_type": "code",
   "execution_count": null,
   "id": "0db88cd5",
   "metadata": {
    "papermill": {
     "duration": null,
     "end_time": null,
     "exception": null,
     "start_time": null,
     "status": "pending"
    },
    "tags": []
   },
   "outputs": [],
   "source": [
    " # 'Number_of_prev_cond'  HAS A NEGATIVE RELATION WITH THE TARGET\n",
    "\n",
    "p = sn.catplot(x=\"Number_of_prev_cond\", y='Survived_1_year', hue=\"Patient_Rural_Urban\", kind=\"bar\", data=data, height=4, aspect=12/4)\n",
    "plt.title('Number_of_prev_cond related to Survived_1_year by Patient_Rural_Urba')\n",
    "plt.show()"
   ]
  },
  {
   "cell_type": "code",
   "execution_count": null,
   "id": "7036a381",
   "metadata": {
    "papermill": {
     "duration": null,
     "end_time": null,
     "exception": null,
     "start_time": null,
     "status": "pending"
    },
    "tags": []
   },
   "outputs": [],
   "source": [
    "#DISTRIBUTION OF THE VARIABLES\n",
    "p = sn.catplot(data = data,height=4, aspect=16/4)\n",
    "plt.title('Range (min-max) of data distribution within features')\n",
    "plt.show()"
   ]
  },
  {
   "cell_type": "code",
   "execution_count": null,
   "id": "66aa7116",
   "metadata": {
    "papermill": {
     "duration": null,
     "end_time": null,
     "exception": null,
     "start_time": null,
     "status": "pending"
    },
    "tags": []
   },
   "outputs": [],
   "source": [
    "#DISTRIBUTION OF THE VARIABLES WITH REDUCED COLUMNS\n",
    "p = sn.catplot(data = data_reduced,height=4, aspect=16/4)\n",
    "plt.title('Range (min-max) of data distribution within reduced features')\n",
    "plt.show()"
   ]
  },
  {
   "cell_type": "markdown",
   "id": "83bf83c1",
   "metadata": {
    "papermill": {
     "duration": null,
     "end_time": null,
     "exception": null,
     "start_time": null,
     "status": "pending"
    },
    "tags": []
   },
   "source": [
    "Notice from above that patient_age has the most outliers, which was not evident with the full features and \n",
    "Patient_body_mass_index has a skewed distribution"
   ]
  },
  {
   "cell_type": "code",
   "execution_count": null,
   "id": "43a54649",
   "metadata": {
    "papermill": {
     "duration": null,
     "end_time": null,
     "exception": null,
     "start_time": null,
     "status": "pending"
    },
    "tags": []
   },
   "outputs": [],
   "source": [
    "#PLOT OF THE DISTRIBUTION OF DATA IN FEATURES\n",
    "                                    \n",
    "data.hist(alpha=0.5, figsize=(9, 5), bins=10, facecolor='blue')\n",
    "plt.tight_layout()\n",
    "plt.show()"
   ]
  },
  {
   "cell_type": "markdown",
   "id": "400a2c25",
   "metadata": {
    "papermill": {
     "duration": null,
     "end_time": null,
     "exception": null,
     "start_time": null,
     "status": "pending"
    },
    "tags": []
   },
   "source": [
    "Notice that ID_Patient_Care_Situation', 'Diagnosed_Condition', 'Patient_ID', have very irregular distibution, which may pose a negative impact to the model"
   ]
  },
  {
   "cell_type": "code",
   "execution_count": null,
   "id": "caf5453c",
   "metadata": {
    "papermill": {
     "duration": null,
     "end_time": null,
     "exception": null,
     "start_time": null,
     "status": "pending"
    },
    "tags": []
   },
   "outputs": [],
   "source": [
    "# PLOT OF THE DISTRIBUTION OF DATA IN SELECTED FEATURES\n",
    "                                    \n",
    "data_reduced.hist(alpha=0.5, figsize=(8, 4), bins=10, facecolor='blue')\n",
    "plt.tight_layout()\n",
    "plt.show()"
   ]
  },
  {
   "cell_type": "markdown",
   "id": "7dc065f9",
   "metadata": {
    "papermill": {
     "duration": null,
     "end_time": null,
     "exception": null,
     "start_time": null,
     "status": "pending"
    },
    "tags": []
   },
   "source": [
    "Most of the features do not have guasian distribution (very skewed), but there are outliers"
   ]
  },
  {
   "cell_type": "code",
   "execution_count": null,
   "id": "ca5928d3",
   "metadata": {
    "papermill": {
     "duration": null,
     "end_time": null,
     "exception": null,
     "start_time": null,
     "status": "pending"
    },
    "tags": []
   },
   "outputs": [],
   "source": [
    "# BOXPLOT OF THE ACTUAL DATASET  UNDERSTAND THE ABOVE\n",
    "plt.figure(figsize=(18, 4))\n",
    "data.boxplot()\n",
    "plt.show()"
   ]
  },
  {
   "cell_type": "code",
   "execution_count": null,
   "id": "5f9290a1",
   "metadata": {
    "papermill": {
     "duration": null,
     "end_time": null,
     "exception": null,
     "start_time": null,
     "status": "pending"
    },
    "tags": []
   },
   "outputs": [],
   "source": [
    "#BOXPLOT OF THE DATASET WITH REDUCED COLUMNS\n",
    "plt.figure(figsize=(18, 4))\n",
    "data_reduced.boxplot()\n",
    "plt.show()"
   ]
  },
  {
   "cell_type": "markdown",
   "id": "afeb93f7",
   "metadata": {
    "papermill": {
     "duration": null,
     "end_time": null,
     "exception": null,
     "start_time": null,
     "status": "pending"
    },
    "tags": []
   },
   "source": [
    "See a clear distribution of the Patient_Body_Mass_index...Most of the lower values are outliers, but for Patient age,most of the higher values are outliers"
   ]
  },
  {
   "cell_type": "markdown",
   "id": "9223e1f6",
   "metadata": {
    "papermill": {
     "duration": null,
     "end_time": null,
     "exception": null,
     "start_time": null,
     "status": "pending"
    },
    "tags": []
   },
   "source": [
    "REDUCED FEATURES DATASET"
   ]
  },
  {
   "cell_type": "code",
   "execution_count": null,
   "id": "6d3ee6b3",
   "metadata": {
    "papermill": {
     "duration": null,
     "end_time": null,
     "exception": null,
     "start_time": null,
     "status": "pending"
    },
    "tags": []
   },
   "outputs": [],
   "source": [
    "#DEFINE X AND Y FOR THE REDUCED FEATURES FROM NUMBER 14 (OPTIONAL)\n",
    "y_reduced=data_reduced['Survived_1_year']\n",
    "y_reduced2 = LabelEncoder().fit_transform(y_reduced.astype('str'))\n",
    "x_reduced=data_reduced.drop('Survived_1_year',axis =1)"
   ]
  },
  {
   "cell_type": "code",
   "execution_count": null,
   "id": "20d91b50",
   "metadata": {
    "papermill": {
     "duration": null,
     "end_time": null,
     "exception": null,
     "start_time": null,
     "status": "pending"
    },
    "tags": []
   },
   "outputs": [],
   "source": [
    "#SCALE THE DATASET ON REDUCED FEATURES (STANDARD SCALER)\n",
    "Xrs=sc.fit_transform(x_reduced)\n",
    "Xrs=pd.DataFrame(data=Xrs, columns=list(set(col2)-set(['Survived_1_year'])))"
   ]
  },
  {
   "cell_type": "code",
   "execution_count": null,
   "id": "dc4714ba",
   "metadata": {
    "papermill": {
     "duration": null,
     "end_time": null,
     "exception": null,
     "start_time": null,
     "status": "pending"
    },
    "tags": []
   },
   "outputs": [],
   "source": [
    "#SCALE THE DATASET ON REDUCED FEATURES (ROBUST SCALER)\n",
    "Xrr=rs.fit_transform(x_reduced)\n",
    "Xrr=pd.DataFrame(data=Xrr, columns=list(set(col2)-set(['Survived_1_year'])))"
   ]
  },
  {
   "cell_type": "code",
   "execution_count": null,
   "id": "4f923e0e",
   "metadata": {
    "papermill": {
     "duration": null,
     "end_time": null,
     "exception": null,
     "start_time": null,
     "status": "pending"
    },
    "tags": []
   },
   "outputs": [],
   "source": [
    "#SCALE THE DATASET ON REDUCED FEATURES (mIN-MAX SCALER)\n",
    "Xrm=mm.fit_transform(x_reduced)\n",
    "Xrm=pd.DataFrame(data=Xrm, columns=list(set(col2)-set(['Survived_1_year'])))"
   ]
  },
  {
   "cell_type": "code",
   "execution_count": null,
   "id": "d376906c",
   "metadata": {
    "papermill": {
     "duration": null,
     "end_time": null,
     "exception": null,
     "start_time": null,
     "status": "pending"
    },
    "tags": []
   },
   "outputs": [],
   "source": [
    "plt.figure(figsize=(18, 4))\n",
    "Xrs.boxplot()\n",
    "plt.show()"
   ]
  },
  {
   "cell_type": "markdown",
   "id": "2f9d9fd3",
   "metadata": {
    "papermill": {
     "duration": null,
     "end_time": null,
     "exception": null,
     "start_time": null,
     "status": "pending"
    },
    "tags": []
   },
   "source": [
    "See the dataset has a more generally spread out distribution standardscaler, which is good fo skewed datasets"
   ]
  },
  {
   "cell_type": "code",
   "execution_count": null,
   "id": "094f602f",
   "metadata": {
    "papermill": {
     "duration": null,
     "end_time": null,
     "exception": null,
     "start_time": null,
     "status": "pending"
    },
    "tags": []
   },
   "outputs": [],
   "source": [
    "plt.figure(figsize=(18, 4))\n",
    "Xrr.boxplot()\n",
    "plt.show()"
   ]
  },
  {
   "cell_type": "markdown",
   "id": "9243ff3a",
   "metadata": {
    "papermill": {
     "duration": null,
     "end_time": null,
     "exception": null,
     "start_time": null,
     "status": "pending"
    },
    "tags": []
   },
   "source": [
    "The RobustScaler seems to scale the dataset better on reduced featrures although both scalers worked fine. However Robust scaler is good with outliers"
   ]
  },
  {
   "cell_type": "code",
   "execution_count": null,
   "id": "eb3cf320",
   "metadata": {
    "papermill": {
     "duration": null,
     "end_time": null,
     "exception": null,
     "start_time": null,
     "status": "pending"
    },
    "tags": []
   },
   "outputs": [],
   "source": [
    "plt.figure(figsize=(18, 4))\n",
    "Xrm.boxplot()\n",
    "plt.show()"
   ]
  },
  {
   "cell_type": "markdown",
   "id": "df0d509c",
   "metadata": {
    "papermill": {
     "duration": null,
     "end_time": null,
     "exception": null,
     "start_time": null,
     "status": "pending"
    },
    "tags": []
   },
   "source": [
    "The min-max didnt seem to perform well on scalling the reduced column dataset, but we will try with the reduced columns later"
   ]
  },
  {
   "cell_type": "markdown",
   "id": "fac083e8",
   "metadata": {
    "papermill": {
     "duration": null,
     "end_time": null,
     "exception": null,
     "start_time": null,
     "status": "pending"
    },
    "tags": []
   },
   "source": []
  },
  {
   "cell_type": "markdown",
   "id": "cdde162d",
   "metadata": {
    "papermill": {
     "duration": null,
     "end_time": null,
     "exception": null,
     "start_time": null,
     "status": "pending"
    },
    "tags": []
   },
   "source": [
    "COMPLETE FEATURES DATASET"
   ]
  },
  {
   "cell_type": "code",
   "execution_count": null,
   "id": "dfbd56da",
   "metadata": {
    "papermill": {
     "duration": null,
     "end_time": null,
     "exception": null,
     "start_time": null,
     "status": "pending"
    },
    "tags": []
   },
   "outputs": [],
   "source": [
    "# DEFINE X AND Y FOR THE COMPLETE FEATURES\n",
    "y=data['Survived_1_year'].values\n",
    "y = LabelEncoder().fit_transform(y.astype('str'))\n",
    "x=data.drop('Survived_1_year', axis =1)"
   ]
  },
  {
   "cell_type": "code",
   "execution_count": null,
   "id": "46adaf33",
   "metadata": {
    "papermill": {
     "duration": null,
     "end_time": null,
     "exception": null,
     "start_time": null,
     "status": "pending"
    },
    "tags": []
   },
   "outputs": [],
   "source": [
    "#SCALE THE DATASET ON (mIN-MAX SCALER)\n",
    "Xm=mm.fit_transform(x)\n",
    "Xm=pd.DataFrame(data=Xm, columns=list(set(cols)-set(['Survived_1_year'])))"
   ]
  },
  {
   "cell_type": "markdown",
   "id": "95c31c21",
   "metadata": {
    "papermill": {
     "duration": null,
     "end_time": null,
     "exception": null,
     "start_time": null,
     "status": "pending"
    },
    "tags": []
   },
   "source": [
    "PLOTTING BOX PLOT TO COMPARE SCALLERS FOR COMPLETE FEATURE DATASET"
   ]
  },
  {
   "cell_type": "code",
   "execution_count": null,
   "id": "ab09b655",
   "metadata": {
    "papermill": {
     "duration": null,
     "end_time": null,
     "exception": null,
     "start_time": null,
     "status": "pending"
    },
    "tags": []
   },
   "outputs": [],
   "source": [
    "plt.figure(figsize=(18, 4))\n",
    "Xm.boxplot()\n",
    "plt.show()"
   ]
  },
  {
   "cell_type": "code",
   "execution_count": null,
   "id": "8125a781",
   "metadata": {
    "papermill": {
     "duration": null,
     "end_time": null,
     "exception": null,
     "start_time": null,
     "status": "pending"
    },
    "tags": []
   },
   "outputs": [],
   "source": [
    "#SCALE THE DATASET ON (ROBUST SCALER)\n",
    "Xr = rs.fit_transform(x)\n",
    "Xr=pd.DataFrame(data=Xr, columns=list(set(cols)-set(['Survived_1_year'])))"
   ]
  },
  {
   "cell_type": "code",
   "execution_count": null,
   "id": "42a88e49",
   "metadata": {
    "papermill": {
     "duration": null,
     "end_time": null,
     "exception": null,
     "start_time": null,
     "status": "pending"
    },
    "tags": []
   },
   "outputs": [],
   "source": [
    "plt.figure(figsize=(18, 4))\n",
    "Xr.boxplot()\n",
    "plt.show()"
   ]
  },
  {
   "cell_type": "code",
   "execution_count": null,
   "id": "2e314f11",
   "metadata": {
    "papermill": {
     "duration": null,
     "end_time": null,
     "exception": null,
     "start_time": null,
     "status": "pending"
    },
    "tags": []
   },
   "outputs": [],
   "source": [
    "#SCALE THE DATASET ON (STANDARD SCALER)\n",
    "Xs= sc.fit_transform(x)\n",
    "Xs=pd.DataFrame(data=Xs, columns=list(set(cols)-set(['Survived_1_year'])))"
   ]
  },
  {
   "cell_type": "code",
   "execution_count": null,
   "id": "7a791ef0",
   "metadata": {
    "papermill": {
     "duration": null,
     "end_time": null,
     "exception": null,
     "start_time": null,
     "status": "pending"
    },
    "tags": []
   },
   "outputs": [],
   "source": [
    "plt.figure(figsize=(18, 4))\n",
    "Xs.boxplot()\n",
    "plt.show()"
   ]
  },
  {
   "cell_type": "markdown",
   "id": "b3ff0b12",
   "metadata": {
    "papermill": {
     "duration": null,
     "end_time": null,
     "exception": null,
     "start_time": null,
     "status": "pending"
    },
    "tags": []
   },
   "source": [
    "Obiviously as you can see from scaling the full features and the reduced features dataset, the min-max scaler is not good for this dataset."
   ]
  },
  {
   "cell_type": "markdown",
   "id": "847fef3f",
   "metadata": {
    "papermill": {
     "duration": null,
     "end_time": null,
     "exception": null,
     "start_time": null,
     "status": "pending"
    },
    "tags": []
   },
   "source": []
  },
  {
   "cell_type": "markdown",
   "id": "2f90b542",
   "metadata": {
    "papermill": {
     "duration": null,
     "end_time": null,
     "exception": null,
     "start_time": null,
     "status": "pending"
    },
    "tags": []
   },
   "source": [
    "SPLITTING"
   ]
  },
  {
   "cell_type": "code",
   "execution_count": null,
   "id": "a43f1609",
   "metadata": {
    "papermill": {
     "duration": null,
     "end_time": null,
     "exception": null,
     "start_time": null,
     "status": "pending"
    },
    "tags": []
   },
   "outputs": [],
   "source": [
    "# Splitting the dataset into Training set and Test set\n",
    "from sklearn.model_selection import train_test_split\n",
    "#Splitting full dataset\n",
    "Xf_train,Xf_test,yf_train,yf_test=train_test_split(x,y,test_size=0.3,random_state=0)#full unscaled\n",
    "\n",
    "Xm_train,Xm_test,ym_train,ym_test=train_test_split(Xm,y,test_size=0.3,random_state=0)\n",
    "Xr_train,Xr_test,yr_train,yr_test=train_test_split(Xr,y,test_size=0.3,random_state=0)\n",
    "Xs_train,Xs_test,ys_train,ys_test=train_test_split(Xs,y,test_size=0.3,random_state=0)\n",
    "\n",
    "#Splitting reduced column dataset\n",
    "Xrs_train,Xrs_test,yrs_train,yrs_test=train_test_split(Xrs,y_reduced2,test_size=0.3,random_state=0)\n",
    "Xrr_train,Xrr_test,yrr_train,yrr_test=train_test_split(Xrr,y_reduced2,test_size=0.3,random_state=0)\n",
    "Xrm_train,Xrm_test,yrm_train,yrm_test=train_test_split(Xrm,y_reduced2,test_size=0.3,random_state=0)"
   ]
  },
  {
   "cell_type": "markdown",
   "id": "ff719889",
   "metadata": {
    "papermill": {
     "duration": null,
     "end_time": null,
     "exception": null,
     "start_time": null,
     "status": "pending"
    },
    "tags": []
   },
   "source": []
  },
  {
   "cell_type": "markdown",
   "id": "2c1c55e3",
   "metadata": {
    "papermill": {
     "duration": null,
     "end_time": null,
     "exception": null,
     "start_time": null,
     "status": "pending"
    },
    "tags": []
   },
   "source": [
    "CROSSING CHECKING SELECTED COLUMNS BEFORE MODELING CONTINUES"
   ]
  },
  {
   "cell_type": "code",
   "execution_count": null,
   "id": "30048baa",
   "metadata": {
    "papermill": {
     "duration": null,
     "end_time": null,
     "exception": null,
     "start_time": null,
     "status": "pending"
    },
    "tags": []
   },
   "outputs": [],
   "source": [
    "# SELECTING FEATURES WITH SKLEARN SELECTOR\n",
    "clf_lr = LogisticRegression(random_state = 1)\n",
    "from sklearn.feature_selection import RFE \n",
    "rfe = RFE(estimator= clf_lr , step = 1)\n",
    "fit = rfe.fit(Xs, y)\n",
    "\n",
    "print(\"Num Features: %d\" % fit.n_features_)\n",
    "print(\"Selected Features: %s\" % fit.support_)\n",
    "print(\"Feature Ranking: %s\" % fit.ranking_)"
   ]
  },
  {
   "cell_type": "code",
   "execution_count": null,
   "id": "3daaa4a4",
   "metadata": {
    "papermill": {
     "duration": null,
     "end_time": null,
     "exception": null,
     "start_time": null,
     "status": "pending"
    },
    "tags": []
   },
   "outputs": [],
   "source": [
    "#COLUMNS WE SELECTED\n",
    "['Treated_with_drugs','Patient_Age','Patient_Body_Mass_Index','Patient_Smoker','Patient_Rural_Urban','D','Number_of_prev_cond','Survived_1_year']\n",
    "\n",
    "#COLUMNS SELECTED BY RFE ON STANDARDSCALER\n",
    "xt=data.iloc[:2, [3, 5, 6, 7, 9, 10, 12, 15]]\n",
    "Xsfe=data[xt.columns]\n",
    "['Treated_with_drugs','Patient_Body_Mass_Index','Patient_Smoker','Patient_Rural_Urban', 'A', 'B', 'D', 'Z']"
   ]
  },
  {
   "cell_type": "code",
   "execution_count": null,
   "id": "4891812e",
   "metadata": {
    "papermill": {
     "duration": null,
     "end_time": null,
     "exception": null,
     "start_time": null,
     "status": "pending"
    },
    "tags": []
   },
   "outputs": [],
   "source": [
    "from sklearn.discriminant_analysis import LinearDiscriminantAnalysis as LDA\n",
    "lda = LDA(n_components=1)\n",
    "Xlda=lda.fit_transform(Xs, y)\n",
    "\n",
    "#COLUMNS SELECTED BY LDA ON SC\n",
    "#Xlda"
   ]
  },
  {
   "cell_type": "code",
   "execution_count": null,
   "id": "f5db6281",
   "metadata": {
    "papermill": {
     "duration": null,
     "end_time": null,
     "exception": null,
     "start_time": null,
     "status": "pending"
    },
    "tags": []
   },
   "outputs": [],
   "source": [
    "rf_clf = RandomForestClassifier(n_estimators=10000, random_state=1, n_jobs=-1)\n",
    "rf_clf.fit(Xs, y)\n",
    "\n",
    "#plot graph of feature importances for better visualization\n",
    "feat_importances = pd.Series(rf_clf.feature_importances_, index=Xs.columns)\n",
    "feat_importances.nlargest(10).plot(kind='barh')\n",
    "plt.show()"
   ]
  },
  {
   "cell_type": "code",
   "execution_count": null,
   "id": "4dadf7b6",
   "metadata": {
    "papermill": {
     "duration": null,
     "end_time": null,
     "exception": null,
     "start_time": null,
     "status": "pending"
    },
    "tags": []
   },
   "outputs": [],
   "source": [
    "#COLUMNS SELECTED BY RANDOM FOREST\n",
    "c=['Diagnosed_Condition','Patient_Rural_Urban','Treated_with_drugs','Patient_ID','Z','C','A','Patient_Smoker']\n",
    "xz=data.loc[:, c]\n",
    "Xz=data[xz.columns]"
   ]
  },
  {
   "cell_type": "code",
   "execution_count": null,
   "id": "5b2497db",
   "metadata": {
    "papermill": {
     "duration": null,
     "end_time": null,
     "exception": null,
     "start_time": null,
     "status": "pending"
    },
    "tags": []
   },
   "outputs": [],
   "source": [
    "from xgboost import plot_importance\n",
    "xgb_model = XGBClassifier(random_state = 0, use_label_encoder=False, eval_metric='logloss')\n",
    "xgb_model.fit(Xs, y)\n",
    "#print(\"Feature Importances : \", xgb_model.feature_importances_)\n",
    "# plot feature importance\n",
    "plot_importance(xgb_model)\n",
    "plt.show()"
   ]
  },
  {
   "cell_type": "code",
   "execution_count": null,
   "id": "953aa784",
   "metadata": {
    "papermill": {
     "duration": null,
     "end_time": null,
     "exception": null,
     "start_time": null,
     "status": "pending"
    },
    "tags": []
   },
   "outputs": [],
   "source": [
    "#COLUMNS SELECTED BY XGBOOST\n",
    "d=['Diagnosed_Condition','Treated_with_drugs','Patient_Rural_Urban','Patient_ID','Z','C','A','Patient_Smoker']\n",
    "Xgb=data.loc[:, d]\n",
    "Xgb=data[Xgb.columns]"
   ]
  },
  {
   "cell_type": "code",
   "execution_count": null,
   "id": "c20f7d72",
   "metadata": {
    "papermill": {
     "duration": null,
     "end_time": null,
     "exception": null,
     "start_time": null,
     "status": "pending"
    },
    "tags": []
   },
   "outputs": [],
   "source": [
    "#Splitting reduced column dataset from other selection models\n",
    "Xrfe_train,Xrfe_test,yrfe_train,yrfe_test=train_test_split(Xsfe,y,test_size=0.3,random_state=0)#RFE\n",
    "Xlda_train,Xlda_test,ylda_train,ylda_test=train_test_split(Xlda,y,test_size=0.3,random_state=0)#LDA\n",
    "Xzf_train,Xzf_test,yzf_train,yzf_test=train_test_split(Xz,y,test_size=0.3,random_state=0)#RF\n",
    "Xgb_train,Xgb_test,ygb_train,ygb_test=train_test_split(Xgb,y,test_size=0.3,random_state=0)#XGB"
   ]
  },
  {
   "cell_type": "markdown",
   "id": "353259be",
   "metadata": {
    "papermill": {
     "duration": null,
     "end_time": null,
     "exception": null,
     "start_time": null,
     "status": "pending"
    },
    "tags": []
   },
   "source": []
  },
  {
   "cell_type": "markdown",
   "id": "315f83fe",
   "metadata": {
    "papermill": {
     "duration": null,
     "end_time": null,
     "exception": null,
     "start_time": null,
     "status": "pending"
    },
    "tags": []
   },
   "source": [
    "RUNNING THE MODELS"
   ]
  },
  {
   "cell_type": "markdown",
   "id": "47865ced",
   "metadata": {
    "papermill": {
     "duration": null,
     "end_time": null,
     "exception": null,
     "start_time": null,
     "status": "pending"
    },
    "tags": []
   },
   "source": [
    "#HYPERPARAMETERS FOR ALL MODELS\n",
    "\n",
    "classifiers=[LogisticRegression(C=1, penalty='l2'), BernoulliNB(alpha=5), \n",
    "GradientBoostingClassifier(n_estimators=5, learning_rate=0.05, max_depth=4, random_state=0), SVC(C=1.0, gamma =0.7, kernel='rbf'),\n",
    "   DecisionTreeClassifier(criterion='entropy',max_depth=3,max_features='log2', min_samples_leaf =3, min_samples_split=10, random_state=0), \n",
    "   MLPClassifier(hidden_layer_sizes= (10,), activation= 'relu', solver='adam', alpha=0.001,learning_rate= 'constant'),\n",
    "    KNeighborsClassifier(leaf_size=10, p=1, n_neighbors=5), RandomForestClassifier(criterion='entropy',max_depth=2,max_features='log2',\n",
    "    min_samples_leaf=3,min_samples_split=8, n_estimators=5,n_jobs=1, random_state=0)]"
   ]
  },
  {
   "cell_type": "markdown",
   "id": "39531286",
   "metadata": {
    "papermill": {
     "duration": null,
     "end_time": null,
     "exception": null,
     "start_time": null,
     "status": "pending"
    },
    "tags": []
   },
   "source": []
  },
  {
   "cell_type": "code",
   "execution_count": null,
   "id": "14512ef4",
   "metadata": {
    "papermill": {
     "duration": null,
     "end_time": null,
     "exception": null,
     "start_time": null,
     "status": "pending"
    },
    "tags": []
   },
   "outputs": [],
   "source": [
    "#START WITH THE BASELINE MODELS (TESTING 10 MODELS)\n",
    "classifiers=[GradientBoostingClassifier(random_state = 0),XGBClassifier(random_state = 0, use_label_encoder=False, eval_metric='logloss'),\n",
    "CatBoostClassifier(random_state = 0), LogisticRegression(random_state = 0), BernoulliNB(),  SVC(random_state = 0), \n",
    "DecisionTreeClassifier(random_state = 0),MLPClassifier(random_state = 0), KNeighborsClassifier(), RandomForestClassifier(random_state = 0)]"
   ]
  },
  {
   "cell_type": "code",
   "execution_count": null,
   "id": "22acbcf3",
   "metadata": {
    "papermill": {
     "duration": null,
     "end_time": null,
     "exception": null,
     "start_time": null,
     "status": "pending"
    },
    "tags": []
   },
   "outputs": [],
   "source": [
    "model_lisdt=[]\n",
    "def squared_error(actual, pred):\n",
    "    return (pred - actual) ** 2\n",
    "\n",
    "\n",
    "def evaluate(actual, pred):\n",
    "    if actual==pred:\n",
    "        return 1\n",
    "    else:\n",
    "        return 0\n",
    "\n",
    "def modeld(classifiers, X_train, y_train, X_test, y_test):    \n",
    "    for classers in classifiers:\n",
    "        \n",
    "        t1=time.time()\n",
    "        classify=classers\n",
    "        classify = classify.fit(X_train, y_train)\n",
    "        model_lisdt.append(classify)\n",
    "        time_taken = time.time() - t1\n",
    "        \n",
    "        predicted=classify.predict(X_test)\n",
    "        error=0\n",
    "        predict=0\n",
    "        \n",
    "        for i in range(len(X_test)):\n",
    "            error+=squared_error(y_test[i],predicted[i])\n",
    "            \n",
    "            predict+=evaluate(y_test[i],predicted[i])\n",
    "            \n",
    "        Mse=error/len(X_test)\n",
    "        \n",
    "        conf_mat=confusion_matrix(y_test, predicted)\n",
    "    \n",
    "        st=str(classers)\n",
    "        print(' \\n ############## {} ################'.format(st))\n",
    "        print(\" Duration =:\\t {}\".format(time_taken))   \n",
    "        print(\" Mean squared Error \\t {}\".format(Mse))\n",
    "        print(\" Accuracy =: \\t {:0.2f} %\".format(accuracy_score(y_test, predicted)))\n",
    "        print(\" F_Score =: \\t {:0.2f} %\".format(f1_score(y_test, predicted)))\n",
    "        print(\" Precision =: \\t {:0.2f} %\".format(precision_score(y_test, predicted)))\n",
    "        print(\" Recall =: \\t {:0.2f} %\".format(recall_score(y_test, predicted)))\n",
    "        print(conf_mat)\n",
    "    return(model_lisdt)"
   ]
  },
  {
   "cell_type": "markdown",
   "id": "0d38da58",
   "metadata": {
    "papermill": {
     "duration": null,
     "end_time": null,
     "exception": null,
     "start_time": null,
     "status": "pending"
    },
    "tags": []
   },
   "source": []
  },
  {
   "cell_type": "markdown",
   "id": "b5a4e7ca",
   "metadata": {
    "papermill": {
     "duration": null,
     "end_time": null,
     "exception": null,
     "start_time": null,
     "status": "pending"
    },
    "tags": []
   },
   "source": [
    "RUN ALL MODELS ON COMPLETE COLUMNS (USING ALL THE FEATURES)"
   ]
  },
  {
   "cell_type": "code",
   "execution_count": null,
   "id": "a63983d2",
   "metadata": {
    "papermill": {
     "duration": null,
     "end_time": null,
     "exception": null,
     "start_time": null,
     "status": "pending"
    },
    "tags": []
   },
   "outputs": [],
   "source": [
    "#unscaled_full=modeld(classifiers, Xf_train,yf_train, Xf_test,yf_test)"
   ]
  },
  {
   "cell_type": "code",
   "execution_count": null,
   "id": "468f2303",
   "metadata": {
    "papermill": {
     "duration": null,
     "end_time": null,
     "exception": null,
     "start_time": null,
     "status": "pending"
    },
    "tags": []
   },
   "outputs": [],
   "source": [
    "#normalise_full= modeld(classifiers, Xm_train,ym_train, Xm_test,ym_test)"
   ]
  },
  {
   "cell_type": "code",
   "execution_count": null,
   "id": "3ac9cbaa",
   "metadata": {
    "papermill": {
     "duration": null,
     "end_time": null,
     "exception": null,
     "start_time": null,
     "status": "pending"
    },
    "tags": []
   },
   "outputs": [],
   "source": [
    "#robustscaled_full= modeld(classifiers, Xr_train,yr_train,Xr_test,yr_test)"
   ]
  },
  {
   "cell_type": "code",
   "execution_count": null,
   "id": "d773748c",
   "metadata": {
    "papermill": {
     "duration": null,
     "end_time": null,
     "exception": null,
     "start_time": null,
     "status": "pending"
    },
    "tags": []
   },
   "outputs": [],
   "source": [
    "standarsised_full=modeld(classifiers, Xs_train,ys_train,Xs_test,ys_test)"
   ]
  },
  {
   "cell_type": "markdown",
   "id": "fb5470af",
   "metadata": {
    "papermill": {
     "duration": null,
     "end_time": null,
     "exception": null,
     "start_time": null,
     "status": "pending"
    },
    "tags": []
   },
   "source": [
    "RUN ALL MODELS ON DATASET USED REDUCED FEATURES"
   ]
  },
  {
   "cell_type": "code",
   "execution_count": null,
   "id": "55be3867",
   "metadata": {
    "papermill": {
     "duration": null,
     "end_time": null,
     "exception": null,
     "start_time": null,
     "status": "pending"
    },
    "tags": []
   },
   "outputs": [],
   "source": [
    "#normalise_reduced= modeld(classifiers, Xrm_train,yrm_train,Xrm_test,yrm_test)"
   ]
  },
  {
   "cell_type": "code",
   "execution_count": null,
   "id": "ffc002b7",
   "metadata": {
    "papermill": {
     "duration": null,
     "end_time": null,
     "exception": null,
     "start_time": null,
     "status": "pending"
    },
    "tags": []
   },
   "outputs": [],
   "source": [
    "#robustscaled_reduced= modeld(classifiers, Xrr_train,yrr_train,Xrr_test,yrr_test)"
   ]
  },
  {
   "cell_type": "code",
   "execution_count": null,
   "id": "ae2add65",
   "metadata": {
    "papermill": {
     "duration": null,
     "end_time": null,
     "exception": null,
     "start_time": null,
     "status": "pending"
    },
    "tags": []
   },
   "outputs": [],
   "source": [
    "#standarsised_reduced=modeld(classifiers, Xrs_train,yrs_train,Xrs_test,yrs_test)"
   ]
  },
  {
   "cell_type": "markdown",
   "id": "59bcf626",
   "metadata": {
    "papermill": {
     "duration": null,
     "end_time": null,
     "exception": null,
     "start_time": null,
     "status": "pending"
    },
    "tags": []
   },
   "source": [
    "RUN ALL THE MODELS ON DATASET USING AUTO SELECTED COLUMS"
   ]
  },
  {
   "cell_type": "code",
   "execution_count": null,
   "id": "794eaa6a",
   "metadata": {
    "papermill": {
     "duration": null,
     "end_time": null,
     "exception": null,
     "start_time": null,
     "status": "pending"
    },
    "tags": []
   },
   "outputs": [],
   "source": [
    "#standarsised_rfe=modeld(classifiers, Xrfe_train,yrfe_train,Xrfe_test,yrfe_test)#RFE REDUCED"
   ]
  },
  {
   "cell_type": "code",
   "execution_count": null,
   "id": "46ba19f9",
   "metadata": {
    "papermill": {
     "duration": null,
     "end_time": null,
     "exception": null,
     "start_time": null,
     "status": "pending"
    },
    "tags": []
   },
   "outputs": [],
   "source": [
    "#standarsised_lda=modeld(classifiers, Xlda_train,ylda_train,Xlda_test,ylda_test)#LDA REDUCED"
   ]
  },
  {
   "cell_type": "code",
   "execution_count": null,
   "id": "9c6665c9",
   "metadata": {
    "papermill": {
     "duration": null,
     "end_time": null,
     "exception": null,
     "start_time": null,
     "status": "pending"
    },
    "tags": []
   },
   "outputs": [],
   "source": [
    "#standarsised_rf=modeld(classifiers, Xzf_train,yzf_train,Xzf_test,yzf_test)#RANDOMFOREST REDUCED"
   ]
  },
  {
   "cell_type": "code",
   "execution_count": null,
   "id": "98303979",
   "metadata": {
    "papermill": {
     "duration": null,
     "end_time": null,
     "exception": null,
     "start_time": null,
     "status": "pending"
    },
    "tags": []
   },
   "outputs": [],
   "source": [
    "#standarsised_xgb=modeld(classifiers, Xgb_train,ygb_train,Xgb_test,ygb_test)#XGBOOST REDUCED"
   ]
  },
  {
   "cell_type": "markdown",
   "id": "d8f447bf",
   "metadata": {
    "papermill": {
     "duration": null,
     "end_time": null,
     "exception": null,
     "start_time": null,
     "status": "pending"
    },
    "tags": []
   },
   "source": []
  },
  {
   "cell_type": "markdown",
   "id": "326114c4",
   "metadata": {
    "papermill": {
     "duration": null,
     "end_time": null,
     "exception": null,
     "start_time": null,
     "status": "pending"
    },
    "tags": []
   },
   "source": [
    "EVALUATING GIVEN TEST DATASET"
   ]
  },
  {
   "cell_type": "markdown",
   "id": "61aebab1",
   "metadata": {
    "papermill": {
     "duration": null,
     "end_time": null,
     "exception": null,
     "start_time": null,
     "status": "pending"
    },
    "tags": []
   },
   "source": [
    "**After testing all the different aspect of the dataset on different scalers, this three classifier performed the best.\n",
    "GradientBoostingClassifier(),XGBClassifier(), and CatBoostClassifier()\n",
    "\n",
    "**for all the classifiers and scalers, CatBoostClassifier() was the best\n",
    "\n",
    "**Also, using the full features showed a better performance than any form of data reduction we carried out.\n",
    "\n",
    "**The standard scaler performed the best while the min-max scaler was very poor in all data aspect.\n",
    "\n",
    "**Our reduced features performed better than all other sklearn supported feature selectors\n",
    "\n",
    "**So we select the full feature standardised dataset aspect.\n",
    "\n",
    "**Next, below, we checked the logloss for the three best performing classifiers, and , CatBoostClassifier() was still the best, so we select the classifier."
   ]
  },
  {
   "cell_type": "markdown",
   "id": "c6565918",
   "metadata": {
    "papermill": {
     "duration": null,
     "end_time": null,
     "exception": null,
     "start_time": null,
     "status": "pending"
    },
    "tags": []
   },
   "source": []
  },
  {
   "cell_type": "code",
   "execution_count": null,
   "id": "40f75b5c",
   "metadata": {
    "papermill": {
     "duration": null,
     "end_time": null,
     "exception": null,
     "start_time": null,
     "status": "pending"
    },
    "tags": []
   },
   "outputs": [],
   "source": [
    "from sklearn.metrics import log_loss"
   ]
  },
  {
   "cell_type": "code",
   "execution_count": null,
   "id": "6a0b6459",
   "metadata": {
    "papermill": {
     "duration": null,
     "end_time": null,
     "exception": null,
     "start_time": null,
     "status": "pending"
    },
    "tags": []
   },
   "outputs": [],
   "source": [
    "models=model_lisdt[2]\n",
    "pre=models.predict(Xs_test)\n",
    "ll = log_loss(ys_test, pre)\n",
    "ll"
   ]
  },
  {
   "cell_type": "code",
   "execution_count": null,
   "id": "980e30e4",
   "metadata": {
    "papermill": {
     "duration": null,
     "end_time": null,
     "exception": null,
     "start_time": null,
     "status": "pending"
    },
    "tags": []
   },
   "outputs": [],
   "source": [
    "models2=model_lisdt[1]\n",
    "pr=models2.predict(Xs_test)\n",
    "ll1 = log_loss(ys_test, pr)\n",
    "ll1"
   ]
  },
  {
   "cell_type": "code",
   "execution_count": null,
   "id": "5ef4160f",
   "metadata": {
    "papermill": {
     "duration": null,
     "end_time": null,
     "exception": null,
     "start_time": null,
     "status": "pending"
    },
    "tags": []
   },
   "outputs": [],
   "source": [
    "models3=model_lisdt[0]\n",
    "pred=models3.predict(Xs_test)\n",
    "ll2 = log_loss(ys_test, pred)\n",
    "ll2"
   ]
  },
  {
   "cell_type": "code",
   "execution_count": null,
   "id": "1873c897",
   "metadata": {
    "papermill": {
     "duration": null,
     "end_time": null,
     "exception": null,
     "start_time": null,
     "status": "pending"
    },
    "tags": []
   },
   "outputs": [],
   "source": [
    "models.feature_importances_\n",
    "feat_importances = pd.Series(models.feature_importances_, index=Xs.columns)\n",
    "feat_importances.nlargest(10).plot(kind='barh')\n",
    "plt.show()"
   ]
  },
  {
   "cell_type": "markdown",
   "id": "39dbd84e",
   "metadata": {
    "papermill": {
     "duration": null,
     "end_time": null,
     "exception": null,
     "start_time": null,
     "status": "pending"
    },
    "tags": []
   },
   "source": []
  },
  {
   "cell_type": "markdown",
   "id": "58238e1e",
   "metadata": {
    "papermill": {
     "duration": null,
     "end_time": null,
     "exception": null,
     "start_time": null,
     "status": "pending"
    },
    "tags": []
   },
   "source": [
    "                        ##OPTIMIZATION\n",
    "                        \n",
    "                        F1_scaore before optimization=87.0"
   ]
  },
  {
   "cell_type": "code",
   "execution_count": null,
   "id": "7035da90",
   "metadata": {
    "papermill": {
     "duration": null,
     "end_time": null,
     "exception": null,
     "start_time": null,
     "status": "pending"
    },
    "tags": []
   },
   "outputs": [],
   "source": [
    "from sklearn.metrics import f1_score\n",
    "def fisc(models, xtest, ytest):    \n",
    "    preds=models.predict(xtest)\n",
    "    f1=f1_score(ytest, preds)\n",
    "    return(f1)"
   ]
  },
  {
   "cell_type": "code",
   "execution_count": null,
   "id": "22d8513f",
   "metadata": {
    "papermill": {
     "duration": null,
     "end_time": null,
     "exception": null,
     "start_time": null,
     "status": "pending"
    },
    "tags": []
   },
   "outputs": [],
   "source": [
    "from sklearn.model_selection import RepeatedStratifiedKFold\n",
    "cvs = RepeatedStratifiedKFold(n_splits=10, n_repeats=3, random_state=1)"
   ]
  },
  {
   "cell_type": "markdown",
   "id": "3a25479c",
   "metadata": {
    "papermill": {
     "duration": null,
     "end_time": null,
     "exception": null,
     "start_time": null,
     "status": "pending"
    },
    "tags": []
   },
   "source": [
    "FIRST\n",
    "Let's prepare a dataset that can use the the catboost ability without much encoding"
   ]
  },
  {
   "cell_type": "code",
   "execution_count": null,
   "id": "b7eb8a6a",
   "metadata": {
    "papermill": {
     "duration": null,
     "end_time": null,
     "exception": null,
     "start_time": null,
     "status": "pending"
    },
    "tags": []
   },
   "outputs": [],
   "source": [
    "ndata=pharma_data\n",
    "ndata.head(2)"
   ]
  },
  {
   "cell_type": "code",
   "execution_count": null,
   "id": "83256dd5",
   "metadata": {
    "papermill": {
     "duration": null,
     "end_time": null,
     "exception": null,
     "start_time": null,
     "status": "pending"
    },
    "tags": []
   },
   "outputs": [],
   "source": [
    "ndata.loc[:,number_cols]=ndata.loc[:,number_cols].fillna(ndata.loc[:,number_cols].mean())"
   ]
  },
  {
   "cell_type": "code",
   "execution_count": null,
   "id": "7cbfa70e",
   "metadata": {
    "papermill": {
     "duration": null,
     "end_time": null,
     "exception": null,
     "start_time": null,
     "status": "pending"
    },
    "tags": []
   },
   "outputs": [],
   "source": [
    "ndata[cat_cols]=ndata[cat_cols].ffill()\n",
    "ndata.head(2)"
   ]
  },
  {
   "cell_type": "code",
   "execution_count": null,
   "id": "20a648ec",
   "metadata": {
    "papermill": {
     "duration": null,
     "end_time": null,
     "exception": null,
     "start_time": null,
     "status": "pending"
    },
    "tags": []
   },
   "outputs": [],
   "source": [
    "#ndata.isnull().sum()"
   ]
  },
  {
   "cell_type": "code",
   "execution_count": null,
   "id": "d4298a70",
   "metadata": {
    "papermill": {
     "duration": null,
     "end_time": null,
     "exception": null,
     "start_time": null,
     "status": "pending"
    },
    "tags": []
   },
   "outputs": [],
   "source": [
    "ndata[number_cols]=sc.fit_transform(ndata[number_cols])\n",
    "ny=ndata['Survived_1_year']\n",
    "nx=ndata.drop('Survived_1_year', axis=1)"
   ]
  },
  {
   "cell_type": "markdown",
   "id": "89daeae3",
   "metadata": {
    "papermill": {
     "duration": null,
     "end_time": null,
     "exception": null,
     "start_time": null,
     "status": "pending"
    },
    "tags": []
   },
   "source": []
  },
  {
   "cell_type": "markdown",
   "id": "2e74f5a1",
   "metadata": {
    "papermill": {
     "duration": null,
     "end_time": null,
     "exception": null,
     "start_time": null,
     "status": "pending"
    },
    "tags": []
   },
   "source": [
    "SECOND\n",
    "LETS PREPARE THE DATA SET USING BY ENCODING THE CATEGORICAL COLUMNS WITH \n",
    "A DIFFERENT ENCODING SCHEME FROM THE ONE WE USED FOR ALL THE OTHER MODELS"
   ]
  },
  {
   "cell_type": "code",
   "execution_count": null,
   "id": "bb5f9566",
   "metadata": {
    "papermill": {
     "duration": null,
     "end_time": null,
     "exception": null,
     "start_time": null,
     "status": "pending"
    },
    "tags": []
   },
   "outputs": [],
   "source": [
    "import category_encoders as ce\n",
    "cdata=pharma_data\n",
    "cdata.loc[:,number_cols]=cdata.loc[:,number_cols].fillna(cdata.loc[:,number_cols].mean())\n",
    "cdata[cat_cols]=cdata[cat_cols].ffill()"
   ]
  },
  {
   "cell_type": "code",
   "execution_count": null,
   "id": "6efd4f98",
   "metadata": {
    "papermill": {
     "duration": null,
     "end_time": null,
     "exception": null,
     "start_time": null,
     "status": "pending"
    },
    "tags": []
   },
   "outputs": [],
   "source": [
    "cdata.head(3)"
   ]
  },
  {
   "cell_type": "code",
   "execution_count": null,
   "id": "65fb8834",
   "metadata": {
    "papermill": {
     "duration": null,
     "end_time": null,
     "exception": null,
     "start_time": null,
     "status": "pending"
    },
    "tags": []
   },
   "outputs": [],
   "source": [
    "#cdata.isnull().sum()"
   ]
  },
  {
   "cell_type": "code",
   "execution_count": null,
   "id": "43bf7a1a",
   "metadata": {
    "papermill": {
     "duration": null,
     "end_time": null,
     "exception": null,
     "start_time": null,
     "status": "pending"
    },
    "tags": []
   },
   "outputs": [],
   "source": [
    "import category_encoders as ce\n",
    "enc= ce.OrdinalEncoder(cols=cat_cols)\n",
    "cdata[cat_cols]=enc.fit_transform(cdata[cat_cols])"
   ]
  },
  {
   "cell_type": "code",
   "execution_count": null,
   "id": "0681d0db",
   "metadata": {
    "papermill": {
     "duration": null,
     "end_time": null,
     "exception": null,
     "start_time": null,
     "status": "pending"
    },
    "tags": []
   },
   "outputs": [],
   "source": [
    "cdata['Treated_with_drugs']=cdata['Treated_with_drugs'].ffill()"
   ]
  },
  {
   "cell_type": "code",
   "execution_count": null,
   "id": "a5660a02",
   "metadata": {
    "papermill": {
     "duration": null,
     "end_time": null,
     "exception": null,
     "start_time": null,
     "status": "pending"
    },
    "tags": []
   },
   "outputs": [],
   "source": [
    "ency=cdata['Survived_1_year']\n",
    "encx=cdata.drop('Survived_1_year', axis=1)"
   ]
  },
  {
   "cell_type": "code",
   "execution_count": null,
   "id": "8d518f8a",
   "metadata": {
    "papermill": {
     "duration": null,
     "end_time": null,
     "exception": null,
     "start_time": null,
     "status": "pending"
    },
    "tags": []
   },
   "outputs": [],
   "source": [
    "#                                SPLITTING THE NEW DATASETS\n",
    "Xenc_train,Xenc_test,yenc_train,yenc_test=train_test_split(encx,ency,test_size=0.3,random_state=0)\n",
    "Xcat_train,Xcat_test,ycat_train,ycat_test=train_test_split(nx,ny,test_size=0.3,random_state=0)"
   ]
  },
  {
   "cell_type": "markdown",
   "id": "cf2cf531",
   "metadata": {
    "papermill": {
     "duration": null,
     "end_time": null,
     "exception": null,
     "start_time": null,
     "status": "pending"
    },
    "tags": []
   },
   "source": []
  },
  {
   "cell_type": "markdown",
   "id": "0a38ce68",
   "metadata": {
    "papermill": {
     "duration": null,
     "end_time": null,
     "exception": null,
     "start_time": null,
     "status": "pending"
    },
    "tags": []
   },
   "source": [
    "                                SEARCHING BEST MODEL"
   ]
  },
  {
   "cell_type": "code",
   "execution_count": null,
   "id": "46e6666b",
   "metadata": {
    "papermill": {
     "duration": null,
     "end_time": null,
     "exception": null,
     "start_time": null,
     "status": "pending"
    },
    "tags": []
   },
   "outputs": [],
   "source": [
    "from sklearn.model_selection import GridSearchCV\n",
    "from sklearn.model_selection import RandomizedSearchCV\n",
    "\n",
    "def grid_search(Xs_train,ys_train, Xs_test,ys_test):\n",
    "        f=fisc(models, Xs_test,ys_test)\n",
    "        print ('INITIAL F1-SCORE=: \\t\\t {:0.2f}, for {}'.format(f, str(models)))\n",
    "\n",
    "        print('################## AFTER OPTIMIZATION#######################')\n",
    "        grid = {'iterations': [500],\n",
    "                'learning_rate': [0.03, 0.1, 0.5],\n",
    "                'depth': [4, 6, 10, 12],\n",
    "                'l2_leaf_reg': [1, 3, 5, 7, 9],\n",
    "                }\n",
    "\n",
    "        m=CatBoostClassifier(random_state = 0)        \n",
    "        best_model = m.randomized_search(X=Xs_train,y=ys_train, param_distributions=grid,verbose=100, plot=True)     \n",
    "        #best_model= RandomizedSearchCV(m, grid, scoring='accuracy', cv =cvs) \n",
    "        #GridSearchCV(clf, param_grid, cv=cv, scoring='accuracy', verbose=10) \n",
    "        return(best_model) \n",
    "\n",
    "best_model=grid_search(Xs_train,ys_train, Xs_test,ys_test)\n",
    "#best_model2=grid_search(Xcat_train, ycat_train, Xcat_test, ycat_test)\n",
    "#best_model3=grid_search(Xenc_train, yenc_train, Xenc_test,yenc_test)"
   ]
  },
  {
   "cell_type": "code",
   "execution_count": null,
   "id": "055a9059",
   "metadata": {
    "papermill": {
     "duration": null,
     "end_time": null,
     "exception": null,
     "start_time": null,
     "status": "pending"
    },
    "tags": []
   },
   "outputs": [],
   "source": [
    "b=best_model['params']\n",
    "b"
   ]
  },
  {
   "cell_type": "code",
   "execution_count": null,
   "id": "6128aebd",
   "metadata": {
    "papermill": {
     "duration": null,
     "end_time": null,
     "exception": null,
     "start_time": null,
     "status": "pending"
    },
    "tags": []
   },
   "outputs": [],
   "source": [
    "#{'depth': 4, 'l2_leaf_reg': 1, 'iterations': 1000, 'learning_rate': 0.5} using category encoding\n",
    "#{'depth': 6, 'l2_leaf_reg': 3, 'iterations': 1000, 'learning_rate': 0.03}using category encoding\n",
    "#{'depth': 6, 'l2_leaf_reg': 3, 'iterations': 500, 'learning_rate': 0.1}# original dataset\n",
    "clf=CatBoostClassifier(iterations=203, \n",
    "                        learning_rate=0.1,\n",
    "                        depth=6,\n",
    "                        l2_leaf_reg=3,\n",
    "                        eval_metric='F1')"
   ]
  },
  {
   "cell_type": "code",
   "execution_count": null,
   "id": "71b69c59",
   "metadata": {
    "papermill": {
     "duration": null,
     "end_time": null,
     "exception": null,
     "start_time": null,
     "status": "pending"
    },
    "tags": []
   },
   "outputs": [],
   "source": [
    "def evaluate(clf,Xs_train,ys_train, Xs_test,ys_test):\n",
    "    clf.fit(Xs_train,ys_train)         \n",
    "    acc= clf.score(Xs_test,ys_test) \n",
    "    print('FINAL MODEL ACCURACY =: \\t{:0.2f}'.format(acc))\n",
    "\n",
    "    f1=fisc(clf, Xs_test,ys_test)\n",
    "    print ('FINAL F1-SCORE=: \\t\\t {:0.2f}'.format(f1))\n",
    "    #print('Improvement of {:0.2f}%.'.format( 100 * (f1))) \n",
    "    return(clf)\n",
    "\n",
    "main_model=evaluate(clf,Xs_train,ys_train, Xs_test,ys_test)\n",
    "#catdata=evaluate(clf, Xcat_train, ycat_train, Xcat_test, ycat_test)\n",
    "#codeddata=evaluate(clf, Xenc_train, yenc_train, Xenc_test,yenc_test)"
   ]
  },
  {
   "cell_type": "code",
   "execution_count": null,
   "id": "3590ee2e",
   "metadata": {
    "papermill": {
     "duration": null,
     "end_time": null,
     "exception": null,
     "start_time": null,
     "status": "pending"
    },
    "tags": []
   },
   "outputs": [],
   "source": [
    "#VALUATE SELECTED MODEL\n",
    "from sklearn.model_selection import cross_val_score\n",
    "print('VALADATION BEFORE OPTIMIZATION')\n",
    "scores = cross_val_score(models, Xs_train,ys_train, scoring='accuracy', cv=cvs, n_jobs=-1, error_score='raise')\n",
    "print('VALIDATION F1_SCORE AND STD =:\\t %.3f (%.3f)' % (np.mean(scores), np.std(scores)))\n",
    "\n",
    "print('VALADATION AFTER OPTIMIZATION')\n",
    "scores2 = cross_val_score(best_model.best_estimator_, Xs_train,ys_train, scoring='accuracy', cv=cvs, n_jobs=-1, error_score='raise')\n",
    "print('VALIDATION F1_SCORE AND STD =:\\t %.3f (%.3f)' % (np.mean(scores2), np.std(scores2)))"
   ]
  },
  {
   "cell_type": "markdown",
   "id": "236af871",
   "metadata": {
    "papermill": {
     "duration": null,
     "end_time": null,
     "exception": null,
     "start_time": null,
     "status": "pending"
    },
    "tags": []
   },
   "source": []
  },
  {
   "cell_type": "markdown",
   "id": "dc150ba5",
   "metadata": {
    "papermill": {
     "duration": null,
     "end_time": null,
     "exception": null,
     "start_time": null,
     "status": "pending"
    },
    "tags": []
   },
   "source": [
    "TESTING THE EVALUATION DATASET"
   ]
  },
  {
   "cell_type": "code",
   "execution_count": null,
   "id": "95688a40",
   "metadata": {
    "papermill": {
     "duration": null,
     "end_time": null,
     "exception": null,
     "start_time": null,
     "status": "pending"
    },
    "tags": []
   },
   "outputs": [],
   "source": [
    "main_model"
   ]
  },
  {
   "cell_type": "code",
   "execution_count": null,
   "id": "abdc933c",
   "metadata": {
    "papermill": {
     "duration": null,
     "end_time": null,
     "exception": null,
     "start_time": null,
     "status": "pending"
    },
    "tags": []
   },
   "outputs": [],
   "source": [
    "test_data = pd.read_csv('https://raw.githubusercontent.com/dphi-official/Datasets/master/pharma_data/Testing_set_begs.csv')"
   ]
  },
  {
   "cell_type": "code",
   "execution_count": null,
   "id": "c04c708e",
   "metadata": {
    "papermill": {
     "duration": null,
     "end_time": null,
     "exception": null,
     "start_time": null,
     "status": "pending"
    },
    "tags": []
   },
   "outputs": [],
   "source": [
    "#test_data.isnull().sum()"
   ]
  },
  {
   "cell_type": "code",
   "execution_count": null,
   "id": "8cbb6e93",
   "metadata": {
    "papermill": {
     "duration": null,
     "end_time": null,
     "exception": null,
     "start_time": null,
     "status": "pending"
    },
    "tags": []
   },
   "outputs": [],
   "source": [
    "dff=test_data "
   ]
  },
  {
   "cell_type": "code",
   "execution_count": null,
   "id": "3bcde788",
   "metadata": {
    "papermill": {
     "duration": null,
     "end_time": null,
     "exception": null,
     "start_time": null,
     "status": "pending"
    },
    "tags": []
   },
   "outputs": [],
   "source": [
    "dff.shape"
   ]
  },
  {
   "cell_type": "code",
   "execution_count": null,
   "id": "119b5731",
   "metadata": {
    "papermill": {
     "duration": null,
     "end_time": null,
     "exception": null,
     "start_time": null,
     "status": "pending"
    },
    "tags": []
   },
   "outputs": [],
   "source": [
    "cat_cols2=dff.select_dtypes(object).columns\n",
    "cat_cols2"
   ]
  },
  {
   "cell_type": "code",
   "execution_count": null,
   "id": "6b23acae",
   "metadata": {
    "papermill": {
     "duration": null,
     "end_time": null,
     "exception": null,
     "start_time": null,
     "status": "pending"
    },
    "tags": []
   },
   "outputs": [],
   "source": [
    "# IMPUTE CATEGORICAL VARIABLES WITH FREQUENCY OF THE FEATURE COLUMNS\n",
    "# MULTIPLE COLUMNS FREQUNCY ENCODING                                           \n",
    "for j in cat_cols2:    \n",
    "    encoding = dff.groupby(j).size()\n",
    "    encoding = encoding/len(dff)   #calculates frequency\n",
    "    dff[j] = dff[j].map(encoding)\n",
    "dff.head(2)"
   ]
  },
  {
   "cell_type": "code",
   "execution_count": null,
   "id": "4592c8ec",
   "metadata": {
    "papermill": {
     "duration": null,
     "end_time": null,
     "exception": null,
     "start_time": null,
     "status": "pending"
    },
    "tags": []
   },
   "outputs": [],
   "source": [
    "scaled_df=sc.fit_transform(dff)\n",
    "scaled_df"
   ]
  },
  {
   "cell_type": "code",
   "execution_count": null,
   "id": "54b6f410",
   "metadata": {
    "papermill": {
     "duration": null,
     "end_time": null,
     "exception": null,
     "start_time": null,
     "status": "pending"
    },
    "tags": []
   },
   "outputs": [],
   "source": [
    "predicted=models.predict(scaled_df)\n",
    "predicted"
   ]
  },
  {
   "cell_type": "code",
   "execution_count": null,
   "id": "6edcade1",
   "metadata": {
    "papermill": {
     "duration": null,
     "end_time": null,
     "exception": null,
     "start_time": null,
     "status": "pending"
    },
    "tags": []
   },
   "outputs": [],
   "source": []
  },
  {
   "cell_type": "code",
   "execution_count": null,
   "id": "27000fdf",
   "metadata": {
    "papermill": {
     "duration": null,
     "end_time": null,
     "exception": null,
     "start_time": null,
     "status": "pending"
    },
    "tags": []
   },
   "outputs": [],
   "source": [
    "#scaled_df['prediction']=predicted"
   ]
  },
  {
   "cell_type": "code",
   "execution_count": null,
   "id": "93da030e",
   "metadata": {
    "papermill": {
     "duration": null,
     "end_time": null,
     "exception": null,
     "start_time": null,
     "status": "pending"
    },
    "tags": []
   },
   "outputs": [],
   "source": [
    "dframes=pd.DataFrame(data=predicted, columns=['predicted'])\n",
    "dframes"
   ]
  },
  {
   "cell_type": "code",
   "execution_count": null,
   "id": "e445b75c",
   "metadata": {
    "papermill": {
     "duration": null,
     "end_time": null,
     "exception": null,
     "start_time": null,
     "status": "pending"
    },
    "tags": []
   },
   "outputs": [],
   "source": [
    "                                  #   CONVERT FINAL DATASFRAME TO CSV\n",
    "filename='glsam_datathonCATS'\n",
    "dframes.to_csv('G:\\\\My Drive\\\\2022 Course DPHI\\\\{}'.format(filename + '.csv'), sep=',', header=True, index=False)"
   ]
  },
  {
   "cell_type": "markdown",
   "id": "f1f0fc74",
   "metadata": {
    "papermill": {
     "duration": null,
     "end_time": null,
     "exception": null,
     "start_time": null,
     "status": "pending"
    },
    "tags": []
   },
   "source": []
  },
  {
   "cell_type": "markdown",
   "id": "b1e4d866",
   "metadata": {
    "papermill": {
     "duration": null,
     "end_time": null,
     "exception": null,
     "start_time": null,
     "status": "pending"
    },
    "tags": []
   },
   "source": [
    "USING AND SAVING THE MODEL"
   ]
  },
  {
   "cell_type": "code",
   "execution_count": null,
   "id": "1e9908b2",
   "metadata": {
    "papermill": {
     "duration": null,
     "end_time": null,
     "exception": null,
     "start_time": null,
     "status": "pending"
    },
    "tags": []
   },
   "outputs": [],
   "source": [
    "###########    USING THE MODEL\n",
    "def use_Model(arr):\n",
    "   #if the data has no missing vaue, then  \n",
    "   sett=sc.fit_transform(arr)   \n",
    "   predict= models.predict(sett)\n",
    "\n",
    "   if (predict==0):\n",
    "      print('Congratulations, you have no traces of  liver problem')\n",
    "   else:\n",
    "      print('Sorry to say this, you have a possibility of getting liver problem')\n",
    "      \n",
    "print('ENTER DETAILS TO CHECK STATUS')\n",
    "print('\\n#####################')\n",
    "use_Model([[19150,40,3709,0.080297,16,29.443894,0.573256,0.698914,1.0,1.0,0.0,0.0,0.0,1.0,0.0,0.0,2.0]])"
   ]
  },
  {
   "cell_type": "code",
   "execution_count": null,
   "id": "5478bef8",
   "metadata": {
    "papermill": {
     "duration": null,
     "end_time": null,
     "exception": null,
     "start_time": null,
     "status": "pending"
    },
    "tags": []
   },
   "outputs": [],
   "source": [
    "# SAVE THE MODEL FOR FUTURE USE\n",
    "import joblib\n",
    "\n",
    "# save the model to disk\n",
    "f_name = 'liverdata.sav'\n",
    "joblib.dump(models, f_name)"
   ]
  },
  {
   "cell_type": "code",
   "execution_count": null,
   "id": "1919329d",
   "metadata": {
    "papermill": {
     "duration": null,
     "end_time": null,
     "exception": null,
     "start_time": null,
     "status": "pending"
    },
    "tags": []
   },
   "outputs": [],
   "source": [
    "#LOAD MODEL LATER\n",
    "newx=[[]]      \n",
    "# load the model from disk\n",
    "saved_model = joblib.load(f_name)\n",
    "new_model = saved_model.predict([[newx]])\n",
    "#result = saved_model.score(newx, newy)\n",
    "#print(result)"
   ]
  }
 ],
 "metadata": {
  "kernelspec": {
   "display_name": "Python 3",
   "language": "python",
   "name": "python3"
  },
  "language_info": {
   "codemirror_mode": {
    "name": "ipython",
    "version": 3
   },
   "file_extension": ".py",
   "mimetype": "text/x-python",
   "name": "python",
   "nbconvert_exporter": "python",
   "pygments_lexer": "ipython3",
   "version": "3.9.7"
  },
  "papermill": {
   "default_parameters": {},
   "duration": 32.545644,
   "end_time": "2022-05-02T01:18:32.473787",
   "environment_variables": {},
   "exception": true,
   "input_path": "__notebook__.ipynb",
   "output_path": "__notebook__.ipynb",
   "parameters": {},
   "start_time": "2022-05-02T01:17:59.928143",
   "version": "2.3.4"
  }
 },
 "nbformat": 4,
 "nbformat_minor": 5
}
